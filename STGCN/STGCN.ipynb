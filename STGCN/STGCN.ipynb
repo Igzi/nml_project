{
 "cells": [
  {
   "cell_type": "code",
   "execution_count": 1,
   "metadata": {},
   "outputs": [],
   "source": [
    "from pathlib import Path\n",
    "\n",
    "import numpy as np\n",
    "import pandas as pd\n",
    "import matplotlib.pyplot as plt\n",
    "from scipy import signal\n",
    "from sklearn.model_selection import train_test_split\n",
    "\n",
    "from seiz_eeg.dataset import EEGDataset"
   ]
  },
  {
   "cell_type": "markdown",
   "metadata": {},
   "source": [
    "# The data\n",
    "\n",
    "We model *segments* of brain activity, which correspond to windows of a longer *session* of EEG recording.\n",
    "\n",
    "These segments, and their labels, are described in the `segments.parquet` files, which can be directly loaded with `pandas`."
   ]
  },
  {
   "cell_type": "code",
   "execution_count": null,
   "metadata": {},
   "outputs": [],
   "source": [
    "# You might need to change this according to where you store the data folder\n",
    "# Inside your data folder, you should have the following structure:\n",
    "# data\n",
    "# ├── train\n",
    "# │   ├── signals/\n",
    "# │   ├── segments.parquet\n",
    "# │-- test\n",
    "#     ├── signals/\n",
    "#     ├── segments.parquet\n",
    "\n",
    "data_path = \"./data\"\n",
    "\n",
    "DATA_ROOT = Path(data_path)\n",
    "clips_tr = pd.read_parquet(DATA_ROOT / \"train/segments.parquet\")\n",
    "\n",
    "# Split the dataset by the 'patient' column\n",
    "patients = clips_tr['signals_path'].unique()\n",
    "train_patients, val_patients = train_test_split(patients, test_size=0.2, random_state=42)\n",
    "\n",
    "# Create training and validation datasets\n",
    "train_clips = clips_tr[clips_tr['signals_path'].isin(train_patients)]\n",
    "val_clips = clips_tr[clips_tr['signals_path'].isin(val_patients)]"
   ]
  },
  {
   "cell_type": "markdown",
   "metadata": {},
   "source": [
    "## Loading the signals\n",
    "\n",
    "For convenience, the `EEGDataset class` provides functionality for loading each segment and its label as `numpy` arrays.\n",
    "\n",
    "You can provide an optional `signal_transform` function to preprocess the signals. In the example below, we have two bandpass filtering functions, which extract frequencies between 0.5Hz and 30Hz which are used in seizure analysis literature:\n",
    "\n",
    "The `EEGDataset` class also allows to load all data in memory, instead of reading it from disk at every iteration. If your compute allows it, you can use `prefetch=True`."
   ]
  },
  {
   "cell_type": "code",
   "execution_count": 3,
   "metadata": {},
   "outputs": [],
   "source": [
    "bp_filter = signal.butter(4, (0.5, 30), btype=\"bandpass\", output=\"sos\", fs=250)\n",
    "\n",
    "\n",
    "def time_filtering(x: np.ndarray) -> np.ndarray:\n",
    "    \"\"\"Filter signal in the time domain\"\"\"\n",
    "    return signal.sosfiltfilt(bp_filter, x, axis=0).copy()\n",
    "\n",
    "\n",
    "def fft_filtering(x: np.ndarray) -> np.ndarray:\n",
    "    \"\"\"Compute FFT and only keep\"\"\"\n",
    "    x = np.abs(np.fft.fft(x, axis=0))\n",
    "    x = np.log(np.where(x > 1e-8, x, 1e-8))\n",
    "\n",
    "    win_len = x.shape[0]\n",
    "    # Only frequencies b/w 0.5 and 30Hz\n",
    "    return x[int(0.5 * win_len // 250) : 30 * win_len // 250]"
   ]
  },
  {
   "cell_type": "markdown",
   "metadata": {},
   "source": [
    "## Compatibility with PyTorch\n",
    "\n",
    "The `EEGDataset` class is compatible with [pytorch datasets and dataloaders](https://pytorch.org/tutorials/beginner/basics/data_tutorial.html), which allow you to load batched data."
   ]
  },
  {
   "cell_type": "code",
   "execution_count": 4,
   "metadata": {},
   "outputs": [],
   "source": [
    "# Dependences\n",
    "import os\n",
    "import random\n",
    "\n",
    "import numpy as np\n",
    "\n",
    "import torch\n",
    "import torch.nn as nn\n",
    "import torch.optim as optim\n",
    "from torch.utils.data import DataLoader\n",
    "\n",
    "from tqdm import tqdm"
   ]
  },
  {
   "cell_type": "code",
   "execution_count": 5,
   "metadata": {},
   "outputs": [],
   "source": [
    "def seed_everything(seed: int):\n",
    "    # Python random module\n",
    "    random.seed(seed)\n",
    "    # Numpy random module\n",
    "    np.random.seed(seed)\n",
    "    # Torch random seeds\n",
    "    torch.manual_seed(seed)\n",
    "    torch.cuda.manual_seed(seed)\n",
    "    torch.cuda.manual_seed_all(seed)  # if you are using multi-GPU.\n",
    "\n",
    "    # Set PYTHONHASHSEED environment variable for hash-based operations\n",
    "    os.environ[\"PYTHONHASHSEED\"] = str(seed)\n",
    "\n",
    "    # Ensure deterministic behavior in cudnn (may slow down your training)\n",
    "    torch.backends.cudnn.deterministic = True\n",
    "    torch.backends.cudnn.benchmark = False\n",
    "\n",
    "\n",
    "seed_everything(1)"
   ]
  },
  {
   "cell_type": "code",
   "execution_count": 6,
   "metadata": {},
   "outputs": [],
   "source": [
    "train_dataset = EEGDataset(\n",
    "        train_clips,\n",
    "        signals_root=DATA_ROOT / \"train\",\n",
    "        signal_transform=fft_filtering,\n",
    "        prefetch=True,  # If your compute does not allow it, you can use `prefetch=False`\n",
    "    )\n",
    "\n",
    "val_dataset = EEGDataset(\n",
    "        val_clips,\n",
    "        signals_root=DATA_ROOT / \"train\",\n",
    "        signal_transform=fft_filtering,\n",
    "        prefetch=True,  # If your compute does not allow it, you can use `prefetch=False`\n",
    "    )\n",
    "\n",
    "loader_tr = DataLoader(\n",
    "        dataset=train_dataset,\n",
    "        shuffle=True,\n",
    "        batch_size=512,\n",
    "    )\n",
    "\n",
    "loader_val = DataLoader(\n",
    "        dataset=val_dataset,\n",
    "        shuffle=True,\n",
    "        batch_size=512,\n",
    "    )"
   ]
  },
  {
   "cell_type": "code",
   "execution_count": 7,
   "metadata": {},
   "outputs": [
    {
     "name": "stdout",
     "output_type": "stream",
     "text": [
      "Using device: cuda\n"
     ]
    }
   ],
   "source": [
    "# Set up device\n",
    "device = torch.device(\"cuda\" if torch.cuda.is_available() else \"cpu\")\n",
    "print(\"Using device:\", device)"
   ]
  },
  {
   "cell_type": "code",
   "execution_count": 19,
   "metadata": {},
   "outputs": [
    {
     "name": "stdout",
     "output_type": "stream",
     "text": [
      "torch.Size([1, 19, 19])\n"
     ]
    }
   ],
   "source": [
    "adj = np.genfromtxt('./data/distances_3d.csv', skip_header=1, delimiter=',')[:, -1].reshape(19,19)\n",
    "adj = torch.tensor(adj, dtype=torch.float32).to(device).unsqueeze(0)\n",
    "print(adj.shape)"
   ]
  },
  {
   "cell_type": "markdown",
   "metadata": {},
   "source": [
    "## Spatial Temporal Graph Convolution Network\n",
    "\n",
    "In this section, we train a bidirectional lstm model with an mlp for the sequence classification."
   ]
  },
  {
   "cell_type": "code",
   "execution_count": 9,
   "metadata": {},
   "outputs": [],
   "source": [
    "import torch\n",
    "import torch.nn as nn\n",
    "import torch.nn.functional as F\n",
    "\n",
    "class STGCNBlock(nn.Module):\n",
    "    def __init__(self, in_channels, out_channels, A, stride=1, residual=False, dropout=0.3):\n",
    "        super(STGCNBlock, self).__init__()\n",
    "        self.A = A\n",
    "        self.K = A.size(0)\n",
    "\n",
    "        self.graph_conv = nn.Conv2d(in_channels, out_channels * self.K, kernel_size=1)\n",
    "\n",
    "        self.temporal_conv = nn.Sequential(\n",
    "            nn.BatchNorm2d(out_channels),\n",
    "            nn.ReLU(),\n",
    "            nn.Conv2d(out_channels, out_channels, kernel_size=(5, 1), stride=(stride, 1), padding=(2, 0)),\n",
    "            nn.BatchNorm2d(out_channels),\n",
    "            nn.Dropout(dropout),  # 🆕 Dropout added here\n",
    "        )\n",
    "\n",
    "        if not residual:\n",
    "            self.residual = lambda x: 0\n",
    "        elif in_channels == out_channels and stride == 1:\n",
    "            self.residual = nn.Identity()\n",
    "        else:\n",
    "            self.residual = nn.Sequential(\n",
    "                nn.Conv2d(in_channels, out_channels, kernel_size=1, stride=(stride, 1)),\n",
    "                nn.BatchNorm2d(out_channels),\n",
    "            )\n",
    "\n",
    "        self.relu = nn.ReLU()\n",
    "\n",
    "    def forward(self, x):\n",
    "        res = x\n",
    "        N, C, T, V = x.size()\n",
    "        x_gc = self.graph_conv(x)\n",
    "        x_gc = x_gc.view(N, self.K, -1, T, V)\n",
    "        x = torch.einsum('nkctv,kvw->nctw', x_gc, self.A)\n",
    "        x = self.temporal_conv(x) + self.residual(res)\n",
    "        return self.relu(x)\n",
    "\n",
    "\n",
    "class STGCN(nn.Module):\n",
    "    def __init__(self, in_channels, num_classes, A, edge_importance_weighting=True, dropout=0.3):\n",
    "        super(STGCN, self).__init__()\n",
    "        self.A = A\n",
    "        self.edge_importance = nn.Parameter(torch.ones(A.shape)) if edge_importance_weighting else 1\n",
    "\n",
    "        self.stgcn_blocks = nn.ModuleList([\n",
    "            STGCNBlock(in_channels, 32, A, dropout=dropout),\n",
    "            STGCNBlock(32, 32, A, dropout=dropout),\n",
    "            STGCNBlock(32, 64, A, stride=2, dropout=dropout),\n",
    "            STGCNBlock(64, 64, A, dropout=dropout),\n",
    "            STGCNBlock(64, 128, A, stride=2, dropout=dropout),\n",
    "        ])\n",
    "\n",
    "        self.fc = nn.Sequential(\n",
    "            nn.Dropout(dropout),         # 🆕 Optional: dropout before final linear\n",
    "            nn.Linear(128, num_classes)\n",
    "        )\n",
    "\n",
    "    def forward(self, x):\n",
    "        x = x.unsqueeze(1) if x.dim() == 3 else x  # (N, C, T, V)\n",
    "        A = self.A * self.edge_importance\n",
    "        for block in self.stgcn_blocks:\n",
    "            x = block(x)\n",
    "        x = F.avg_pool2d(x, x.size()[2:])  # Global avg pooling\n",
    "        x = x.view(x.size(0), -1)\n",
    "        return self.fc(x)\n"
   ]
  },
  {
   "cell_type": "code",
   "execution_count": 20,
   "metadata": {},
   "outputs": [],
   "source": [
    "model = STGCN(num_classes=1, in_channels=1, A=adj).to(device)\n",
    "class_weight = 4\n",
    "criterion = nn.BCEWithLogitsLoss(pos_weight=torch.FloatTensor([class_weight]).to(device))\n",
    "optimizer = optim.Adam(model.parameters(), lr=1e-3)"
   ]
  },
  {
   "cell_type": "code",
   "execution_count": 21,
   "metadata": {},
   "outputs": [
    {
     "name": "stdout",
     "output_type": "stream",
     "text": [
      "Number of model parameters: 150922\n"
     ]
    }
   ],
   "source": [
    "num_params = sum(p.numel() for p in model.parameters())\n",
    "print(f\"Number of model parameters: {num_params}\")"
   ]
  },
  {
   "cell_type": "code",
   "execution_count": 22,
   "metadata": {},
   "outputs": [
    {
     "name": "stderr",
     "output_type": "stream",
     "text": [
      "Training:  10%|██████▏                                                       | 1/10 [00:12<01:53, 12.63s/it]"
     ]
    },
    {
     "name": "stdout",
     "output_type": "stream",
     "text": [
      "0.677047154330132\n"
     ]
    },
    {
     "name": "stderr",
     "output_type": "stream",
     "text": [
      "Training:  20%|████████████▍                                                 | 2/10 [00:24<01:39, 12.45s/it]"
     ]
    },
    {
     "name": "stdout",
     "output_type": "stream",
     "text": [
      "0.6974249809861465\n"
     ]
    },
    {
     "name": "stderr",
     "output_type": "stream",
     "text": [
      "Training:  30%|██████████████████▌                                           | 3/10 [00:37<01:27, 12.47s/it]"
     ]
    },
    {
     "name": "stdout",
     "output_type": "stream",
     "text": [
      "0.7288604739766011\n"
     ]
    },
    {
     "name": "stderr",
     "output_type": "stream",
     "text": [
      "Training:  40%|████████████████████████▊                                     | 4/10 [00:49<01:14, 12.45s/it]"
     ]
    },
    {
     "name": "stdout",
     "output_type": "stream",
     "text": [
      "0.7307021008588815\n"
     ]
    },
    {
     "name": "stderr",
     "output_type": "stream",
     "text": [
      "Training:  50%|███████████████████████████████                               | 5/10 [01:02<01:02, 12.44s/it]"
     ]
    },
    {
     "name": "stdout",
     "output_type": "stream",
     "text": [
      "0.7129742022106729\n"
     ]
    },
    {
     "name": "stderr",
     "output_type": "stream",
     "text": [
      "Training:  60%|█████████████████████████████████████▏                        | 6/10 [01:14<00:49, 12.48s/it]"
     ]
    },
    {
     "name": "stdout",
     "output_type": "stream",
     "text": [
      "0.6993133318379383\n"
     ]
    },
    {
     "name": "stderr",
     "output_type": "stream",
     "text": [
      "Training:  70%|███████████████████████████████████████████▍                  | 7/10 [01:26<00:37, 12.36s/it]"
     ]
    },
    {
     "name": "stdout",
     "output_type": "stream",
     "text": [
      "0.7008793356130922\n"
     ]
    },
    {
     "name": "stderr",
     "output_type": "stream",
     "text": [
      "Training:  80%|█████████████████████████████████████████████████▌            | 8/10 [01:39<00:24, 12.45s/it]"
     ]
    },
    {
     "name": "stdout",
     "output_type": "stream",
     "text": [
      "0.763235796071617\n"
     ]
    },
    {
     "name": "stderr",
     "output_type": "stream",
     "text": [
      "Training:  90%|███████████████████████████████████████████████████████▊      | 9/10 [01:51<00:12, 12.35s/it]"
     ]
    },
    {
     "name": "stdout",
     "output_type": "stream",
     "text": [
      "0.7043956571740397\n"
     ]
    },
    {
     "name": "stderr",
     "output_type": "stream",
     "text": [
      "Training: 100%|█████████████████████████████████████████████████████████████| 10/10 [02:04<00:00, 12.42s/it]"
     ]
    },
    {
     "name": "stdout",
     "output_type": "stream",
     "text": [
      "0.6908826648478734\n"
     ]
    },
    {
     "name": "stderr",
     "output_type": "stream",
     "text": [
      "\n"
     ]
    }
   ],
   "source": [
    "from sklearn.metrics import f1_score, precision_score, recall_score\n",
    "\n",
    "# Training loop\n",
    "num_epochs = 10\n",
    "train_losses = []\n",
    "val_losses = []\n",
    "val_f1_scores = []\n",
    "val_precision_scores = []\n",
    "val_recall_scores = []\n",
    "val_best_thresholds = []\n",
    "\n",
    "for epoch in tqdm(range(num_epochs), desc=\"Training\"):\n",
    "    model.train()\n",
    "    running_loss = 0.0\n",
    "\n",
    "    for x_batch, y_batch in loader_tr:\n",
    "        # Move data to GPU (if available)\n",
    "        x_batch = x_batch.float().to(device)  # [batch_size, seq_len, input_dim]\n",
    "        y_batch = y_batch.float().unsqueeze(1).to(device)  # [batch_size, 1]\n",
    "\n",
    "        # Forward pass\n",
    "        logits = model(x_batch)\n",
    "        loss = criterion(logits, y_batch)\n",
    "\n",
    "        # Backward pass\n",
    "        optimizer.zero_grad()\n",
    "        loss.backward()\n",
    "        optimizer.step()\n",
    "\n",
    "        running_loss += loss.item()\n",
    "\n",
    "    avg_loss = running_loss / len(loader_tr)\n",
    "    train_losses.append(avg_loss)\n",
    "\n",
    "    # Validation phase\n",
    "    model.eval()\n",
    "    val_running_loss = 0.0\n",
    "    all_labels = []\n",
    "    all_preds = []\n",
    "\n",
    "    with torch.no_grad():\n",
    "        for x_val, y_val in loader_val:\n",
    "            # Move data to GPU (if available)\n",
    "            x_val = x_val.float().to(device)  # [batch_size, seq_len, input_dim]\n",
    "            y_val = y_val.float().unsqueeze(1).to(device)  # [batch_size, 1]\n",
    "\n",
    "            # Forward pass\n",
    "            val_logits = model(x_val)\n",
    "            val_probs = torch.sigmoid(val_logits)  # Apply sigmoid for binary classification\n",
    "            val_preds = (val_probs > 0.5).int()  # Convert probabilities to binary predictions\n",
    "\n",
    "            # Collect all labels and predictions\n",
    "            all_labels.extend(y_val.cpu().numpy())\n",
    "            all_preds.extend(val_preds.cpu().numpy())\n",
    "\n",
    "            # Compute validation loss\n",
    "            val_loss = criterion(val_logits, y_val)\n",
    "            val_running_loss += val_loss.item()\n",
    "\n",
    "    avg_val_loss = val_running_loss / len(loader_val)\n",
    "    val_losses.append(avg_val_loss)\n",
    "\n",
    "    # Compute metrics for validation data\n",
    "    all_labels = np.array(all_labels).flatten()\n",
    "    all_preds = np.array(all_preds).flatten()\n",
    "    val_f1 = f1_score(all_labels, all_preds, average='macro')\n",
    "    val_precision = precision_score(all_labels, all_preds, average='macro')\n",
    "    val_recall = recall_score(all_labels, all_preds, average='macro')\n",
    "    val_f1_scores.append(val_f1)\n",
    "    val_precision_scores.append(val_precision)\n",
    "    val_recall_scores.append(val_recall)\n",
    "    print(val_f1)"
   ]
  },
  {
   "cell_type": "code",
   "execution_count": 23,
   "metadata": {},
   "outputs": [
    {
     "data": {
      "image/png": "[encoded data removed]",
      "text/plain": [
       "<Figure size 600x400 with 1 Axes>"
      ]
     },
     "metadata": {},
     "output_type": "display_data"
    }
   ],
   "source": [
    "# Plot the training loss\n",
    "import matplotlib.pyplot as plt\n",
    "\n",
    "plt.figure(figsize=(6, 4))\n",
    "plt.plot(range(1, num_epochs + 1), train_losses, marker=\"o\")\n",
    "plt.plot(range(1, num_epochs + 1), val_losses, marker=\"o\")\n",
    "plt.plot(range(1, num_epochs + 1), val_f1_scores, marker=\"o\")\n",
    "#plt.plot(range(1, num_epochs + 1), val_precision_scores, marker=\"o\")\n",
    "#plt.plot(range(1, num_epochs + 1), val_recall_scores, marker=\"o\")\n",
    "plt.title(\"Loss Over Epochs\")\n",
    "plt.legend([\"Train\", \"Validation\", \"Validation F1 Score\", \"Validation Precision\", \"Validation Recall\"])\n",
    "plt.xlabel(\"Epoch\")\n",
    "plt.ylabel(\"Loss\")\n",
    "plt.grid(True)\n",
    "plt.show()"
   ]
  },
  {
   "cell_type": "code",
   "execution_count": null,
   "metadata": {},
   "outputs": [
    {
     "name": "stdout",
     "output_type": "stream",
     "text": [
      "Fold 1/5\n",
      "Fold 1 F1 Score: 0.6951\n",
      "Fold 2/5\n",
      "Fold 2 F1 Score: 0.6570\n",
      "Fold 3/5\n",
      "Fold 3 F1 Score: 0.6596\n",
      "Fold 4/5\n",
      "Fold 4 F1 Score: 0.6140\n",
      "Fold 5/5\n",
      "Fold 5 F1 Score: 0.6743\n",
      "Cross-Validation Average F1 Score: 0.6600\n",
      "Cross-Validation F1 Score Standard Deviation: 0.0267\n"
     ]
    },
    {
     "data": {
      "text/plain": [
       "(np.float64(0.660012087696017), np.float64(0.026698707178870643))"
      ]
     },
     "execution_count": 24,
     "metadata": {},
     "output_type": "execute_result"
    },
    {
     "ename": "",
     "evalue": "",
     "output_type": "error",
     "traceback": [
      "\u001b[1;31mThe Kernel crashed while executing code in the current cell or a previous cell. \n",
      "\u001b[1;31mPlease review the code in the cell(s) to identify a possible cause of the failure. \n",
      "\u001b[1;31mClick <a href='https://aka.ms/vscodeJupyterKernelCrash'>here</a> for more info. \n",
      "\u001b[1;31mView Jupyter <a href='command:jupyter.viewOutput'>log</a> for further details."
     ]
    }
   ],
   "source": [
    "from evaluation import evaluate\n",
    "\n",
    "data_path = \"./data\"\n",
    "\n",
    "DATA_ROOT = Path(data_path)\n",
    "clips_tr = pd.read_parquet(DATA_ROOT / \"train/segments.parquet\")\n",
    "\n",
    "class_weight = 4\n",
    "criterion = nn.BCEWithLogitsLoss(pos_weight=torch.FloatTensor([class_weight]).to(device))\n",
    "\n",
    "evaluate(\n",
    "    STGCN,\n",
    "    clips_tr,\n",
    "    signals_root=DATA_ROOT / \"train\",\n",
    "    num_epochs=5,\n",
    "    learning_rate=1e-3,\n",
    "    model_args={\n",
    "        \"num_classes\": 1,\n",
    "        \"in_channels\": 1,\n",
    "        \"A\": adj,\n",
    "    },\n",
    "    criterion=criterion,\n",
    "    signal_transform=fft_filtering,\n",
    "    batch_size=512,\n",
    "    prefetch=True,  # If your compute does not allow it, you can use `prefetch=False`\n",
    ")"
   ]
  }
 ],
 "metadata": {
  "kernelspec": {
   "display_name": "Python 3 (ipykernel)",
   "language": "python",
   "name": "python3"
  },
  "language_info": {
   "codemirror_mode": {
    "name": "ipython",
    "version": 3
   },
   "file_extension": ".py",
   "mimetype": "text/x-python",
   "name": "python",
   "nbconvert_exporter": "python",
   "pygments_lexer": "ipython3",
   "version": "3.10.4"
  }
 },
 "nbformat": 4,
 "nbformat_minor": 2
}
