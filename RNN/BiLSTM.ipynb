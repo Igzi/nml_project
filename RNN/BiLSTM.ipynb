{
 "cells": [
  {
   "cell_type": "code",
   "execution_count": 1,
   "metadata": {},
   "outputs": [],
   "source": [
    "from pathlib import Path\n",
    "\n",
    "import numpy as np\n",
    "import pandas as pd\n",
    "import matplotlib.pyplot as plt\n",
    "from scipy import signal\n",
    "from sklearn.model_selection import train_test_split\n",
    "\n",
    "from seiz_eeg.dataset import EEGDataset"
   ]
  },
  {
   "cell_type": "markdown",
   "metadata": {},
   "source": [
    "# The data\n",
    "\n",
    "We model *segments* of brain activity, which correspond to windows of a longer *session* of EEG recording.\n",
    "\n",
    "These segments, and their labels, are described in the `segments.parquet` files, which can be directly loaded with `pandas`."
   ]
  },
  {
   "cell_type": "code",
   "execution_count": null,
   "metadata": {},
   "outputs": [],
   "source": [
    "# You might need to change this according to where you store the data folder\n",
    "# Inside your data folder, you should have the following structure:\n",
    "# data\n",
    "# ├── train\n",
    "# │   ├── signals/\n",
    "# │   ├── segments.parquet\n",
    "# │-- test\n",
    "#     ├── signals/\n",
    "#     ├── segments.parquet\n",
    "\n",
    "data_path = \"../data\"\n",
    "\n",
    "DATA_ROOT = Path(data_path)\n",
    "clips_tr = pd.read_parquet(DATA_ROOT / \"train/segments.parquet\")\n",
    "\n",
    "# Split the dataset by the 'patient' column\n",
    "patients = clips_tr['signals_path'].unique()\n",
    "train_patients, val_patients = train_test_split(patients, test_size=0.2, random_state=42)\n",
    "\n",
    "# Create training and validation datasets\n",
    "train_clips = clips_tr[clips_tr['signals_path'].isin(train_patients)]\n",
    "val_clips = clips_tr[clips_tr['signals_path'].isin(val_patients)]"
   ]
  },
  {
   "cell_type": "markdown",
   "metadata": {},
   "source": [
    "## Loading the signals\n",
    "\n",
    "For convenience, the `EEGDataset class` provides functionality for loading each segment and its label as `numpy` arrays.\n",
    "\n",
    "You can provide an optional `signal_transform` function to preprocess the signals. In the example below, we have two bandpass filtering functions, which extract frequencies between 0.5Hz and 30Hz which are used in seizure analysis literature:\n",
    "\n",
    "The `EEGDataset` class also allows to load all data in memory, instead of reading it from disk at every iteration. If your compute allows it, you can use `prefetch=True`."
   ]
  },
  {
   "cell_type": "code",
   "execution_count": 2,
   "metadata": {},
   "outputs": [],
   "source": [
    "bp_filter = signal.butter(4, (0.5, 30), btype=\"bandpass\", output=\"sos\", fs=250)\n",
    "\n",
    "\n",
    "def time_filtering(x: np.ndarray) -> np.ndarray:\n",
    "    \"\"\"Filter signal in the time domain\"\"\"\n",
    "    return signal.sosfiltfilt(bp_filter, x, axis=0).copy()\n",
    "\n",
    "\n",
    "def fft_filtering(x: np.ndarray) -> np.ndarray:\n",
    "    \"\"\"Compute FFT and only keep\"\"\"\n",
    "    x = np.abs(np.fft.fft(x, axis=0))\n",
    "    x = np.log(np.where(x > 1e-8, x, 1e-8))\n",
    "\n",
    "    win_len = x.shape[0]\n",
    "    # Only frequencies b/w 0.5 and 30Hz\n",
    "    return x[int(0.5 * win_len // 250) : 30 * win_len // 250]"
   ]
  },
  {
   "cell_type": "markdown",
   "metadata": {},
   "source": [
    "## Compatibility with PyTorch\n",
    "\n",
    "The `EEGDataset` class is compatible with [pytorch datasets and dataloaders](https://pytorch.org/tutorials/beginner/basics/data_tutorial.html), which allow you to load batched data."
   ]
  },
  {
   "cell_type": "code",
   "execution_count": 3,
   "metadata": {},
   "outputs": [],
   "source": [
    "# Dependences\n",
    "import os\n",
    "import random\n",
    "\n",
    "import numpy as np\n",
    "\n",
    "import torch\n",
    "import torch.nn as nn\n",
    "import torch.optim as optim\n",
    "from torch.utils.data import DataLoader\n",
    "\n",
    "from tqdm import tqdm"
   ]
  },
  {
   "cell_type": "code",
   "execution_count": 5,
   "metadata": {},
   "outputs": [],
   "source": [
    "def seed_everything(seed: int):\n",
    "    # Python random module\n",
    "    random.seed(seed)\n",
    "    # Numpy random module\n",
    "    np.random.seed(seed)\n",
    "    # Torch random seeds\n",
    "    torch.manual_seed(seed)\n",
    "    torch.cuda.manual_seed(seed)\n",
    "    torch.cuda.manual_seed_all(seed)  # if you are using multi-GPU.\n",
    "\n",
    "    # Set PYTHONHASHSEED environment variable for hash-based operations\n",
    "    os.environ[\"PYTHONHASHSEED\"] = str(seed)\n",
    "\n",
    "    # Ensure deterministic behavior in cudnn (may slow down your training)\n",
    "    torch.backends.cudnn.deterministic = True\n",
    "    torch.backends.cudnn.benchmark = False\n",
    "\n",
    "\n",
    "seed_everything(1)"
   ]
  },
  {
   "cell_type": "code",
   "execution_count": 6,
   "metadata": {},
   "outputs": [],
   "source": [
    "train_dataset = EEGDataset(\n",
    "        train_clips,\n",
    "        signals_root=DATA_ROOT / \"train\",\n",
    "        signal_transform=fft_filtering,\n",
    "        prefetch=True,  # If your compute does not allow it, you can use `prefetch=False`\n",
    "    )\n",
    "\n",
    "val_dataset = EEGDataset(\n",
    "        val_clips,\n",
    "        signals_root=DATA_ROOT / \"train\",\n",
    "        signal_transform=fft_filtering,\n",
    "        prefetch=True,  # If your compute does not allow it, you can use `prefetch=False`\n",
    "    )\n",
    "\n",
    "loader_tr = DataLoader(\n",
    "        dataset=train_dataset,\n",
    "        shuffle=True,\n",
    "        batch_size=512,\n",
    "    )\n",
    "\n",
    "loader_val = DataLoader(\n",
    "        dataset=val_dataset,\n",
    "        shuffle=True,\n",
    "        batch_size=512,\n",
    "    )"
   ]
  },
  {
   "cell_type": "code",
   "execution_count": 5,
   "metadata": {},
   "outputs": [
    {
     "name": "stdout",
     "output_type": "stream",
     "text": [
      "Using device: cuda\n"
     ]
    }
   ],
   "source": [
    "# Set up device\n",
    "device = torch.device(\"cuda\" if torch.cuda.is_available() else \"cpu\")\n",
    "print(\"Using device:\", device)"
   ]
  },
  {
   "cell_type": "markdown",
   "metadata": {},
   "source": [
    "## Bidirectional LSTM model for sequential data\n",
    "\n",
    "In this section, we train a bidirectional lstm model with an mlp for the sequence classification."
   ]
  },
  {
   "cell_type": "code",
   "execution_count": 4,
   "metadata": {},
   "outputs": [],
   "source": [
    "class BiLSTM(nn.Module):\n",
    "    def __init__(self, input_dim=19, hidden_dim=64, num_layers=1, dropout=0.2):\n",
    "        super().__init__()\n",
    "        self.lstm = nn.LSTM(\n",
    "            input_dim, \n",
    "            hidden_dim, \n",
    "            num_layers, \n",
    "            batch_first=True, \n",
    "            dropout=dropout, \n",
    "            bidirectional=True  # Enable bidirectional LSTM\n",
    "        )\n",
    "        # Multiply hidden_dim by 6: 2 for bidirectional, 3 for first, last, and mean\n",
    "        self.fc1 = nn.Linear(hidden_dim * 6, hidden_dim)  # First linear layer\n",
    "        self.relu = nn.ReLU()  # ReLU activation\n",
    "        self.fc2 = nn.Linear(hidden_dim, 1)\n",
    "\n",
    "    def forward(self, x):\n",
    "        \"\"\"\n",
    "        x shape: [batch_size, seq_len, input_dim]\n",
    "        \"\"\"\n",
    "        out, (h_n, c_n) = self.lstm(x)  # out shape: [batch_size, seq_len, hidden_dim * 2]\n",
    "        \n",
    "        # Extract the first and last time steps\n",
    "        first_timestep = out[:, 0, :]  # [batch_size, hidden_dim * 2]\n",
    "        last_timestep = out[:, -1, :]  # [batch_size, hidden_dim * 2]\n",
    "        \n",
    "        # Compute the mean across the sequence dimension\n",
    "        mean_timestep = out.mean(dim=1)  # [batch_size, hidden_dim * 2]\n",
    "        \n",
    "        # Concatenate the first, last, and mean time steps\n",
    "        combined = torch.cat((first_timestep, last_timestep, mean_timestep), dim=1)  # [batch_size, hidden_dim * 6]\n",
    "        \n",
    "        # Pass the combined features through the MLP\n",
    "        x = self.fc1(combined)  # [batch_size, hidden_dim * 3]\n",
    "        x = self.relu(x)  # Apply ReLU activation\n",
    "        \n",
    "        # Pass through the second linear layer\n",
    "        logits = self.fc2(x)  # [batch_size, 1]\n",
    "        return logits"
   ]
  },
  {
   "cell_type": "code",
   "execution_count": 28,
   "metadata": {},
   "outputs": [],
   "source": [
    "model = BiLSTM(input_dim=19, hidden_dim=64, num_layers=2, dropout=0.3).to(device)\n",
    "class_weight = 4\n",
    "criterion = nn.BCEWithLogitsLoss(pos_weight=torch.FloatTensor([class_weight]).to(device))\n",
    "optimizer = optim.Adam(model.parameters(), lr=1e-3)"
   ]
  },
  {
   "cell_type": "code",
   "execution_count": 29,
   "metadata": {},
   "outputs": [
    {
     "name": "stderr",
     "output_type": "stream",
     "text": [
      "Training: 100%|███████████████████████████████████████████████████████████████████| 100/100 [01:31<00:00,  1.10it/s]\n"
     ]
    }
   ],
   "source": [
    "from sklearn.metrics import f1_score, precision_score, recall_score\n",
    "\n",
    "# Training loop\n",
    "num_epochs = 100\n",
    "train_losses = []\n",
    "val_losses = []\n",
    "val_f1_scores = []\n",
    "val_precision_scores = []\n",
    "val_recall_scores = []\n",
    "\n",
    "for epoch in tqdm(range(num_epochs), desc=\"Training\"):\n",
    "    model.train()\n",
    "    running_loss = 0.0\n",
    "\n",
    "    for x_batch, y_batch in loader_tr:\n",
    "        # Move data to GPU (if available)\n",
    "        x_batch = x_batch.float().to(device)  # [batch_size, seq_len, input_dim]\n",
    "        y_batch = y_batch.float().unsqueeze(1).to(device)  # [batch_size, 1]\n",
    "\n",
    "        # Forward pass\n",
    "        logits = model(x_batch)\n",
    "        loss = criterion(logits, y_batch)\n",
    "\n",
    "        # Backward pass\n",
    "        optimizer.zero_grad()\n",
    "        loss.backward()\n",
    "        optimizer.step()\n",
    "\n",
    "        running_loss += loss.item()\n",
    "\n",
    "    avg_loss = running_loss / len(loader_tr)\n",
    "    train_losses.append(avg_loss)\n",
    "\n",
    "    # Validation phase\n",
    "    model.eval()\n",
    "    val_running_loss = 0.0\n",
    "    all_labels = []\n",
    "    all_preds = []\n",
    "\n",
    "    with torch.no_grad():\n",
    "        for x_val, y_val in loader_val:\n",
    "            # Move data to GPU (if available)\n",
    "            x_val = x_val.float().to(device)  # [batch_size, seq_len, input_dim]\n",
    "            y_val = y_val.float().unsqueeze(1).to(device)  # [batch_size, 1]\n",
    "\n",
    "            # Forward pass\n",
    "            val_logits = model(x_val)\n",
    "            val_probs = torch.sigmoid(val_logits)  # Apply sigmoid for binary classification\n",
    "            val_preds = (val_probs > 0.5).int()  # Convert probabilities to binary predictions\n",
    "\n",
    "            # Collect all labels and predictions\n",
    "            all_labels.extend(y_val.cpu().numpy())\n",
    "            all_preds.extend(val_preds.cpu().numpy())\n",
    "\n",
    "            # Compute validation loss\n",
    "            val_loss = criterion(val_logits, y_val)\n",
    "            val_running_loss += val_loss.item()\n",
    "\n",
    "    avg_val_loss = val_running_loss / len(loader_val)\n",
    "    val_losses.append(avg_val_loss)\n",
    "\n",
    "    # Compute metrics for validation data\n",
    "    all_labels = np.array(all_labels).flatten()\n",
    "    all_preds = np.array(all_preds).flatten()\n",
    "    val_f1 = f1_score(all_labels, all_preds, average='macro')\n",
    "    val_precision = precision_score(all_labels, all_preds, average='macro')\n",
    "    val_recall = recall_score(all_labels, all_preds, average='macro')\n",
    "    val_f1_scores.append(val_f1)\n",
    "    val_precision_scores.append(val_precision)\n",
    "    val_recall_scores.append(val_recall)"
   ]
  },
  {
   "cell_type": "code",
   "execution_count": 30,
   "metadata": {},
   "outputs": [
    {
     "data": {
      "image/png": "[encoded data removed]",
      "text/plain": [
       "<Figure size 600x400 with 1 Axes>"
      ]
     },
     "metadata": {},
     "output_type": "display_data"
    }
   ],
   "source": [
    "# Plot the training loss\n",
    "import matplotlib.pyplot as plt\n",
    "\n",
    "plt.figure(figsize=(6, 4))\n",
    "plt.plot(range(1, num_epochs + 1), train_losses, marker=\"o\")\n",
    "plt.plot(range(1, num_epochs + 1), val_losses, marker=\"o\")\n",
    "plt.plot(range(1, num_epochs + 1), val_f1_scores, marker=\"o\")\n",
    "#plt.plot(range(1, num_epochs + 1), val_precision_scores, marker=\"o\")\n",
    "#plt.plot(range(1, num_epochs + 1), val_recall_scores, marker=\"o\")\n",
    "plt.title(\"Loss Over Epochs\")\n",
    "plt.legend([\"Train\", \"Validation\", \"Validation F1 Score\", \"Validation Precision\", \"Validation Recall\"])\n",
    "plt.xlabel(\"Epoch\")\n",
    "plt.ylabel(\"Loss\")\n",
    "plt.grid(True)\n",
    "plt.show()"
   ]
  },
  {
   "cell_type": "code",
   "execution_count": 6,
   "metadata": {},
   "outputs": [
    {
     "name": "stdout",
     "output_type": "stream",
     "text": [
      "Fold 1/5\n",
      "Fold 1 F1 Score: 0.7421\n",
      "Fold 2/5\n",
      "Fold 2 F1 Score: 0.6791\n",
      "Fold 3/5\n",
      "Fold 3 F1 Score: 0.6545\n",
      "Fold 4/5\n",
      "Fold 4 F1 Score: 0.6801\n",
      "Fold 5/5\n",
      "Fold 5 F1 Score: 0.7525\n",
      "Cross-Validation Average F1 Score: 0.7017\n",
      "Cross-Validation F1 Score Standard Deviation: 0.0385\n"
     ]
    },
    {
     "data": {
      "text/plain": [
       "(np.float64(0.7016530885776954), np.float64(0.03851483239022346))"
      ]
     },
     "execution_count": 6,
     "metadata": {},
     "output_type": "execute_result"
    }
   ],
   "source": [
    "from evaluation import evaluate\n",
    "\n",
    "data_path = \"../data\"\n",
    "\n",
    "DATA_ROOT = Path(data_path)\n",
    "clips_tr = pd.read_parquet(DATA_ROOT / \"train/segments.parquet\")\n",
    "\n",
    "class_weight = 4\n",
    "criterion = nn.BCEWithLogitsLoss(pos_weight=torch.FloatTensor([class_weight]).to(device))\n",
    "\n",
    "evaluate(\n",
    "    BiLSTM,\n",
    "    clips_tr,\n",
    "    signals_root=DATA_ROOT / \"train\",\n",
    "    num_epochs=100,\n",
    "    learning_rate=1e-3,\n",
    "    model_args={\n",
    "        \"input_dim\": 19,\n",
    "        \"hidden_dim\": 64,\n",
    "        \"num_layers\": 2,\n",
    "        \"dropout\": 0.3\n",
    "    },\n",
    "    criterion=criterion,\n",
    "    signal_transform=fft_filtering,\n",
    "    batch_size=512,\n",
    "    prefetch=True,  # If your compute does not allow it, you can use `prefetch=False`\n",
    ")"
   ]
  },
  {
   "cell_type": "markdown",
   "metadata": {},
   "source": [
    "# Submission"
   ]
  },
  {
   "cell_type": "code",
   "execution_count": null,
   "metadata": {},
   "outputs": [],
   "source": [
    "data_path = \"../data\"\n",
    "\n",
    "DATA_ROOT = Path(data_path)\n",
    "clips_tr = pd.read_parquet(DATA_ROOT / \"train/segments.parquet\")\n",
    "\n",
    "dataset_tr = EEGDataset(\n",
    "    clips_tr,\n",
    "    signals_root=DATA_ROOT / \"train\",\n",
    "    signal_transform=fft_filtering,\n",
    "    prefetch=True,  # If your compute does not allow it, you can use `prefetch=False`\n",
    ")\n",
    "\n",
    "loader_tr = DataLoader(dataset_tr, batch_size=512, shuffle=True)"
   ]
  },
  {
   "cell_type": "code",
   "execution_count": null,
   "metadata": {},
   "outputs": [],
   "source": [
    "test_clips = pd.read_parquet(DATA_ROOT / \"test/segments.parquet\")"
   ]
  },
  {
   "cell_type": "code",
   "execution_count": null,
   "metadata": {},
   "outputs": [],
   "source": [
    "model = BiLSTM(input_dim=19, hidden_dim=64, num_layers=2, dropout=0.3).to(device)\n",
    "class_weight = 4\n",
    "criterion = nn.BCEWithLogitsLoss(pos_weight=torch.FloatTensor([class_weight]).to(device))\n",
    "optimizer = optim.Adam(model.parameters(), lr=1e-3)"
   ]
  },
  {
   "cell_type": "code",
   "execution_count": null,
   "metadata": {},
   "outputs": [
    {
     "name": "stderr",
     "output_type": "stream",
     "text": [
      "Training: 100%|█████████████████████████████████████████████████████████████████████████████████| 100/100 [01:43<00:00,  1.04s/it]\n"
     ]
    }
   ],
   "source": [
    "# Training loop\n",
    "num_epochs = 100\n",
    "train_losses = []\n",
    "\n",
    "for epoch in tqdm(range(num_epochs), desc=\"Training\"):\n",
    "    model.train()\n",
    "    running_loss = 0.0\n",
    "\n",
    "    for x_batch, y_batch in loader_tr:\n",
    "        # Move data to GPU (if available)\n",
    "        x_batch = x_batch.float().to(device)  # [batch_size, seq_len, input_dim]\n",
    "        y_batch = y_batch.float().unsqueeze(1).to(device)  # [batch_size, 1]\n",
    "\n",
    "        # Forward pass\n",
    "        logits = model(x_batch)\n",
    "        loss = criterion(logits, y_batch)\n",
    "\n",
    "        # Backward pass\n",
    "        optimizer.zero_grad()\n",
    "        loss.backward()\n",
    "        optimizer.step()\n",
    "\n",
    "        running_loss += loss.item()\n",
    "\n",
    "    avg_loss = running_loss / len(loader_tr)\n",
    "    train_losses.append(avg_loss)"
   ]
  },
  {
   "cell_type": "code",
   "execution_count": null,
   "metadata": {},
   "outputs": [],
   "source": [
    "# Create test dataset\n",
    "dataset_te = EEGDataset(\n",
    "    test_clips,  # Your test clips variable\n",
    "    signals_root=DATA_ROOT\n",
    "    / \"test\",  # Update this path if your test signals are stored elsewhere\n",
    "    signal_transform=fft_filtering,  # You can change or remove the signal_transform as needed\n",
    "    prefetch=True,  # Set to False if prefetching causes memory issues on your compute environment\n",
    "    return_id=True,  # Return the id of each sample instead of the label\n",
    ")\n",
    "\n",
    "# Create DataLoader for the test dataset\n",
    "loader_te = DataLoader(dataset_te, batch_size=512, shuffle=False)"
   ]
  },
  {
   "cell_type": "code",
   "execution_count": null,
   "metadata": {},
   "outputs": [
    {
     "name": "stdout",
     "output_type": "stream",
     "text": [
      "Kaggle submission file generated: submission.csv\n"
     ]
    }
   ],
   "source": [
    "# Generate the submission file for Kaggle\n",
    "\n",
    "# Set the model to evaluation mode\n",
    "model.eval()\n",
    "\n",
    "# Lists to store sample IDs and predictions\n",
    "all_predictions = []\n",
    "all_ids = []\n",
    "\n",
    "# Disable gradient computation for inference\n",
    "with torch.no_grad():\n",
    "    for batch in loader_te:\n",
    "        # Assume each batch returns a tuple (x_batch, sample_id)\n",
    "        # If your dataset does not provide IDs, you can generate them based on the batch index.\n",
    "        x_batch, x_ids = batch\n",
    "\n",
    "        # Move the input data to the device (GPU or CPU)\n",
    "        x_batch = x_batch.float().to(device)\n",
    "\n",
    "        # Perform the forward pass to get the model's output logits\n",
    "        logits = model(x_batch)\n",
    "\n",
    "        # Convert logits to predictions.\n",
    "        # For binary classification, threshold logits at 0 (adjust this if you use softmax or multi-class).\n",
    "        predictions = (logits > 0).int().cpu().numpy()\n",
    "\n",
    "        # Append predictions and corresponding IDs to the lists\n",
    "        all_predictions.extend(predictions.flatten().tolist())\n",
    "        all_ids.extend(list(x_ids))\n",
    "\n",
    "# Create a DataFrame for Kaggle submission with the required format: \"id,label\"\n",
    "submission_df = pd.DataFrame({\"id\": all_ids, \"label\": all_predictions})\n",
    "\n",
    "# Save the DataFrame to a CSV file without an index\n",
    "submission_df.to_csv(\"submission_seed1.csv\", index=False)\n",
    "print(\"Kaggle submission file generated: submission.csv\")"
   ]
  },
  {
   "cell_type": "code",
   "execution_count": null,
   "metadata": {},
   "outputs": [],
   "source": []
  }
 ],
 "metadata": {
  "kernelspec": {
   "display_name": "Python 3 (ipykernel)",
   "language": "python",
   "name": "python3"
  },
  "language_info": {
   "codemirror_mode": {
    "name": "ipython",
    "version": 3
   },
   "file_extension": ".py",
   "mimetype": "text/x-python",
   "name": "python",
   "nbconvert_exporter": "python",
   "pygments_lexer": "ipython3",
   "version": "3.10.4"
  }
 },
 "nbformat": 4,
 "nbformat_minor": 2
}
