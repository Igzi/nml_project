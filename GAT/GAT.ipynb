{
 "cells": [
  {
   "cell_type": "markdown",
   "id": "8522eb95",
   "metadata": {},
   "source": [
    "## Dataset loading"
   ]
  },
  {
   "cell_type": "code",
   "execution_count": 1,
   "id": "7a256ca6",
   "metadata": {},
   "outputs": [],
   "source": [
    "from pathlib import Path\n",
    "\n",
    "import torch\n",
    "import numpy as np\n",
    "import pandas as pd\n",
    "import matplotlib.pyplot as plt\n",
    "from scipy import signal\n",
    "from sklearn.model_selection import train_test_split\n",
    "\n",
    "from seiz_eeg.dataset import EEGDataset\n",
    "import torch.optim as optim\n",
    "\n",
    "from torch.utils.data import DataLoader\n",
    "from tqdm import tqdm\n",
    "\n",
    "import sys\n",
    "\n",
    "sys.path.append(\"/home/stnikoli/nml_project/GAT\")"
   ]
  },
  {
   "cell_type": "code",
   "execution_count": null,
   "id": "af4a1850",
   "metadata": {},
   "outputs": [],
   "source": [
    "# You might need to change this according to where you store the data folder\n",
    "# Inside your data folder, you should have the following structure:\n",
    "# data\n",
    "# ├── train\n",
    "# │   ├── signals/\n",
    "# │   ├── segments.parquet\n",
    "# │-- test\n",
    "#     ├── signals/\n",
    "#     ├── segments.parquet\n",
    "\n",
    "data_path = \"/home/stnikoli/nml_project/data\"\n",
    "\n",
    "DATA_ROOT = Path(data_path)\n",
    "clips_tr = pd.read_parquet(DATA_ROOT / \"train/segments.parquet\")\n",
    "\n",
    "# Split the dataset by the 'patient' column\n",
    "patients = clips_tr['signals_path'].unique()\n",
    "train_patients, val_patients = train_test_split(patients, test_size=0.2, random_state=42, shuffle=True)\n",
    "\n",
    "# Create training and validation datasets\n",
    "train_clips = clips_tr[clips_tr['signals_path'].isin(train_patients)]\n",
    "val_clips = clips_tr[clips_tr['signals_path'].isin(val_patients)]\n",
    "\n",
    "# split the clips into training and validation sets\n",
    "# train_clips, val_clips = train_test_split(clips_tr, test_size=0.2, random_state=42)"
   ]
  },
  {
   "cell_type": "code",
   "execution_count": 3,
   "id": "62593f2e",
   "metadata": {},
   "outputs": [],
   "source": [
    "\n",
    "from hjorth_features import create_hjorth_transforms\n",
    "\n",
    "_hjorth_transform, _ = create_hjorth_transforms()"
   ]
  },
  {
   "cell_type": "code",
   "execution_count": 4,
   "id": "5f21a12f",
   "metadata": {},
   "outputs": [],
   "source": [
    "def fft_filtering(x: np.ndarray) -> np.ndarray:\n",
    "    \"\"\"Compute FFT and only keep\"\"\"\n",
    "    x = np.abs(np.fft.fft(x, axis=0))\n",
    "    x = np.log(np.where(x > 1e-8, x, 1e-8))\n",
    "\n",
    "    win_len = x.shape[0]\n",
    "    # Only frequencies b/w 0.5 and 30Hz\n",
    "    return x[int(0.5 * win_len // 250) : 30 * win_len // 250]"
   ]
  },
  {
   "cell_type": "code",
   "execution_count": 5,
   "id": "69253d10",
   "metadata": {},
   "outputs": [],
   "source": [
    "train_dataset = EEGDataset(\n",
    "        train_clips,\n",
    "        signals_root=DATA_ROOT / \"train\",\n",
    "        signal_transform=_hjorth_transform,\n",
    "        prefetch=True,  # If your compute does not allow it, you can use `prefetch=False`\n",
    "    )\n",
    "\n",
    "val_dataset = EEGDataset(\n",
    "        val_clips,\n",
    "        signals_root=DATA_ROOT / \"train\",\n",
    "        signal_transform=_hjorth_transform,\n",
    "        prefetch=True,  # If your compute does not allow it, you can use `prefetch=False`\n",
    "    )\n",
    "\n",
    "loader_tr = DataLoader(\n",
    "        dataset=train_dataset,\n",
    "        shuffle=True,\n",
    "        batch_size=512,\n",
    "    )\n",
    "\n",
    "loader_val = DataLoader(\n",
    "        dataset=val_dataset,\n",
    "        shuffle=True,\n",
    "        batch_size=512,\n",
    "    )"
   ]
  },
  {
   "cell_type": "code",
   "execution_count": 6,
   "id": "1e31d79d",
   "metadata": {},
   "outputs": [
    {
     "name": "stdout",
     "output_type": "stream",
     "text": [
      "Using device: cuda\n"
     ]
    }
   ],
   "source": [
    "# Set up device\n",
    "device = torch.device(\"cuda\" if torch.cuda.is_available() else \"cpu\")\n",
    "print(\"Using device:\", device)"
   ]
  },
  {
   "cell_type": "code",
   "execution_count": 7,
   "id": "671a2821",
   "metadata": {},
   "outputs": [
    {
     "name": "stdout",
     "output_type": "stream",
     "text": [
      "Ones count: 2004, Zeros count: 8390\n"
     ]
    }
   ],
   "source": [
    "# count ones and zeros in the training set\n",
    "ones_count = np.sum([x[1] for x in train_dataset])\n",
    "zeros_count = len(train_dataset) - ones_count\n",
    "print(f\"Ones count: {ones_count}, Zeros count: {zeros_count}\")"
   ]
  },
  {
   "cell_type": "markdown",
   "id": "1716558c",
   "metadata": {},
   "source": [
    "## New implementation"
   ]
  },
  {
   "cell_type": "code",
   "execution_count": 8,
   "id": "92bcd90e",
   "metadata": {},
   "outputs": [],
   "source": [
    "import torch\n",
    "import torch.nn as nn\n",
    "import torch.optim as optim\n",
    "import torch.nn.functional as F\n",
    "from torch_geometric.nn import GATConv, global_mean_pool\n",
    "\n",
    "import numpy as np\n",
    "from pathlib import Path\n",
    "from tqdm import tqdm\n",
    "from torch.utils.data import DataLoader\n",
    "\n",
    "# Assume DATA_ROOT, _hjorth_transform, train_clips, and val_clips are defined\n",
    "# Assume device is also defined (e.g., device = torch.device(\"cuda\" if torch.cuda.is_available() else \"cpu\"))\n",
    "\n",
    "# ======================================================================\n",
    "# 1. Refined GAT Model Definition\n",
    "#    - The forward method now correctly accepts edge_index and batch.\n",
    "#    - The model no longer stores the adjacency matrix, simplifying its design.\n",
    "#    - The output dimension is set to 1, which is correct for BCEWithLogitsLoss.\n",
    "# ======================================================================\n",
    "\n",
    "class GATClassifier(nn.Module):\n",
    "    def __init__(self, num_node_features, num_classes=1):\n",
    "        super(GATClassifier, self).__init__()\n",
    "        \n",
    "        # GAT layers\n",
    "        self.conv1 = GATConv(num_node_features, 32, heads=4, dropout=0.5)\n",
    "        self.conv2 = GATConv(32 * 4, 64, heads=4, dropout=0.5)\n",
    "        \n",
    "        # Pooling and final classification layer\n",
    "        self.pool = global_mean_pool\n",
    "        self.fc = nn.Linear(64 * 4, num_classes)\n",
    "\n",
    "    def forward(self, x, edge_index, batch):\n",
    "        # The edge_index is now passed directly here\n",
    "        x = F.elu(self.conv1(x, edge_index))\n",
    "        x, attention_weights = self.conv2(x, edge_index, return_attention_weights=True)\n",
    "        \n",
    "        x = self.pool(x, batch)\n",
    "        x = F.dropout(x, p=0.5, training=self.training)\n",
    "        x = self.fc(x)\n",
    "        \n",
    "        return x, attention_weights\n"
   ]
  },
  {
   "cell_type": "code",
   "execution_count": 9,
   "id": "62e0da49",
   "metadata": {},
   "outputs": [],
   "source": [
    "# ======================================================================\n",
    "# 2. Streamlined Graph Creation\n",
    "#    - This single function now handles loading distances and creating the\n",
    "#      sparse `edge_index` directly, removing redundant steps.\n",
    "# ======================================================================\n",
    "\n",
    "def create_graph_edge_index(distances_path, distance_threshold=None):\n",
    "    \"\"\"\n",
    "    Loads electrode distances and creates a sparse graph edge_index.\n",
    "    \"\"\"\n",
    "    # Load distance matrix, assuming 19 electrodes\n",
    "    distances = np.genfromtxt(distances_path, skip_header=1, delimiter=',')[:, -1].reshape(19, 19)\n",
    "    distances = torch.tensor(distances, dtype=torch.float32)\n",
    "    \n",
    "    if distance_threshold is None:\n",
    "        # Use an adaptive threshold based on the median distance\n",
    "        distance_threshold = torch.median(distances[distances > 0])\n",
    "    \n",
    "    # Create adjacency matrix and convert directly to edge_index\n",
    "    adj_matrix = (distances <= distance_threshold)\n",
    "    edge_index = adj_matrix.nonzero(as_tuple=False).t().contiguous()\n",
    "    \n",
    "    return edge_index"
   ]
  },
  {
   "cell_type": "code",
   "execution_count": 10,
   "id": "955fe0c3",
   "metadata": {},
   "outputs": [],
   "source": [
    "# ======================================================================\n",
    "# 3. Training Loop (Unchanged, as it was already correct)\n",
    "# ======================================================================\n",
    "\n",
    "def train_epoch(model, train_loader, criterion, optimizer, device, single_graph_edge_index):\n",
    "    \"\"\"Train the model for one epoch using a standard DataLoader.\"\"\"\n",
    "    model.train()\n",
    "    total_loss = 0.0\n",
    "    \n",
    "    edge_index_template = single_graph_edge_index.to(device)\n",
    "\n",
    "    for x_batch, y_batch in tqdm(train_loader, desc=\"Training\", leave=False):\n",
    "        x_batch = x_batch.float().to(device)\n",
    "        y_batch = y_batch.float().unsqueeze(1).to(device)\n",
    "        \n",
    "        B, N, F = x_batch.shape\n",
    "\n",
    "        # --- On-the-fly Batch Conversion ---\n",
    "        x_pyg = x_batch.reshape(-1, F)\n",
    "        batch_vector = torch.arange(B, device=device).repeat_interleave(N)\n",
    "        edge_indices = [edge_index_template + i * N for i in range(B)]\n",
    "        batched_edge_index = torch.cat(edge_indices, dim=1)\n",
    "        # --- Conversion Complete ---\n",
    "\n",
    "        optimizer.zero_grad()\n",
    "        # This call now matches the corrected GATClassifier.forward signature\n",
    "        logits, _ = model(x_pyg, batched_edge_index, batch_vector)\n",
    "        loss = criterion(logits, y_batch)\n",
    "        \n",
    "        loss.backward()\n",
    "        optimizer.step()\n",
    "        \n",
    "        total_loss += loss.item()\n",
    "    \n",
    "    return total_loss / len(train_loader)\n",
    "\n"
   ]
  },
  {
   "cell_type": "code",
   "execution_count": 11,
   "id": "d03e4dc3",
   "metadata": {},
   "outputs": [
    {
     "data": {
      "text/plain": [
       "tensor(0.6931, device='cuda:0')"
      ]
     },
     "execution_count": 11,
     "metadata": {},
     "output_type": "execute_result"
    }
   ],
   "source": [
    "criterion = nn.BCEWithLogitsLoss(pos_weight=torch.tensor([1], device=device))\n",
    "criterion(torch.tensor([0.0, 0.0, 0.0, 0.0], device=device), torch.tensor([1.0, 1.0, 1.0, 1.0], device=device))"
   ]
  },
  {
   "cell_type": "code",
   "execution_count": null,
   "id": "a159208a",
   "metadata": {},
   "outputs": [],
   "source": [
    "from sklearn.metrics import f1_score, precision_score, recall_score\n",
    "\n",
    "def test_epoch(model, test_loader, criterion, device, single_graph_edge_index):\n",
    "    \"\"\"Evaluate the model on the test set for one epoch.\"\"\"\n",
    "    model.eval()  # Set the model to evaluation mode\n",
    "    total_loss = 0.0\n",
    "    \n",
    "    all_preds = []\n",
    "    all_labels = []\n",
    "    all_ids = []\n",
    "\n",
    "    # Move the single-graph edge_index to the correct device once\n",
    "    edge_index_template = single_graph_edge_index.to(device)\n",
    "\n",
    "    with torch.no_grad():  # Deactivate autograd for evaluation\n",
    "        for x_batch, y_batch in tqdm(test_loader, desc=\"Testing\", leave=False):\n",
    "            # x_batch shape: (batch_size, num_nodes, num_features)\n",
    "            # y_batch shape: (batch_size)\n",
    "            \n",
    "            x_batch = x_batch.float().to(device)\n",
    "            y_batch_labels = y_batch.float() # Keep labels on CPU for sklearn\n",
    "            y_batch_loss = y_batch_labels.unsqueeze(1).to(device) # Send to device for loss calc\n",
    "            \n",
    "            B, N, F = x_batch.shape # Batch size, Num nodes, Num features\n",
    "\n",
    "            # --- On-the-fly Batch Conversion (same as in train_epoch) ---\n",
    "            x_pyg = x_batch.reshape(-1, F)\n",
    "            batch_vector = torch.arange(B, device=device).repeat_interleave(N)\n",
    "            edge_indices = [edge_index_template + i * N for i in range(B)]\n",
    "            batched_edge_index = torch.cat(edge_indices, dim=1)\n",
    "            # --- Conversion Complete ---\n",
    "\n",
    "            # Forward pass\n",
    "            logits, _ = model(x_pyg, batched_edge_index, batch_vector)\n",
    "            loss = criterion(logits, y_batch_loss)\n",
    "            \n",
    "            total_loss += loss.item()\n",
    "\n",
    "            # --- Calculate Predictions for Metrics ---\n",
    "            # Apply sigmoid to logits to get probabilities\n",
    "            probs = torch.sigmoid(logits).cpu()\n",
    "            # Get binary predictions (0 or 1) using a 0.5 threshold\n",
    "            preds = (probs > 0.5).float().squeeze(1)\n",
    "            \n",
    "            # Append batch results to lists for epoch-wide calculation\n",
    "            all_preds.extend(preds.numpy())\n",
    "            all_labels.extend(y_batch_labels.numpy())\n",
    "            all_ids.extend(y_batch.numpy())\n",
    "\n",
    "    # Calculate metrics for the entire epoch\n",
    "    avg_loss = total_loss / len(test_loader)\n",
    "    f1 = f1_score(all_labels, all_preds, zero_division=0, average='macro')\n",
    "    precision = precision_score(all_labels, all_preds, zero_division=0)\n",
    "    recall = recall_score(all_labels, all_preds, zero_division=0)\n",
    "    \n",
    "    return avg_loss, f1, precision, recall, all_preds, all_labels, all_ids"
   ]
  },
  {
   "cell_type": "code",
   "execution_count": 14,
   "id": "98a6d088",
   "metadata": {},
   "outputs": [],
   "source": [
    "# Instantiate the simplified model\n",
    "model = GATClassifier(num_node_features=15, num_classes=1) # num_classes=1 for BCEWithLogitsLoss\n",
    "\n",
    "# Or load a pre-trained model if available\n",
    "# model.load_state_dict(torch.load(\"/home/stnikoli/nml_project/GAT/gat_model_epoch_300.pth\"))\n",
    "model = model.to(device)"
   ]
  },
  {
   "cell_type": "code",
   "execution_count": 15,
   "id": "54aad9a2",
   "metadata": {},
   "outputs": [
    {
     "name": "stdout",
     "output_type": "stream",
     "text": [
      "Starting training...\n"
     ]
    },
    {
     "name": "stderr",
     "output_type": "stream",
     "text": [
      "Training:   0%|                                                                                                                                                                                                                               | 0/21 [00:00<?, ?it/s]"
     ]
    },
    {
     "name": "stderr",
     "output_type": "stream",
     "text": [
      "                                                                                                                                                                                                                                                                     \r"
     ]
    },
    {
     "name": "stdout",
     "output_type": "stream",
     "text": [
      "Epoch 50, Train Loss: 490.2186\n"
     ]
    },
    {
     "name": "stderr",
     "output_type": "stream",
     "text": [
      "                                                                                                                                                                                                                                                                     \r"
     ]
    },
    {
     "name": "stdout",
     "output_type": "stream",
     "text": [
      "Epoch 50, Val Loss: 418.8478, F1: 0.2030, Precision: 0.1841, Recall: 0.2261\n"
     ]
    },
    {
     "name": "stderr",
     "output_type": "stream",
     "text": [
      "                                                                                                                                                                                                                                                                     \r"
     ]
    },
    {
     "name": "stdout",
     "output_type": "stream",
     "text": [
      "Epoch 100, Train Loss: 345.2811\n"
     ]
    },
    {
     "name": "stderr",
     "output_type": "stream",
     "text": [
      "                                                                                                                                                                                                                                                                     \r"
     ]
    },
    {
     "name": "stdout",
     "output_type": "stream",
     "text": [
      "Epoch 100, Val Loss: 321.3082, F1: 0.1957, Precision: 0.1946, Recall: 0.1969\n",
      "Model saved at epoch 100\n"
     ]
    },
    {
     "name": "stderr",
     "output_type": "stream",
     "text": [
      "                                                                                                                                                                                                                                                                     \r"
     ]
    },
    {
     "name": "stdout",
     "output_type": "stream",
     "text": [
      "Epoch 150, Train Loss: 170.8298\n"
     ]
    },
    {
     "name": "stderr",
     "output_type": "stream",
     "text": [
      "                                                                                                                                                                                                                                                                     \r"
     ]
    },
    {
     "name": "stdout",
     "output_type": "stream",
     "text": [
      "Epoch 150, Val Loss: 105.0590, F1: 0.2405, Precision: 0.2543, Recall: 0.2281\n"
     ]
    },
    {
     "name": "stderr",
     "output_type": "stream",
     "text": [
      "                                                                                                                                                                                                                                                                     \r"
     ]
    },
    {
     "name": "stdout",
     "output_type": "stream",
     "text": [
      "Epoch 200, Train Loss: 136.1449\n"
     ]
    },
    {
     "name": "stderr",
     "output_type": "stream",
     "text": [
      "                                                                                                                                                                                                                                                                     \r"
     ]
    },
    {
     "name": "stdout",
     "output_type": "stream",
     "text": [
      "Epoch 200, Val Loss: 66.0134, F1: 0.2547, Precision: 0.4178, Recall: 0.1832\n",
      "Model saved at epoch 200\n"
     ]
    },
    {
     "name": "stderr",
     "output_type": "stream",
     "text": [
      "                                                                                                                                                                                                                                                                     \r"
     ]
    },
    {
     "name": "stdout",
     "output_type": "stream",
     "text": [
      "Epoch 250, Train Loss: 101.9592\n"
     ]
    },
    {
     "name": "stderr",
     "output_type": "stream",
     "text": [
      "                                                                                                                                                                                                                                                                     \r"
     ]
    },
    {
     "name": "stdout",
     "output_type": "stream",
     "text": [
      "Epoch 250, Val Loss: 44.9989, F1: 0.3396, Precision: 0.4722, Recall: 0.2651\n"
     ]
    },
    {
     "name": "stderr",
     "output_type": "stream",
     "text": [
      "                                                                                                                                                                                                                                                                     \r"
     ]
    },
    {
     "name": "stdout",
     "output_type": "stream",
     "text": [
      "Epoch 300, Train Loss: 46.8667\n"
     ]
    },
    {
     "name": "stderr",
     "output_type": "stream",
     "text": [
      "                                                                                                                                                                                                                                                                     \r"
     ]
    },
    {
     "name": "stdout",
     "output_type": "stream",
     "text": [
      "Epoch 300, Val Loss: 26.8666, F1: 0.3750, Precision: 0.5424, Recall: 0.2865\n",
      "Model saved at epoch 300\n"
     ]
    },
    {
     "name": "stderr",
     "output_type": "stream",
     "text": [
      "                                                                                                                                                                                                                                                                     \r"
     ]
    },
    {
     "name": "stdout",
     "output_type": "stream",
     "text": [
      "Epoch 350, Train Loss: 27.8497\n"
     ]
    },
    {
     "name": "stderr",
     "output_type": "stream",
     "text": [
      "                                                                                                                                                                                                                                                                     \r"
     ]
    },
    {
     "name": "stdout",
     "output_type": "stream",
     "text": [
      "Epoch 350, Val Loss: 26.8866, F1: 0.4359, Precision: 0.5420, Recall: 0.3645\n"
     ]
    },
    {
     "name": "stderr",
     "output_type": "stream",
     "text": [
      "                                                                                                                                                                                                                                                                     \r"
     ]
    },
    {
     "name": "stdout",
     "output_type": "stream",
     "text": [
      "Epoch 400, Train Loss: 36.1797\n"
     ]
    },
    {
     "name": "stderr",
     "output_type": "stream",
     "text": [
      "                                                                                                                                                                                                                                                                     \r"
     ]
    },
    {
     "name": "stdout",
     "output_type": "stream",
     "text": [
      "Epoch 400, Val Loss: 24.4087, F1: 0.4182, Precision: 0.5401, Recall: 0.3411\n",
      "Model saved at epoch 400\n"
     ]
    },
    {
     "name": "stderr",
     "output_type": "stream",
     "text": [
      "                                                                                                                                                                                                                                                                     \r"
     ]
    },
    {
     "name": "stdout",
     "output_type": "stream",
     "text": [
      "Epoch 450, Train Loss: 10.4980\n"
     ]
    },
    {
     "name": "stderr",
     "output_type": "stream",
     "text": [
      "                                                                                                                                                                                                                                                                     \r"
     ]
    },
    {
     "name": "stdout",
     "output_type": "stream",
     "text": [
      "Epoch 450, Val Loss: 40.4540, F1: 0.3912, Precision: 0.5758, Recall: 0.2963\n"
     ]
    },
    {
     "name": "stderr",
     "output_type": "stream",
     "text": [
      "                                                                                                                                                                                                                                                                     \r"
     ]
    },
    {
     "name": "stdout",
     "output_type": "stream",
     "text": [
      "Epoch 500, Train Loss: 10.1133\n"
     ]
    },
    {
     "name": "stderr",
     "output_type": "stream",
     "text": [
      "                                                                                                                                                                                                                                                                     \r"
     ]
    },
    {
     "name": "stdout",
     "output_type": "stream",
     "text": [
      "Epoch 500, Val Loss: 41.2185, F1: 0.3634, Precision: 0.5870, Recall: 0.2632\n",
      "Model saved at epoch 500\n"
     ]
    },
    {
     "name": "stderr",
     "output_type": "stream",
     "text": [
      "                                                                                                                                                                                                                                                                     \r"
     ]
    },
    {
     "name": "stdout",
     "output_type": "stream",
     "text": [
      "Epoch 550, Train Loss: 31.5891\n"
     ]
    },
    {
     "name": "stderr",
     "output_type": "stream",
     "text": [
      "                                                                                                                                                                                                                                                                     \r"
     ]
    },
    {
     "name": "stdout",
     "output_type": "stream",
     "text": [
      "Epoch 550, Val Loss: 25.0459, F1: 0.3929, Precision: 0.5683, Recall: 0.3002\n"
     ]
    },
    {
     "name": "stderr",
     "output_type": "stream",
     "text": [
      "                                                                                                                                                                                                                                                                     \r"
     ]
    },
    {
     "name": "stdout",
     "output_type": "stream",
     "text": [
      "Epoch 600, Train Loss: 5.5322\n"
     ]
    },
    {
     "name": "stderr",
     "output_type": "stream",
     "text": [
      "                                                                                                                                                                                                                                                                     \r"
     ]
    },
    {
     "name": "stdout",
     "output_type": "stream",
     "text": [
      "Epoch 600, Val Loss: 25.0224, F1: 0.3846, Precision: 0.5618, Recall: 0.2924\n",
      "Model saved at epoch 600\n"
     ]
    },
    {
     "name": "stderr",
     "output_type": "stream",
     "text": [
      "                                                                                                                                                                                                                                                                     \r"
     ]
    },
    {
     "name": "stdout",
     "output_type": "stream",
     "text": [
      "Epoch 650, Train Loss: 6.2394\n"
     ]
    },
    {
     "name": "stderr",
     "output_type": "stream",
     "text": [
      "                                                                                                                                                                                                                                                                     \r"
     ]
    },
    {
     "name": "stdout",
     "output_type": "stream",
     "text": [
      "Epoch 650, Val Loss: 13.0427, F1: 0.4511, Precision: 0.4965, Recall: 0.4133\n"
     ]
    },
    {
     "name": "stderr",
     "output_type": "stream",
     "text": [
      "                                                                                                                                                                                                                                                                     \r"
     ]
    },
    {
     "name": "stdout",
     "output_type": "stream",
     "text": [
      "Epoch 700, Train Loss: 6.8736\n"
     ]
    },
    {
     "name": "stderr",
     "output_type": "stream",
     "text": [
      "                                                                                                                                                                                                                                                                     \r"
     ]
    },
    {
     "name": "stdout",
     "output_type": "stream",
     "text": [
      "Epoch 700, Val Loss: 12.8041, F1: 0.3911, Precision: 0.4897, Recall: 0.3255\n",
      "Model saved at epoch 700\n"
     ]
    },
    {
     "name": "stderr",
     "output_type": "stream",
     "text": [
      "                                                                                                                                                                                                                                                                     \r"
     ]
    },
    {
     "name": "stdout",
     "output_type": "stream",
     "text": [
      "Epoch 750, Train Loss: 6.1623\n"
     ]
    },
    {
     "name": "stderr",
     "output_type": "stream",
     "text": [
      "                                                                                                                                                                                                                                                                     \r"
     ]
    },
    {
     "name": "stdout",
     "output_type": "stream",
     "text": [
      "Epoch 750, Val Loss: 19.3112, F1: 0.4562, Precision: 0.4899, Recall: 0.4269\n"
     ]
    },
    {
     "name": "stderr",
     "output_type": "stream",
     "text": [
      "                                                                                                                                                                                                                                                                     \r"
     ]
    },
    {
     "name": "stdout",
     "output_type": "stream",
     "text": [
      "Epoch 800, Train Loss: 3.5517\n"
     ]
    },
    {
     "name": "stderr",
     "output_type": "stream",
     "text": [
      "                                                                                                                                                                                                                                                                     \r"
     ]
    },
    {
     "name": "stdout",
     "output_type": "stream",
     "text": [
      "Epoch 800, Val Loss: 24.0859, F1: 0.4879, Precision: 0.3902, Recall: 0.6511\n",
      "Model saved at epoch 800\n"
     ]
    },
    {
     "name": "stderr",
     "output_type": "stream",
     "text": [
      "                                                                                                                                                                                                                                                                     \r"
     ]
    },
    {
     "name": "stdout",
     "output_type": "stream",
     "text": [
      "Epoch 850, Train Loss: 7.6608\n"
     ]
    },
    {
     "name": "stderr",
     "output_type": "stream",
     "text": [
      "                                                                                                                                                                                                                                                                     \r"
     ]
    },
    {
     "name": "stdout",
     "output_type": "stream",
     "text": [
      "Epoch 850, Val Loss: 22.0625, F1: 0.4575, Precision: 0.4588, Recall: 0.4561\n"
     ]
    },
    {
     "name": "stderr",
     "output_type": "stream",
     "text": [
      "                                                                                                                                                                                                                                                                     \r"
     ]
    },
    {
     "name": "stdout",
     "output_type": "stream",
     "text": [
      "Epoch 900, Train Loss: 2.8173\n"
     ]
    },
    {
     "name": "stderr",
     "output_type": "stream",
     "text": [
      "                                                                                                                                                                                                                                                                     \r"
     ]
    },
    {
     "name": "stdout",
     "output_type": "stream",
     "text": [
      "Epoch 900, Val Loss: 68.6038, F1: 0.4014, Precision: 0.4957, Recall: 0.3372\n",
      "Model saved at epoch 900\n"
     ]
    },
    {
     "name": "stderr",
     "output_type": "stream",
     "text": [
      "                                                                                                                                                                                                                                                                     \r"
     ]
    },
    {
     "name": "stdout",
     "output_type": "stream",
     "text": [
      "Epoch 950, Train Loss: 4.2492\n"
     ]
    },
    {
     "name": "stderr",
     "output_type": "stream",
     "text": [
      "                                                                                                                                                                                                                                                                     \r"
     ]
    },
    {
     "name": "stdout",
     "output_type": "stream",
     "text": [
      "Epoch 950, Val Loss: 37.3571, F1: 0.3537, Precision: 0.5565, Recall: 0.2593\n"
     ]
    },
    {
     "name": "stderr",
     "output_type": "stream",
     "text": [
      "                                                                                                                                                                                                                                                                     \r"
     ]
    },
    {
     "name": "stdout",
     "output_type": "stream",
     "text": [
      "Epoch 1000, Train Loss: 2.4905\n"
     ]
    },
    {
     "name": "stderr",
     "output_type": "stream",
     "text": [
      "                                                                                                                                                                                                                                                                     "
     ]
    },
    {
     "name": "stdout",
     "output_type": "stream",
     "text": [
      "Epoch 1000, Val Loss: 13.2549, F1: 0.3788, Precision: 0.5376, Recall: 0.2924\n",
      "Model saved at epoch 1000\n",
      "Training finished.\n"
     ]
    },
    {
     "name": "stderr",
     "output_type": "stream",
     "text": [
      "\r"
     ]
    }
   ],
   "source": [
    "# ======================================================================\n",
    "# 4. Main Execution Block\n",
    "# ======================================================================\n",
    "\n",
    "# --- Graph and Model Setup ---\n",
    "# Create the single graph structure ONCE\n",
    "single_graph_edge_index = create_graph_edge_index(\n",
    "    distances_path=DATA_ROOT / \"distances_3d.csv\",\n",
    "    distance_threshold=None\n",
    ")\n",
    "\n",
    "\n",
    "# --- Training Setup ---\n",
    "class_weight = 4\n",
    "criterion = nn.BCEWithLogitsLoss(pos_weight=torch.tensor([class_weight], device=device))\n",
    "optimizer = optim.Adam(model.parameters(), lr=1e-4)\n",
    "\n",
    "\n",
    "# --- Training Loop ---\n",
    "num_epochs = 1000\n",
    "train_losses = []\n",
    "val_losses = []\n",
    "\n",
    "print(\"Starting training...\")\n",
    "for epoch in range(num_epochs):    \n",
    "    train_loss = train_epoch(model, loader_tr, criterion, optimizer, device, single_graph_edge_index)\n",
    "    \n",
    "    train_losses.append(train_loss)\n",
    "    if (epoch + 1) % 50 == 0:\n",
    "        print(f\"Epoch {epoch + 1}, Train Loss: {train_loss:.4f}\")\n",
    "        # Validation\n",
    "        val_loss, f1, precision, recall, _, _, _ = test_epoch(model, loader_val, criterion, device, single_graph_edge_index)\n",
    "        print(f\"Epoch {epoch + 1}, Val Loss: {val_loss:.4f}, F1: {f1:.4f}, Precision: {precision:.4f}, Recall: {recall:.4f}\")\n",
    "        val_losses.append(val_loss)\n",
    "\n",
    "    # save model every 100 epochs\n",
    "    if (epoch + 1) % 100 == 0:\n",
    "        torch.save(model.state_dict(), f\"/home/stnikoli/nml_project/GAT/gat_model_epoch_{epoch + 1}.pth\")\n",
    "        print(f\"Model saved at epoch {epoch + 1}\")\n",
    "\n",
    "print(\"Training finished.\")"
   ]
  },
  {
   "cell_type": "code",
   "execution_count": null,
   "id": "0a90d76c",
   "metadata": {},
   "outputs": [
    {
     "data": {
      "image/png": "[encoded data removed]",
      "text/plain": [
       "<Figure size 1000x500 with 1 Axes>"
      ]
     },
     "metadata": {},
     "output_type": "display_data"
    }
   ],
   "source": [
    "plt.figure(figsize=(10, 5))\n",
    "plt.plot(train_losses, label='Train Loss')\n",
    "plt.xlabel('Epoch')\n",
    "plt.ylabel('Loss')\n",
    "plt.title('Training Loss Over Epochs')\n",
    "plt.legend()\n",
    "plt.grid()\n",
    "plt.show()"
   ]
  },
  {
   "cell_type": "code",
   "execution_count": 46,
   "id": "a0d9a5bb",
   "metadata": {},
   "outputs": [
    {
     "name": "stderr",
     "output_type": "stream",
     "text": [
      "                                                                                                                                                                                           "
     ]
    },
    {
     "name": "stdout",
     "output_type": "stream",
     "text": [
      "Validation Loss: 1.3052\n",
      "F1 Score: 0.5499\n",
      "Precision: 0.5435\n",
      "Recall: 0.5564\n"
     ]
    },
    {
     "name": "stderr",
     "output_type": "stream",
     "text": [
      "\r"
     ]
    }
   ],
   "source": [
    "avg_loss, f1, precision, recall, all_preds, all_labels, all_ids = test_epoch(\n",
    "    model, \n",
    "    loader_val, \n",
    "    criterion, \n",
    "    device, \n",
    "    single_graph_edge_index\n",
    ")\n",
    "\n",
    "print(f\"Validation Loss: {val_loss:.4f}\")\n",
    "print(f\"F1 Score: {f1:.4f}\")\n",
    "print(f\"Precision: {precision:.4f}\")\n",
    "print(f\"Recall: {recall:.4f}\")"
   ]
  },
  {
   "cell_type": "markdown",
   "id": "423b62f0",
   "metadata": {},
   "source": [
    "## Submission"
   ]
  },
  {
   "cell_type": "code",
   "execution_count": 47,
   "id": "a983b783",
   "metadata": {},
   "outputs": [],
   "source": [
    "test_clips = pd.read_parquet(DATA_ROOT / \"test/segments.parquet\")"
   ]
  },
  {
   "cell_type": "code",
   "execution_count": 48,
   "id": "8fffe6a9",
   "metadata": {},
   "outputs": [],
   "source": [
    "# Create test dataset\n",
    "dataset_te = EEGDataset(\n",
    "    test_clips,  # Your test clips variable\n",
    "    signals_root=DATA_ROOT\n",
    "    / \"test\",  # Update this path if your test signals are stored elsewhere\n",
    "    signal_transform=_hjorth_transform,  # You can change or remove the signal_transform as needed\n",
    "    prefetch=True,  # Set to False if prefetching causes memory issues on your compute environment\n",
    "    return_id=True,  # Return the id of each sample instead of the label\n",
    ")\n",
    "\n",
    "# Create DataLoader for the test dataset\n",
    "loader_te = DataLoader(dataset_te, batch_size=512, shuffle=False)"
   ]
  },
  {
   "cell_type": "code",
   "execution_count": 49,
   "id": "bbc8d293",
   "metadata": {},
   "outputs": [],
   "source": [
    "def generate_submission_file(model, test_loader, single_graph_edge_index, device, output_filename=\"submission.csv\"):\n",
    "    \"\"\"\n",
    "    Generates a Kaggle submission file for the GAT model.\n",
    "\n",
    "    Args:\n",
    "        model (nn.Module): The trained GATClassifier model.\n",
    "        test_loader (DataLoader): DataLoader for the test set. It must yield\n",
    "                                  batches of (x_batch, ids_batch).\n",
    "        single_graph_edge_index (torch.Tensor): The pre-computed edge_index for a single graph.\n",
    "        device (torch.device): The device to run inference on (e.g., 'cuda' or 'cpu').\n",
    "        output_filename (str): The name of the output CSV file.\n",
    "    \"\"\"\n",
    "    # Set the model to evaluation mode\n",
    "    model.eval()\n",
    "\n",
    "    all_predictions = []\n",
    "    all_ids = []\n",
    "\n",
    "    # Move the single-graph edge_index to the correct device once\n",
    "    edge_index_template = single_graph_edge_index.to(device)\n",
    "\n",
    "    # Disable gradient computation for faster inference\n",
    "    with torch.no_grad():\n",
    "        for x_batch, ids_batch in tqdm(test_loader, desc=\"Generating Submission\"):\n",
    "            # x_batch shape: (batch_size, num_nodes, num_features)\n",
    "            \n",
    "            x_batch = x_batch.float().to(device)\n",
    "            B, N, F = x_batch.shape\n",
    "\n",
    "            # --- On-the-fly Batch Conversion for GAT model ---\n",
    "            x_pyg = x_batch.reshape(-1, F)\n",
    "            batch_vector = torch.arange(B, device=device).repeat_interleave(N)\n",
    "            edge_indices = [edge_index_template + i * N for i in range(B)]\n",
    "            batched_edge_index = torch.cat(edge_indices, dim=1)\n",
    "            # --- Conversion Complete ---\n",
    "\n",
    "            # Forward pass to get model logits\n",
    "            # We only need the logits, so we discard the attention weights with `_`\n",
    "            logits, _ = model(x_pyg, batched_edge_index, batch_vector)\n",
    "\n",
    "            # Convert logits to binary predictions (0 or 1)\n",
    "            # A logit > 0 corresponds to a probability > 0.5 after sigmoid\n",
    "            predictions = (logits > 0).int().cpu().squeeze().tolist()\n",
    "\n",
    "            # Ensure predictions are in a list, even for a single-item batch\n",
    "            if not isinstance(predictions, list):\n",
    "                predictions = [predictions]\n",
    "\n",
    "            # Store predictions and their corresponding IDs\n",
    "            all_predictions.extend(predictions)\n",
    "            all_ids.extend(list(ids_batch))\n",
    "\n",
    "    # Create a DataFrame for the submission file\n",
    "    print(\"Creating submission DataFrame...\")\n",
    "    submission_df = pd.DataFrame({\n",
    "        \"id\": all_ids,\n",
    "        \"label\": all_predictions\n",
    "    })\n",
    "\n",
    "    # Save the DataFrame to a CSV file\n",
    "    submission_df.to_csv(output_filename, index=False)\n",
    "    print(f\"Submission file saved successfully to: {output_filename}\")"
   ]
  },
  {
   "cell_type": "code",
   "execution_count": 56,
   "id": "02458e88",
   "metadata": {},
   "outputs": [
    {
     "name": "stderr",
     "output_type": "stream",
     "text": [
      "Generating Submission: 100%|████████████████████████████████████████████████████████████████████████████████████████████████████████████████████████████████| 8/8 [00:00<00:00, 108.93it/s]"
     ]
    },
    {
     "name": "stdout",
     "output_type": "stream",
     "text": [
      "Creating submission DataFrame...\n",
      "Submission file saved successfully to: gat_submission.csv\n"
     ]
    },
    {
     "name": "stderr",
     "output_type": "stream",
     "text": [
      "\n"
     ]
    }
   ],
   "source": [
    "# 3. Create the DataLoader for the test set\n",
    "#    shuffle=False is crucial for submission.\n",
    "loader_te = DataLoader(dataset_te, batch_size=512, shuffle=False)\n",
    "\n",
    "# 4. Call the function to generate the file\n",
    "#    Ensure your model, single_graph_edge_index, and device are defined\n",
    "generate_submission_file(\n",
    "    model=model,\n",
    "    test_loader=loader_te,\n",
    "    single_graph_edge_index=single_graph_edge_index, # The same one used for training\n",
    "    device=device,\n",
    "    output_filename=\"gat_submission.csv\"\n",
    ")"
   ]
  },
  {
   "cell_type": "code",
   "execution_count": 57,
   "id": "3c6f5d16",
   "metadata": {},
   "outputs": [],
   "source": [
    "# change the gat_submission.csv file lines from p_q_e_j_g_v_e_j___s_0_0_1___t_0_0_0___1_5_7 to pqejgvej_s001_t000_157 format\n",
    "def format_submission_ids(submission_file):\n",
    "    \"\"\"\n",
    "    Formats the IDs in the submission file to the required format.\n",
    "    \"\"\"\n",
    "    df = pd.read_csv(submission_file)\n",
    "    \n",
    "    # Define a function to format each ID\n",
    "    def format_id(id_str):\n",
    "        parts = id_str.split(\"___\")\n",
    "        parts = [part.replace(\"_\", \"\") for part in parts]\n",
    "        return \"_\".join(parts)\n",
    "    \n",
    "    # Apply the formatting function to the 'id' column\n",
    "    df['id'] = df['id'].apply(format_id)\n",
    "    \n",
    "    # Save the formatted DataFrame back to CSV\n",
    "    df.to_csv(submission_file, index=False)\n",
    "    print(f\"Formatted submission file saved successfully to: {submission_file}\")"
   ]
  },
  {
   "cell_type": "code",
   "execution_count": 58,
   "id": "7ff95792",
   "metadata": {},
   "outputs": [
    {
     "name": "stdout",
     "output_type": "stream",
     "text": [
      "Formatted submission file saved successfully to: gat_submission.csv\n"
     ]
    }
   ],
   "source": [
    "format_submission_ids(\"gat_submission.csv\")"
   ]
  },
  {
   "cell_type": "code",
   "execution_count": null,
   "id": "714cf3bd",
   "metadata": {},
   "outputs": [],
   "source": []
  }
 ],
 "metadata": {
  "kernelspec": {
   "display_name": "Python 3 (ipykernel)",
   "language": "python",
   "name": "python3"
  },
  "language_info": {
   "codemirror_mode": {
    "name": "ipython",
    "version": 3
   },
   "file_extension": ".py",
   "mimetype": "text/x-python",
   "name": "python",
   "nbconvert_exporter": "python",
   "pygments_lexer": "ipython3",
   "version": "3.10.4"
  }
 },
 "nbformat": 4,
 "nbformat_minor": 5
}
