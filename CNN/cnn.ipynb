{
 "cells": [
  {
   "cell_type": "code",
   "execution_count": 19,
   "id": "c9ca2b99",
   "metadata": {},
   "outputs": [],
   "source": [
    "from pathlib import Path\n",
    "\n",
    "import numpy as np\n",
    "import pandas as pd\n",
    "import matplotlib.pyplot as plt\n",
    "from scipy import signal\n",
    "from sklearn.model_selection import train_test_split\n",
    "from sklearn.metrics import f1_score\n",
    "from evaluation import evaluate\n",
    "\n",
    "from seiz_eeg.dataset import EEGDataset"
   ]
  },
  {
   "cell_type": "markdown",
   "id": "6c255d17",
   "metadata": {},
   "source": [
    "# The data\n",
    "\n",
    "We model *segments* of brain activity, which correspond to windows of a longer *session* of EEG recording.\n",
    "\n",
    "These segments, and their labels, are described in the `segments.parquet` files, which can be directly loaded with `pandas`."
   ]
  },
  {
   "cell_type": "code",
   "execution_count": 20,
   "id": "3c996895",
   "metadata": {},
   "outputs": [],
   "source": [
    "# You might need to change this according to where you store the data folder\n",
    "# Inside your data folder, you should have the following structure:\n",
    "# data\n",
    "# ├── train\n",
    "# │   ├── signals/\n",
    "# │   ├── segments.parquet\n",
    "# │-- test\n",
    "#     ├── signals/\n",
    "#     ├── segments.parquet\n",
    "\n",
    "data_path = \"./data\"\n",
    "\n",
    "DATA_ROOT = Path(data_path)\n",
    "clips_tr = pd.read_parquet(DATA_ROOT / \"train/segments.parquet\")\n",
    "\n",
    "# Split the dataset by the 'patient' column\n",
    "patients = clips_tr['signals_path'].unique()\n",
    "train_patients, val_patients = train_test_split(patients, test_size=0.2, random_state=42)\n",
    "\n",
    "# Create training and validation datasets\n",
    "train_clips = clips_tr[clips_tr['signals_path'].isin(train_patients)]\n",
    "val_clips = clips_tr[clips_tr['signals_path'].isin(val_patients)]"
   ]
  },
  {
   "cell_type": "markdown",
   "id": "23488684",
   "metadata": {},
   "source": [
    "## Loading the signals\n",
    "\n",
    "For convenience, the `EEGDataset class` provides functionality for loading each segment and its label as `numpy` arrays.\n",
    "\n",
    "You can provide an optional `signal_transform` function to preprocess the signals. In the example below, we have two bandpass filtering functions, which extract frequencies between 0.5Hz and 30Hz which are used in seizure analysis literature:\n",
    "\n",
    "The `EEGDataset` class also allows to load all data in memory, instead of reading it from disk at every iteration. If your compute allows it, you can use `prefetch=True`."
   ]
  },
  {
   "cell_type": "code",
   "execution_count": 21,
   "id": "fcfe82c1",
   "metadata": {},
   "outputs": [],
   "source": [
    "bp_filter = signal.butter(4, (0.5, 30), btype=\"bandpass\", output=\"sos\", fs=250)\n",
    "\n",
    "\n",
    "def time_filtering(x: np.ndarray) -> np.ndarray:\n",
    "    \"\"\"Filter signal in the time domain\"\"\"\n",
    "    return signal.sosfiltfilt(bp_filter, x, axis=0).copy()\n",
    "\n",
    "\n",
    "def fft_filtering(x: np.ndarray) -> np.ndarray:\n",
    "    \"\"\"Compute FFT and only keep\"\"\"\n",
    "    x = np.abs(np.fft.fft(x, axis=0))\n",
    "    x = np.log(np.where(x > 1e-8, x, 1e-8))\n",
    "\n",
    "    win_len = x.shape[0]\n",
    "    # Only frequencies b/w 0.5 and 30Hz\n",
    "    return x[int(0.5 * win_len // 250) : 30 * win_len // 250]"
   ]
  },
  {
   "cell_type": "markdown",
   "id": "8d5330f0",
   "metadata": {},
   "source": [
    "## Compatibility with PyTorch\n",
    "\n",
    "The `EEGDataset` class is compatible with [pytorch datasets and dataloaders](https://pytorch.org/tutorials/beginner/basics/data_tutorial.html), which allow you to load batched data."
   ]
  },
  {
   "cell_type": "code",
   "execution_count": 22,
   "id": "aa0fe15e",
   "metadata": {},
   "outputs": [],
   "source": [
    "# Dependences\n",
    "import os\n",
    "import random\n",
    "\n",
    "import numpy as np\n",
    "\n",
    "import torch\n",
    "import torch.nn as nn\n",
    "import torch.optim as optim\n",
    "from torch.utils.data import DataLoader\n",
    "\n",
    "from tqdm import tqdm"
   ]
  },
  {
   "cell_type": "code",
   "execution_count": 23,
   "id": "d070ca9c",
   "metadata": {},
   "outputs": [],
   "source": [
    "def seed_everything(seed: int):\n",
    "    # Python random module\n",
    "    random.seed(seed)\n",
    "    # Numpy random module\n",
    "    np.random.seed(seed)\n",
    "    # Torch random seeds\n",
    "    torch.manual_seed(seed)\n",
    "    torch.cuda.manual_seed(seed)\n",
    "    torch.cuda.manual_seed_all(seed)  # if you are using multi-GPU.\n",
    "\n",
    "    # Set PYTHONHASHSEED environment variable for hash-based operations\n",
    "    os.environ[\"PYTHONHASHSEED\"] = str(seed)\n",
    "\n",
    "    # Ensure deterministic behavior in cudnn (may slow down your training)\n",
    "    torch.backends.cudnn.deterministic = True\n",
    "    torch.backends.cudnn.benchmark = False\n",
    "\n",
    "\n",
    "seed_everything(1)"
   ]
  },
  {
   "cell_type": "code",
   "execution_count": 24,
   "id": "48db59dd",
   "metadata": {},
   "outputs": [],
   "source": [
    "train_dataset = EEGDataset(\n",
    "        train_clips,\n",
    "        signals_root=DATA_ROOT / \"train\",\n",
    "        signal_transform=time_filtering, # for cnn, time filtering made more sense, and gave better results\n",
    "        prefetch=True,  # If your compute does not allow it, you can use `prefetch=False`\n",
    "    )\n",
    "\n",
    "val_dataset = EEGDataset(\n",
    "        val_clips,\n",
    "        signals_root=DATA_ROOT / \"train\",\n",
    "        signal_transform=time_filtering,\n",
    "        prefetch=True,  # If your compute does not allow it, you can use `prefetch=False`\n",
    "    )\n",
    "\n",
    "loader_tr = DataLoader(\n",
    "        dataset=train_dataset,\n",
    "        shuffle=True,\n",
    "        batch_size=512,\n",
    "    )\n",
    "\n",
    "loader_val = DataLoader(\n",
    "        dataset=val_dataset,\n",
    "        shuffle=True,\n",
    "        batch_size=512,\n",
    "    )"
   ]
  },
  {
   "cell_type": "markdown",
   "id": "c6299b6d",
   "metadata": {},
   "source": [
    "### Baseline: CNN Model\n",
    "\n",
    "In this section, we define two convolutional neural network (CNN) architectures as simple baselines for EEG signal classification. Both models operate on 1D input data with 19 channels. The larger model (`EEGCNN`) consists of three convolutional blocks followed by a fully connected layer, while the smaller variant (`EEGCNN_Small`) uses only two blocks for a more lightweight design.\n",
    "\n",
    "Each block includes convolution, batch normalization, ReLU activation, and pooling. The final output is reduced to a single prediction through global pooling, dropout, and a linear layer. \n",
    "\n",
    "After experimenting with both versions, we found that the simpler `EEGCNN_Small` model actually outperformed the larger one, suggesting that in this case, a more compact architecture is sufficient and potentially better suited for our task.\n"
   ]
  },
  {
   "cell_type": "code",
   "execution_count": 25,
   "id": "3c06138f",
   "metadata": {},
   "outputs": [],
   "source": [
    "class EEGCNN(nn.Module):\n",
    "    def __init__(self, input_channels=19):\n",
    "        super().__init__()\n",
    "        self.cnn = nn.Sequential(\n",
    "            # Convolutional layers with BatchNorm and ReLU activations\n",
    "            nn.Conv1d(input_channels, 32, kernel_size=3, padding=1),\n",
    "            nn.BatchNorm1d(32),\n",
    "            nn.ReLU(),\n",
    "            nn.MaxPool1d(2),\n",
    "\n",
    "            nn.Conv1d(32, 64, kernel_size=3, padding=1),\n",
    "            nn.BatchNorm1d(64),\n",
    "            nn.ReLU(),\n",
    "            nn.MaxPool1d(2),\n",
    "\n",
    "            nn.Conv1d(64, 128, kernel_size=3, padding=1),\n",
    "            nn.BatchNorm1d(128),\n",
    "            nn.ReLU(),\n",
    "            nn.AdaptiveAvgPool1d(1), # Global average pooling\n",
    "        )\n",
    "        # Fully connected layer\n",
    "        self.fc = nn.Sequential(\n",
    "            nn.Flatten(),\n",
    "            nn.Dropout(0.3),\n",
    "            nn.Linear(128, 1)\n",
    "        )\n",
    "\n",
    "    def forward(self, x):\n",
    "        x = x.permute(0, 2, 1)  # [B, T, C] → [B, C, T]\n",
    "        x = self.cnn(x)\n",
    "        x = self.fc(x)\n",
    "        return x"
   ]
  },
  {
   "cell_type": "code",
   "execution_count": 26,
   "id": "6917d875",
   "metadata": {},
   "outputs": [],
   "source": [
    "class EEGCNN_Small(nn.Module):\n",
    "    def __init__(self, input_channels=19):\n",
    "        super().__init__()\n",
    "        self.cnn = nn.Sequential(\n",
    "            # Convolutional layers with BatchNorm and ReLU activations\n",
    "            nn.Conv1d(input_channels, 32, kernel_size=3, padding=1),\n",
    "            nn.BatchNorm1d(32),\n",
    "            nn.ReLU(),\n",
    "            nn.MaxPool1d(2),\n",
    "\n",
    "            # Second convolutional layer - only 2 allowing for a smaller model\n",
    "            nn.Conv1d(32, 64, kernel_size=3, padding=1),\n",
    "            nn.BatchNorm1d(64),\n",
    "            nn.ReLU(),\n",
    "            nn.AdaptiveAvgPool1d(1),  # Global average pooling\n",
    "        )\n",
    "        self.fc = nn.Sequential(\n",
    "            nn.Flatten(),\n",
    "            nn.Dropout(0.3),\n",
    "            nn.Linear(64, 1)\n",
    "        )\n",
    "\n",
    "    def forward(self, x):\n",
    "        x = x.permute(0, 2, 1)\n",
    "        x = self.cnn(x)\n",
    "        x = self.fc(x)\n",
    "        return x"
   ]
  },
  {
   "cell_type": "markdown",
   "id": "6adeafc7",
   "metadata": {},
   "source": [
    "### Training the CNN Model with Early Stopping\n",
    "\n",
    "We train the selected `EEGCNN_Small` model using a weighted binary classification loss to address the class imbalance in the dataset. The model is trained on GPU (if available) and optimized using the Adam optimizer.\n",
    "\n",
    "A weight of 4 is applied to the positive class in `BCEWithLogitsLoss`, ensuring that the minority class has a stronger influence during training.\n",
    "\n",
    "Key elements of the training loop:\n",
    "- Training and validation are performed over a maximum of 300 epochs.\n",
    "- The model tracks training and validation loss, as well as the macro F1 score on the validation set.\n",
    "- Early stopping is used with a patience of 20 epochs: if the validation F1 score doesn't improve for 20 consecutive epochs, training halts early.\n",
    "- The best model (based on F1 score) is saved and restored after training ends.\n",
    "\n",
    "Finally, we visualize:\n",
    "- Training and validation loss curves.\n",
    "- F1 score progression across epochs.\n",
    "- The epoch where the best F1 score was achieved is highlighted with a vertical dashed line.\n",
    "\n",
    "This setup ensures robustness to class imbalance while preventing overfitting through early stopping.\n"
   ]
  },
  {
   "cell_type": "code",
   "execution_count": 27,
   "id": "d5dc592b",
   "metadata": {},
   "outputs": [
    {
     "name": "stdout",
     "output_type": "stream",
     "text": [
      "Using device: cuda\n"
     ]
    }
   ],
   "source": [
    "# Set up device\n",
    "device = torch.device(\"cuda\" if torch.cuda.is_available() else \"cpu\")\n",
    "print(\"Using device:\", device)"
   ]
  },
  {
   "cell_type": "code",
   "execution_count": 35,
   "id": "45ffc146",
   "metadata": {},
   "outputs": [
    {
     "name": "stderr",
     "output_type": "stream",
     "text": [
      "Training:  25%|███████████▉                                   | 76/300 [02:47<08:13,  2.20s/it]"
     ]
    },
    {
     "name": "stdout",
     "output_type": "stream",
     "text": [
      "Early stopping triggered at epoch 77\n",
      "Restored best model with F1 = 0.7107\n"
     ]
    },
    {
     "name": "stderr",
     "output_type": "stream",
     "text": [
      "\n"
     ]
    }
   ],
   "source": [
    "model = EEGCNN_Small(input_channels=19).to(device)\n",
    "\n",
    "# Since the dataset is highly imbalanced, we will use a weighted loss function\n",
    "class_weight = 4  \n",
    "# Criterion for binary classification with class weights\n",
    "criterion = nn.BCEWithLogitsLoss(pos_weight=torch.FloatTensor([class_weight]).to(device))\n",
    "# Adam optimizer\n",
    "optimizer = optim.Adam(model.parameters(), lr=1e-4)\n",
    "\n",
    "num_epochs = 300\n",
    "patience = 20\n",
    "\n",
    "train_losses = []\n",
    "val_losses = []\n",
    "val_f1_scores = []\n",
    "\n",
    "best_f1 = 0\n",
    "epochs_without_improvement = 0\n",
    "best_model_state = None\n",
    "\n",
    "# Training loop\n",
    "for epoch in tqdm(range(num_epochs), desc=\"Training\"):\n",
    "    model.train()\n",
    "    running_loss = 0.0\n",
    "\n",
    "    for x_batch, y_batch in loader_tr:\n",
    "        x_batch = x_batch.float().to(device)\n",
    "        y_batch = y_batch.float().unsqueeze(1).to(device)\n",
    "\n",
    "        optimizer.zero_grad()\n",
    "        logits = model(x_batch)\n",
    "        loss = criterion(logits, y_batch)\n",
    "        loss.backward()\n",
    "        optimizer.step()\n",
    "\n",
    "        running_loss += loss.item()\n",
    "\n",
    "    avg_loss = running_loss / len(loader_tr)\n",
    "    train_losses.append(avg_loss)\n",
    "\n",
    "    # Validation\n",
    "    model.eval()\n",
    "    val_running_loss = 0.0\n",
    "    all_labels = []\n",
    "    all_preds = []\n",
    "\n",
    "    with torch.no_grad():\n",
    "        for x_val, y_val in loader_val:\n",
    "            x_val = x_val.float().to(device)\n",
    "            y_val = y_val.float().unsqueeze(1).to(device)\n",
    "\n",
    "            val_logits = model(x_val)\n",
    "            val_probs = torch.sigmoid(val_logits)\n",
    "            val_preds = (val_probs > 0.5).int()\n",
    "\n",
    "            all_labels.extend(y_val.cpu().numpy())\n",
    "            all_preds.extend(val_preds.cpu().numpy())\n",
    "\n",
    "            val_loss = criterion(val_logits, y_val)\n",
    "            val_running_loss += val_loss.item()\n",
    "\n",
    "    avg_val_loss = val_running_loss / len(loader_val)\n",
    "    val_losses.append(avg_val_loss)\n",
    "\n",
    "    val_f1 = f1_score(all_labels, all_preds, average='macro')\n",
    "    val_f1_scores.append(val_f1)\n",
    "\n",
    "    # Early Stopping Logic\n",
    "    if val_f1 > best_f1:\n",
    "        best_f1 = val_f1\n",
    "        epochs_without_improvement = 0\n",
    "        best_model_state = model.state_dict()\n",
    "    else:\n",
    "        epochs_without_improvement += 1\n",
    "\n",
    "    if epochs_without_improvement >= patience:\n",
    "        print(f\"Early stopping triggered at epoch {epoch+1}\")\n",
    "        break\n",
    "\n",
    "# Restore best model\n",
    "if best_model_state is not None:\n",
    "    model.load_state_dict(best_model_state)\n",
    "    print(f\"Restored best model with F1 = {best_f1:.4f}\")\n"
   ]
  },
  {
   "cell_type": "code",
   "execution_count": 36,
   "id": "677805fb",
   "metadata": {},
   "outputs": [
    {
     "data": {
      "image/png": "[encoded data removed]",
      "text/plain": [
       "<Figure size 600x400 with 1 Axes>"
      ]
     },
     "metadata": {},
     "output_type": "display_data"
    }
   ],
   "source": [
    "plt.figure(figsize=(6, 4))\n",
    "\n",
    "epochs_ran = len(train_losses)  # Actual number of epochs before stopping\n",
    "epoch_range = range(1, epochs_ran + 1)\n",
    "\n",
    "plt.plot(epoch_range, train_losses, marker=\"o\")\n",
    "plt.plot(epoch_range, val_losses, marker=\"o\")\n",
    "plt.plot(epoch_range, val_f1_scores, marker=\"o\")\n",
    "\n",
    "# Highlight best F1 epoch\n",
    "best_epoch = val_f1_scores.index(max(val_f1_scores)) + 1\n",
    "plt.axvline(best_epoch, color='gray', linestyle='--', alpha=0.7, label=f\"Best F1 (epoch {best_epoch})\")\n",
    "\n",
    "plt.title(\"CNN Training Metrics (with Early Stopping)\")\n",
    "plt.legend([\"Train Loss\", \"Validation Loss\", \"Validation F1 Score\"])\n",
    "plt.xlabel(\"Epoch\")\n",
    "plt.ylabel(\"Metric\")\n",
    "plt.grid(True)\n",
    "plt.tight_layout()\n",
    "plt.show()\n"
   ]
  },
  {
   "cell_type": "markdown",
   "id": "22eea87f",
   "metadata": {},
   "source": [
    "### Cross-Validation with the `evaluate` Function\n",
    "\n",
    "The `evaluate` function performs k-fold cross-validation (default: 5 folds) to assess model performance more robustly across different subsets of the dataset. Importantly, the splits are made at the patient level, ensuring that clips from the same patient do not appear in both training and validation sets, which helps prevent data leakage.\n",
    "\n",
    "For each fold:\n",
    "- The dataset is split into training and validation clips based on unique patient identifiers.\n",
    "- A fresh instance of the model is trained from scratch.\n",
    "- The training loop runs for a fixed number of epochs using the Adam optimizer and a weighted binary cross-entropy loss.\n",
    "- After training, the model is evaluated on the validation set using macro F1 score, which handles class imbalance.\n",
    "\n",
    "Finally, the function returns the average and standard deviation of F1 scores across all folds, offering a more stable measure of model performance.\n",
    "\n",
    "This modular function makes it easy to test different models, loss functions, transforms, or training settings consistently across multiple data splits."
   ]
  },
  {
   "cell_type": "code",
   "execution_count": 37,
   "id": "66f32e46",
   "metadata": {},
   "outputs": [
    {
     "name": "stdout",
     "output_type": "stream",
     "text": [
      "Fold 1/5\n",
      "Fold 1 F1 Score: 0.6907\n",
      "Fold 2/5\n",
      "Fold 2 F1 Score: 0.7035\n",
      "Fold 3/5\n",
      "Fold 3 F1 Score: 0.7314\n",
      "Fold 4/5\n",
      "Fold 4 F1 Score: 0.6975\n",
      "Fold 5/5\n",
      "Fold 5 F1 Score: 0.7174\n",
      "Cross-Validation Average F1 Score: 0.7081\n",
      "Cross-Validation F1 Score Standard Deviation: 0.0146\n"
     ]
    },
    {
     "data": {
      "text/plain": [
       "(np.float64(0.7081023061994445), np.float64(0.014607455262380041))"
      ]
     },
     "execution_count": 37,
     "metadata": {},
     "output_type": "execute_result"
    }
   ],
   "source": [
    "class_weight = 4\n",
    "criterion = nn.BCEWithLogitsLoss(pos_weight=torch.FloatTensor([class_weight]).to(device))\n",
    "\n",
    "evaluate(\n",
    "    EEGCNN_Small,\n",
    "    clips_tr,\n",
    "    signals_root=DATA_ROOT / \"train\",\n",
    "    num_epochs=300,\n",
    "    learning_rate=1e-4,\n",
    "    model_args={\n",
    "        \"input_channels\": 19\n",
    "    },\n",
    "    signal_transform=time_filtering,\n",
    "    batch_size=512,\n",
    "    prefetch=True,\n",
    "    criterion=criterion\n",
    ")"
   ]
  },
  {
   "cell_type": "markdown",
   "id": "fb3a6d4e",
   "metadata": {},
   "source": [
    "# Submission\n",
    "\n",
    "### Final Training and Test-Time Inference\n",
    "\n",
    "After selecting the best-performing model architecture and training configuration based on cross-validation, we retrain the `EEGCNN_Small` model on the **entire training dataset** to maximize the amount of data seen during learning.\n",
    "\n",
    "- The same preprocessing (`time_filtering`) and batch size are used.\n",
    "- The model is trained for 300 epochs using the same optimizer and weighted loss function as before.\n",
    "\n",
    "For inference:\n",
    "- Test data is loaded from a separate directory, using the same transform and signal structure as during training.\n",
    "- We enable `return_id=True` in the test dataset to retrieve unique sample identifiers needed for the submission.\n",
    "\n",
    "During prediction:\n",
    "- The model outputs logits (raw scores), which are thresholded at 0.\n",
    "- Binary predictions are collected along with their corresponding IDs.\n",
    "\n",
    "Finally, the predictions are written to a CSV file in the required submission format:\n",
    "- Each row contains an `id` and its corresponding `label`.\n",
    "- The file is saved as `cnn_submission_time.csv`.\n",
    "\n",
    "This process ensures consistency between training and inference, and prepares the model for evaluation on unseen test data.\n"
   ]
  },
  {
   "cell_type": "code",
   "execution_count": 39,
   "id": "b9f69068",
   "metadata": {},
   "outputs": [
    {
     "name": "stderr",
     "output_type": "stream",
     "text": [
      "Training: 100%|██████████████████████████████████████████████| 300/300 [11:34<00:00,  2.32s/it]\n"
     ]
    }
   ],
   "source": [
    "data_path = \"./data\"\n",
    "DATA_ROOT = Path(data_path)\n",
    "clips_tr = pd.read_parquet(DATA_ROOT / \"train/segments.parquet\")\n",
    "\n",
    "dataset_tr = EEGDataset(\n",
    "    clips_tr,\n",
    "    signals_root=DATA_ROOT / \"train\",\n",
    "    signal_transform=time_filtering,\n",
    "    prefetch=True\n",
    ")\n",
    "\n",
    "loader_tr = DataLoader(dataset_tr, batch_size=512, shuffle=True)\n",
    "\n",
    "model = EEGCNN_Small(input_channels=19).to(device)\n",
    "class_weight = 4  \n",
    "criterion = nn.BCEWithLogitsLoss(pos_weight=torch.FloatTensor([class_weight]).to(device))\n",
    "optimizer = optim.Adam(model.parameters(), lr=1e-4)  # use same LR as during CV\n",
    "\n",
    "# Train for a good number of epochs (e.g., 300)\n",
    "num_epochs = 300\n",
    "for epoch in tqdm(range(num_epochs), desc=\"Training\"):\n",
    "    model.train()\n",
    "    for x_batch, y_batch in loader_tr:\n",
    "        x_batch = x_batch.float().to(device)\n",
    "        y_batch = y_batch.float().unsqueeze(1).to(device)\n",
    "\n",
    "        optimizer.zero_grad()\n",
    "        logits = model(x_batch)\n",
    "        loss = criterion(logits, y_batch)\n",
    "        loss.backward()\n",
    "        optimizer.step()\n"
   ]
  },
  {
   "cell_type": "code",
   "execution_count": 40,
   "id": "2e410a47",
   "metadata": {},
   "outputs": [],
   "source": [
    "test_clips = pd.read_parquet(DATA_ROOT / \"test/segments.parquet\")\n",
    "\n",
    "dataset_te = EEGDataset(\n",
    "    test_clips,\n",
    "    signals_root=DATA_ROOT / \"test\",\n",
    "    signal_transform=time_filtering,  # same transform\n",
    "    prefetch=True,\n",
    "    return_id=True  # so we get 'id' for submission\n",
    ")\n",
    "\n",
    "loader_te = DataLoader(dataset_te, batch_size=512, shuffle=False)\n"
   ]
  },
  {
   "cell_type": "code",
   "execution_count": 41,
   "id": "b5064104",
   "metadata": {},
   "outputs": [
    {
     "name": "stdout",
     "output_type": "stream",
     "text": [
      "CNN submission file saved as cnn_submission_time.csv\n"
     ]
    }
   ],
   "source": [
    "model.eval()\n",
    "all_predictions = []\n",
    "all_ids = []\n",
    "\n",
    "with torch.no_grad():\n",
    "    for x_batch, x_ids in loader_te:\n",
    "        x_batch = x_batch.float().to(device)\n",
    "        logits = model(x_batch)\n",
    "        predictions = (logits > 0).int().cpu().numpy()\n",
    "\n",
    "        all_predictions.extend(predictions.flatten().tolist())\n",
    "        all_ids.extend(list(x_ids))\n",
    "\n",
    "submission_df = pd.DataFrame({\"id\": all_ids, \"label\": all_predictions})\n",
    "submission_df.to_csv(\"cnn_submission_time.csv\", index=False)\n",
    "print(\"CNN submission file saved as cnn_submission_time.csv\")\n"
   ]
  },
  {
   "cell_type": "code",
   "execution_count": null,
   "id": "df578475",
   "metadata": {},
   "outputs": [],
   "source": []
  }
 ],
 "metadata": {
  "kernelspec": {
   "display_name": "Python 3 (ipykernel)",
   "language": "python",
   "name": "python3"
  }
 },
 "nbformat": 4,
 "nbformat_minor": 5
}
