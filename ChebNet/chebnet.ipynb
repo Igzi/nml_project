{
 "cells": [
  {
   "cell_type": "code",
   "execution_count": 2,
   "id": "300dbb38",
   "metadata": {},
   "outputs": [],
   "source": [
    "from pathlib import Path\n",
    "\n",
    "import numpy as np\n",
    "import pandas as pd\n",
    "import matplotlib.pyplot as plt\n",
    "from scipy import signal\n",
    "from sklearn.model_selection import train_test_split\n",
    "\n",
    "from seiz_eeg.dataset import EEGDataset"
   ]
  },
  {
   "cell_type": "markdown",
   "id": "ae50dc8e",
   "metadata": {},
   "source": [
    "# The data\n",
    "\n",
    "We model *segments* of brain activity, which correspond to windows of a longer *session* of EEG recording.\n",
    "\n",
    "These segments, and their labels, are described in the `segments.parquet` files, which can be directly loaded with `pandas`."
   ]
  },
  {
   "cell_type": "code",
   "execution_count": 3,
   "id": "52207eda",
   "metadata": {},
   "outputs": [],
   "source": [
    "# You might need to change this according to where you store the data folder\n",
    "# Inside your data folder, you should have the following structure:\n",
    "# data\n",
    "# ├── train\n",
    "# │   ├── signals/\n",
    "# │   ├── segments.parquet\n",
    "# │-- test\n",
    "#     ├── signals/\n",
    "#     ├── segments.parquet\n",
    "\n",
    "data_path = \"./data\"  # Change this to your actual data path\n",
    "\n",
    "DATA_ROOT = Path(data_path)\n",
    "clips_tr = pd.read_parquet(DATA_ROOT / \"train/segments.parquet\")\n",
    "\n",
    "# Split the dataset by the 'patient' column\n",
    "patients = clips_tr['signals_path'].unique()\n",
    "train_patients, val_patients = train_test_split(patients, test_size=0.2, random_state=42)\n",
    "\n",
    "# Create training and validation datasets\n",
    "train_clips = clips_tr[clips_tr['signals_path'].isin(train_patients)]\n",
    "val_clips = clips_tr[clips_tr['signals_path'].isin(val_patients)]"
   ]
  },
  {
   "cell_type": "markdown",
   "id": "fcfeb485",
   "metadata": {},
   "source": [
    "## Loading the signals\n",
    "\n",
    "For convenience, the `EEGDataset class` provides functionality for loading each segment and its label as `numpy` arrays.\n",
    "\n",
    "You can provide an optional `signal_transform` function to preprocess the signals. In the example below, we have two bandpass filtering functions, which extract frequencies between 0.5Hz and 30Hz which are used in seizure analysis literature:\n",
    "\n",
    "The `EEGDataset` class also allows to load all data in memory, instead of reading it from disk at every iteration. If your compute allows it, you can use `prefetch=True`."
   ]
  },
  {
   "cell_type": "code",
   "execution_count": 4,
   "id": "f6898d42",
   "metadata": {},
   "outputs": [],
   "source": [
    "bp_filter = signal.butter(4, (0.5, 30), btype=\"bandpass\", output=\"sos\", fs=250)\n",
    "\n",
    "\n",
    "def time_filtering(x: np.ndarray) -> np.ndarray:\n",
    "    \"\"\"Filter signal in the time domain\"\"\"\n",
    "    return signal.sosfiltfilt(bp_filter, x, axis=0).copy()\n",
    "\n",
    "\n",
    "def fft_filtering(x: np.ndarray) -> np.ndarray:\n",
    "    \"\"\"Compute FFT and only keep\"\"\"\n",
    "    x = np.abs(np.fft.fft(x, axis=0))\n",
    "    x = np.log(np.where(x > 1e-8, x, 1e-8))\n",
    "\n",
    "    win_len = x.shape[0]\n",
    "    # Only frequencies b/w 0.5 and 30Hz\n",
    "    return x[int(0.5 * win_len // 250) : 30 * win_len // 250]"
   ]
  },
  {
   "cell_type": "markdown",
   "id": "a7c1948a",
   "metadata": {},
   "source": [
    "## Compatibility with PyTorch\n",
    "\n",
    "The `EEGDataset` class is compatible with [pytorch datasets and dataloaders](https://pytorch.org/tutorials/beginner/basics/data_tutorial.html), which allow you to load batched data."
   ]
  },
  {
   "cell_type": "code",
   "execution_count": 5,
   "id": "5834e08f",
   "metadata": {},
   "outputs": [],
   "source": [
    "# Dependences\n",
    "import os\n",
    "import random\n",
    "\n",
    "import numpy as np\n",
    "\n",
    "import torch\n",
    "import torch.nn as nn\n",
    "import torch.optim as optim\n",
    "from torch.utils.data import DataLoader\n",
    "\n",
    "from tqdm import tqdm"
   ]
  },
  {
   "cell_type": "code",
   "execution_count": 6,
   "id": "311acc84",
   "metadata": {},
   "outputs": [],
   "source": [
    "def seed_everything(seed: int):\n",
    "    # Python random module\n",
    "    random.seed(seed)\n",
    "    # Numpy random module\n",
    "    np.random.seed(seed)\n",
    "    # Torch random seeds\n",
    "    torch.manual_seed(seed)\n",
    "    torch.cuda.manual_seed(seed)\n",
    "    torch.cuda.manual_seed_all(seed)  # if you are using multi-GPU.\n",
    "\n",
    "    # Set PYTHONHASHSEED environment variable for hash-based operations\n",
    "    os.environ[\"PYTHONHASHSEED\"] = str(seed)\n",
    "\n",
    "    # Ensure deterministic behavior in cudnn (may slow down your training)\n",
    "    torch.backends.cudnn.deterministic = True\n",
    "    torch.backends.cudnn.benchmark = False\n",
    "\n",
    "\n",
    "seed_everything(1)"
   ]
  },
  {
   "cell_type": "code",
   "execution_count": 7,
   "id": "c2126077",
   "metadata": {},
   "outputs": [],
   "source": [
    "train_dataset = EEGDataset(\n",
    "        train_clips,\n",
    "        signals_root=DATA_ROOT / \"train\",\n",
    "        signal_transform=time_filtering,\n",
    "        prefetch=True,  # If your compute does not allow it, you can use `prefetch=False`\n",
    "    )\n",
    "\n",
    "val_dataset = EEGDataset(\n",
    "        val_clips,\n",
    "        signals_root=DATA_ROOT / \"train\",\n",
    "        signal_transform=time_filtering,\n",
    "        prefetch=True,  # If your compute does not allow it, you can use `prefetch=False`\n",
    "    )\n",
    "\n",
    "loader_tr = DataLoader(\n",
    "        dataset=train_dataset,\n",
    "        shuffle=True,\n",
    "        batch_size=64,\n",
    "    )\n",
    "\n",
    "loader_val = DataLoader(\n",
    "        dataset=val_dataset,\n",
    "        shuffle=True,\n",
    "        batch_size=64,\n",
    "    )"
   ]
  },
  {
   "cell_type": "code",
   "execution_count": 8,
   "id": "0479f8d1",
   "metadata": {},
   "outputs": [
    {
     "name": "stdout",
     "output_type": "stream",
     "text": [
      "Using device: cuda\n"
     ]
    }
   ],
   "source": [
    "# Set up device\n",
    "device = torch.device(\"cuda\" if torch.cuda.is_available() else \"cpu\")\n",
    "print(\"Using device:\", device)"
   ]
  },
  {
   "cell_type": "code",
   "execution_count": 9,
   "id": "4e139014",
   "metadata": {},
   "outputs": [
    {
     "name": "stdout",
     "output_type": "stream",
     "text": [
      "torch.Size([1, 19, 19])\n"
     ]
    }
   ],
   "source": [
    "adj = np.genfromtxt('./data/distances_3d.csv', skip_header=1, delimiter=',')[:, -1].reshape(19,19)\n",
    "adj = torch.tensor(adj, dtype=torch.float32).to(device).unsqueeze(0)\n",
    "print(adj.shape)"
   ]
  },
  {
   "cell_type": "code",
   "execution_count": 10,
   "id": "52cb40a7",
   "metadata": {},
   "outputs": [],
   "source": [
    "import torch\n",
    "import torch.nn as nn\n",
    "import torch.nn.functional as F\n",
    "\n",
    "class ChebConv(nn.Module):\n",
    "    def __init__(self, in_channels, out_channels, K, adj):\n",
    "        super().__init__()\n",
    "        self.K = K\n",
    "        self.in_channels = in_channels\n",
    "        self.out_channels = out_channels\n",
    "        self.adj = adj  # [V, V]\n",
    "        self.register_buffer('laplacian', ChebConv.normalized_laplacian(adj))\n",
    "        self.linear = nn.Linear(in_channels * K, out_channels)\n",
    "\n",
    "    @staticmethod\n",
    "    def normalized_laplacian(adj):\n",
    "        # Compute normalized Laplacian\n",
    "        D = torch.diag(adj.sum(1))\n",
    "        D_inv_sqrt = torch.diag(1.0 / torch.sqrt(adj.sum(1) + 1e-5))\n",
    "        L = torch.eye(adj.size(0), device=adj.device) - D_inv_sqrt @ adj @ D_inv_sqrt\n",
    "        return L\n",
    "\n",
    "    def chebyshev_polynomials(self, x):\n",
    "        # x: [N, T, V, in_channels]\n",
    "        L = self.laplacian\n",
    "        Tx_0 = x\n",
    "        Tx_1 = torch.einsum('vw,ntwc->ntwc', L, x)\n",
    "        T_list = [Tx_0, Tx_1]\n",
    "        for k in range(2, self.K):\n",
    "            Tx_k = 2 * torch.einsum('vw,ntwc->ntwc', L, T_list[-1]) - T_list[-2]\n",
    "            T_list.append(Tx_k)\n",
    "        return T_list\n",
    "\n",
    "    def forward(self, x):\n",
    "        # x: [N, T, V, in_channels]\n",
    "        cheb_polys = self.chebyshev_polynomials(x)\n",
    "        out = torch.cat(cheb_polys, dim=-1)  # [N, T, V, in_channels*K]\n",
    "        out = self.linear(out)  # [N, T, V, out_channels]\n",
    "        return out"
   ]
  },
  {
   "cell_type": "code",
   "execution_count": 11,
   "id": "d76e35c7",
   "metadata": {},
   "outputs": [],
   "source": [
    "class ChebNetEEG(nn.Module):\n",
    "    def __init__(self, in_channels, hidden_channels, out_channels, K, adj):\n",
    "        super().__init__()\n",
    "        self.cheb1 = ChebConv(in_channels, hidden_channels, K, adj)\n",
    "        self.cheb2 = ChebConv(hidden_channels, hidden_channels, K, adj)\n",
    "        self.fc = nn.Linear(hidden_channels, out_channels)\n",
    "\n",
    "    def forward(self, x):\n",
    "        # x: [N, T, V] -> [N, T, V, 1]\n",
    "        x = x.unsqueeze(-1)\n",
    "        x = F.relu(self.cheb1(x))\n",
    "        x = F.relu(self.cheb2(x))\n",
    "        x = x.mean(dim=1)  # Temporal average: [N, V, hidden]\n",
    "        x = x.mean(dim=1)  # Spatial average: [N, hidden]\n",
    "        x = self.fc(x)\n",
    "        return x"
   ]
  },
  {
   "cell_type": "code",
   "execution_count": 12,
   "id": "ca8e472e",
   "metadata": {},
   "outputs": [],
   "source": [
    "K = 3  # Chebyshev polynomial order\n",
    "hidden_channels = 32\n",
    "model = ChebNetEEG(\n",
    "    in_channels=1,  # since you use fft_filtering, adjust if needed\n",
    "    hidden_channels=hidden_channels,\n",
    "    out_channels=1,  # binary classification\n",
    "    K=K,\n",
    "    adj=adj.squeeze(0),  # [V, V]\n",
    ").to(device)\n",
    "class_weight =4\n",
    "criterion = nn.BCEWithLogitsLoss(pos_weight=torch.FloatTensor([class_weight]).to(device))\n",
    "optimizer = optim.Adam(model.parameters(), lr=1e-3)\n"
   ]
  },
  {
   "cell_type": "code",
   "execution_count": 18,
   "id": "f7fe2f98",
   "metadata": {},
   "outputs": [
    {
     "name": "stdout",
     "output_type": "stream",
     "text": [
      "Number of model parameters: 3265\n"
     ]
    }
   ],
   "source": [
    "num_params = sum(p.numel() for p in model.parameters())\n",
    "print(f\"Number of model parameters: {num_params}\")"
   ]
  },
  {
   "cell_type": "code",
   "execution_count": 13,
   "id": "2792dcf1",
   "metadata": {},
   "outputs": [
    {
     "name": "stdout",
     "output_type": "stream",
     "text": [
      "Model is using GPU\n"
     ]
    },
    {
     "name": "stderr",
     "output_type": "stream",
     "text": [
      "Training:   4%|███████▎                                                                                                                                                                               | 1/25 [00:13<05:18, 13.25s/it]"
     ]
    },
    {
     "name": "stdout",
     "output_type": "stream",
     "text": [
      "0.5849072666719408\n"
     ]
    },
    {
     "name": "stderr",
     "output_type": "stream",
     "text": [
      "Training:   8%|██████████████▋                                                                                                                                                                        | 2/25 [00:25<04:56, 12.88s/it]"
     ]
    },
    {
     "name": "stdout",
     "output_type": "stream",
     "text": [
      "0.6246744814272123\n"
     ]
    },
    {
     "name": "stderr",
     "output_type": "stream",
     "text": [
      "Training:  12%|█████████████████████▉                                                                                                                                                                 | 3/25 [00:38<04:41, 12.78s/it]"
     ]
    },
    {
     "name": "stdout",
     "output_type": "stream",
     "text": [
      "0.4925934056667825\n"
     ]
    },
    {
     "name": "stderr",
     "output_type": "stream",
     "text": [
      "Training:  16%|█████████████████████████████▎                                                                                                                                                         | 4/25 [00:51<04:27, 12.72s/it]"
     ]
    },
    {
     "name": "stdout",
     "output_type": "stream",
     "text": [
      "0.6232118825735602\n"
     ]
    },
    {
     "name": "stderr",
     "output_type": "stream",
     "text": [
      "Training:  20%|████████████████████████████████████▌                                                                                                                                                  | 5/25 [01:03<04:14, 12.73s/it]"
     ]
    },
    {
     "name": "stdout",
     "output_type": "stream",
     "text": [
      "0.649065895965383\n"
     ]
    },
    {
     "name": "stderr",
     "output_type": "stream",
     "text": [
      "Training:  24%|███████████████████████████████████████████▉                                                                                                                                           | 6/25 [01:16<04:01, 12.69s/it]"
     ]
    },
    {
     "name": "stdout",
     "output_type": "stream",
     "text": [
      "0.6202085645019642\n"
     ]
    },
    {
     "name": "stderr",
     "output_type": "stream",
     "text": [
      "Training:  28%|███████████████████████████████████████████████████▏                                                                                                                                   | 7/25 [01:29<03:47, 12.66s/it]"
     ]
    },
    {
     "name": "stdout",
     "output_type": "stream",
     "text": [
      "0.617210836618654\n"
     ]
    },
    {
     "name": "stderr",
     "output_type": "stream",
     "text": [
      "Training:  32%|██████████████████████████████████████████████████████████▌                                                                                                                            | 8/25 [01:41<03:35, 12.66s/it]"
     ]
    },
    {
     "name": "stdout",
     "output_type": "stream",
     "text": [
      "0.5703716216216217\n"
     ]
    },
    {
     "name": "stderr",
     "output_type": "stream",
     "text": [
      "Training:  36%|█████████████████████████████████████████████████████████████████▉                                                                                                                     | 9/25 [01:59<03:47, 14.22s/it]"
     ]
    },
    {
     "name": "stdout",
     "output_type": "stream",
     "text": [
      "0.5988672983656551\n"
     ]
    },
    {
     "name": "stderr",
     "output_type": "stream",
     "text": [
      "Training:  40%|████████████████████████████████████████████████████████████████████████▊                                                                                                             | 10/25 [02:26<04:31, 18.12s/it]"
     ]
    },
    {
     "name": "stdout",
     "output_type": "stream",
     "text": [
      "0.6785129129301617\n"
     ]
    },
    {
     "name": "stderr",
     "output_type": "stream",
     "text": [
      "Training:  44%|████████████████████████████████████████████████████████████████████████████████                                                                                                      | 11/25 [03:38<08:06, 34.75s/it]"
     ]
    },
    {
     "name": "stdout",
     "output_type": "stream",
     "text": [
      "0.589171974522293\n"
     ]
    },
    {
     "name": "stderr",
     "output_type": "stream",
     "text": [
      "Training:  48%|███████████████████████████████████████████████████████████████████████████████████████▎                                                                                              | 12/25 [04:58<10:31, 48.55s/it]"
     ]
    },
    {
     "name": "stdout",
     "output_type": "stream",
     "text": [
      "0.6906633778854226\n"
     ]
    },
    {
     "name": "stderr",
     "output_type": "stream",
     "text": [
      "Training:  52%|██████████████████████████████████████████████████████████████████████████████████████████████▋                                                                                       | 13/25 [06:25<12:01, 60.13s/it]"
     ]
    },
    {
     "name": "stdout",
     "output_type": "stream",
     "text": [
      "0.6549856937987988\n"
     ]
    },
    {
     "name": "stderr",
     "output_type": "stream",
     "text": [
      "Training:  56%|█████████████████████████████████████████████████████████████████████████████████████████████████████▉                                                                                | 14/25 [07:52<12:29, 68.17s/it]"
     ]
    },
    {
     "name": "stdout",
     "output_type": "stream",
     "text": [
      "0.6414284922073914\n"
     ]
    },
    {
     "name": "stderr",
     "output_type": "stream",
     "text": [
      "Training:  60%|█████████████████████████████████████████████████████████████████████████████████████████████████████████████▏                                                                        | 15/25 [09:13<12:01, 72.17s/it]"
     ]
    },
    {
     "name": "stdout",
     "output_type": "stream",
     "text": [
      "0.5752588671784572\n"
     ]
    },
    {
     "name": "stderr",
     "output_type": "stream",
     "text": [
      "Training:  64%|████████████████████████████████████████████████████████████████████████████████████████████████████████████████████▍                                                                 | 16/25 [10:41<11:32, 76.91s/it]"
     ]
    },
    {
     "name": "stdout",
     "output_type": "stream",
     "text": [
      "0.5479123340265557\n"
     ]
    },
    {
     "name": "stderr",
     "output_type": "stream",
     "text": [
      "Training:  68%|███████████████████████████████████████████████████████████████████████████████████████████████████████████████████████████▊                                                          | 17/25 [12:09<10:40, 80.11s/it]"
     ]
    },
    {
     "name": "stdout",
     "output_type": "stream",
     "text": [
      "0.5784248882424848\n"
     ]
    },
    {
     "name": "stderr",
     "output_type": "stream",
     "text": [
      "Training:  72%|███████████████████████████████████████████████████████████████████████████████████████████████████████████████████████████████████                                                   | 18/25 [13:15<08:52, 76.06s/it]"
     ]
    },
    {
     "name": "stdout",
     "output_type": "stream",
     "text": [
      "0.6465973163162726\n"
     ]
    },
    {
     "name": "stderr",
     "output_type": "stream",
     "text": [
      "Training:  76%|██████████████████████████████████████████████████████████████████████████████████████████████████████████████████████████████████████████▎                                           | 19/25 [14:41<07:54, 79.02s/it]"
     ]
    },
    {
     "name": "stdout",
     "output_type": "stream",
     "text": [
      "0.58750942177237\n"
     ]
    },
    {
     "name": "stderr",
     "output_type": "stream",
     "text": [
      "Training:  80%|█████████████████████████████████████████████████████████████████████████████████████████████████████████████████████████████████████████████████▌                                    | 20/25 [14:59<05:02, 60.58s/it]"
     ]
    },
    {
     "name": "stdout",
     "output_type": "stream",
     "text": [
      "0.6505339609600181\n"
     ]
    },
    {
     "name": "stderr",
     "output_type": "stream",
     "text": [
      "Training:  84%|████████████████████████████████████████████████████████████████████████████████████████████████████████████████████████████████████████████████████████▉                             | 21/25 [15:12<03:04, 46.20s/it]"
     ]
    },
    {
     "name": "stdout",
     "output_type": "stream",
     "text": [
      "0.6727030020733336\n"
     ]
    },
    {
     "name": "stderr",
     "output_type": "stream",
     "text": [
      "Training:  88%|████████████████████████████████████████████████████████████████████████████████████████████████████████████████████████████████████████████████████████████████▏                     | 22/25 [15:25<01:48, 36.25s/it]"
     ]
    },
    {
     "name": "stdout",
     "output_type": "stream",
     "text": [
      "0.6190318900291502\n"
     ]
    },
    {
     "name": "stderr",
     "output_type": "stream",
     "text": [
      "Training:  92%|███████████████████████████████████████████████████████████████████████████████████████████████████████████████████████████████████████████████████████████████████████▍              | 23/25 [15:37<00:58, 29.20s/it]"
     ]
    },
    {
     "name": "stdout",
     "output_type": "stream",
     "text": [
      "0.6298307011357388\n"
     ]
    },
    {
     "name": "stderr",
     "output_type": "stream",
     "text": [
      "Training:  96%|██████████████████████████████████████████████████████████████████████████████████████████████████████████████████████████████████████████████████████████████████████████████▋       | 24/25 [15:50<00:24, 24.19s/it]"
     ]
    },
    {
     "name": "stdout",
     "output_type": "stream",
     "text": [
      "0.6398788199370056\n"
     ]
    },
    {
     "name": "stderr",
     "output_type": "stream",
     "text": [
      "Training: 100%|██████████████████████████████████████████████████████████████████████████████████████████████████████████████████████████████████████████████████████████████████████████████████████| 25/25 [16:03<00:00, 38.52s/it]"
     ]
    },
    {
     "name": "stdout",
     "output_type": "stream",
     "text": [
      "0.6131652441729961\n"
     ]
    },
    {
     "name": "stderr",
     "output_type": "stream",
     "text": [
      "\n"
     ]
    }
   ],
   "source": [
    "from sklearn.metrics import f1_score, precision_score, recall_score\n",
    "\n",
    "# Training loop\n",
    "num_epochs = 25\n",
    "train_losses = []\n",
    "val_losses = []\n",
    "val_f1_scores = []\n",
    "val_precision_scores = []\n",
    "val_recall_scores = []\n",
    "val_best_thresholds = []\n",
    "\n",
    "# check if if the model is using GPU\n",
    "if torch.cuda.is_available():\n",
    "    print(\"Model is using GPU\")\n",
    "else:\n",
    "    print(\"Model is using CPU\")\n",
    "\n",
    "for epoch in tqdm(range(num_epochs), desc=\"Training\"):\n",
    "    model.train()\n",
    "    running_loss = 0.0\n",
    "\n",
    "    for x_batch, y_batch in loader_tr:\n",
    "        # Move data to GPU (if available)\n",
    "        x_batch = x_batch.float().to(device)  # [batch_size, seq_len, input_dim]\n",
    "        y_batch = y_batch.float().unsqueeze(1).to(device)  # [batch_size, 1]\n",
    "\n",
    "        # Forward pass\n",
    "        logits = model(x_batch)\n",
    "        loss = criterion(logits, y_batch)\n",
    "\n",
    "        # Backward pass\n",
    "        optimizer.zero_grad()\n",
    "        loss.backward()\n",
    "        optimizer.step()\n",
    "\n",
    "        running_loss += loss.item()\n",
    "\n",
    "    avg_loss = running_loss / len(loader_tr)\n",
    "    train_losses.append(avg_loss)\n",
    "\n",
    "    # Validation phase\n",
    "    model.eval()\n",
    "    val_running_loss = 0.0\n",
    "    all_labels = []\n",
    "    all_preds = []\n",
    "\n",
    "    with torch.no_grad():\n",
    "        for x_val, y_val in loader_val:\n",
    "            # Move data to GPU (if available)\n",
    "            x_val = x_val.float().to(device)  # [batch_size, seq_len, input_dim]\n",
    "            y_val = y_val.float().unsqueeze(1).to(device)  # [batch_size, 1]\n",
    "\n",
    "            # Forward pass\n",
    "            val_logits = model(x_val)\n",
    "            val_probs = torch.sigmoid(val_logits)  # Apply sigmoid for binary classification\n",
    "            val_preds = (val_probs > 0.5).int()  # Convert probabilities to binary predictions\n",
    "\n",
    "            # Collect all labels and predictions\n",
    "            all_labels.extend(y_val.cpu().numpy())\n",
    "            all_preds.extend(val_preds.cpu().numpy())\n",
    "\n",
    "            # Compute validation loss\n",
    "            val_loss = criterion(val_logits, y_val)\n",
    "            val_running_loss += val_loss.item()\n",
    "\n",
    "    avg_val_loss = val_running_loss / len(loader_val)\n",
    "    val_losses.append(avg_val_loss)\n",
    "\n",
    "    # Compute metrics for validation data\n",
    "    all_labels = np.array(all_labels).flatten()\n",
    "    all_preds = np.array(all_preds).flatten()\n",
    "    val_f1 = f1_score(all_labels, all_preds, average='macro')\n",
    "    val_precision = precision_score(all_labels, all_preds, average='macro')\n",
    "    val_recall = recall_score(all_labels, all_preds, average='macro')\n",
    "    val_f1_scores.append(val_f1)\n",
    "    val_precision_scores.append(val_precision)\n",
    "    val_recall_scores.append(val_recall)\n",
    "    print(val_f1)"
   ]
  },
  {
   "cell_type": "code",
   "execution_count": 14,
   "id": "554c2e05",
   "metadata": {},
   "outputs": [
    {
     "data": {
      "image/png": "[encoded data removed]",
      "text/plain": [
       "<Figure size 600x400 with 1 Axes>"
      ]
     },
     "metadata": {},
     "output_type": "display_data"
    }
   ],
   "source": [
    "# Plot the training loss\n",
    "import matplotlib.pyplot as plt\n",
    "\n",
    "plt.figure(figsize=(6, 4))\n",
    "plt.plot(range(1, num_epochs + 1), train_losses, marker=\"o\")\n",
    "plt.plot(range(1, num_epochs + 1), val_losses, marker=\"o\")\n",
    "plt.plot(range(1, num_epochs + 1), val_f1_scores, marker=\"o\")\n",
    "#plt.plot(range(1, num_epochs + 1), val_precision_scores, marker=\"o\")\n",
    "#plt.plot(range(1, num_epochs + 1), val_recall_scores, marker=\"o\")\n",
    "plt.title(\"Loss Over Epochs\")\n",
    "plt.legend([\"Train\", \"Validation\", \"Validation F1 Score\", \"Validation Precision\", \"Validation Recall\"])\n",
    "plt.xlabel(\"Epoch\")\n",
    "plt.ylabel(\"Loss\")\n",
    "plt.grid(True)\n",
    "plt.show()"
   ]
  },
  {
   "cell_type": "code",
   "execution_count": null,
   "id": "49aabe01",
   "metadata": {},
   "outputs": [
    {
     "name": "stdout",
     "output_type": "stream",
     "text": [
      "Using GPU for evaluation\n",
      "Fold 1/5\n",
      "Fold 1 F1 Score: 0.6426\n",
      "Fold 2/5\n",
      "Fold 2 F1 Score: 0.5855\n",
      "Fold 3/5\n",
      "Fold 3 F1 Score: 0.6187\n",
      "Fold 4/5\n",
      "Fold 4 F1 Score: 0.5828\n",
      "Fold 5/5\n",
      "Fold 5 F1 Score: 0.5679\n",
      "Cross-Validation Average F1 Score: 0.5995\n",
      "Cross-Validation F1 Score Standard Deviation: 0.0272\n"
     ]
    },
    {
     "data": {
      "text/plain": [
       "(0.5995227164074473, 0.027207378789669636)"
      ]
     },
     "execution_count": 15,
     "metadata": {},
     "output_type": "execute_result"
    },
    {
     "ename": "",
     "evalue": "",
     "output_type": "error",
     "traceback": [
      "\u001b[1;31mThe Kernel crashed while executing code in the current cell or a previous cell. \n",
      "\u001b[1;31mPlease review the code in the cell(s) to identify a possible cause of the failure. \n",
      "\u001b[1;31mClick <a href='https://aka.ms/vscodeJupyterKernelCrash'>here</a> for more info. \n",
      "\u001b[1;31mView Jupyter <a href='command:jupyter.viewOutput'>log</a> for further details."
     ]
    }
   ],
   "source": [
    "from evaluation import evaluate\n",
    "\n",
    "DATA_ROOT = Path(data_path)\n",
    "clips_tr = pd.read_parquet(DATA_ROOT / \"train/segments.parquet\")\n",
    "\n",
    "class_weight = 4\n",
    "criterion = nn.BCEWithLogitsLoss(pos_weight=torch.FloatTensor([class_weight]).to(device))\n",
    "\n",
    "# check if the it using gpu\n",
    "if torch.cuda.is_available():\n",
    "    print(\"Using GPU for evaluation\")\n",
    "else:\n",
    "    print(\"Using CPU for evaluation\")\n",
    "\n",
    "evaluate(\n",
    "    ChebNetEEG,\n",
    "    clips_tr,\n",
    "    signals_root=DATA_ROOT / \"train\",\n",
    "    num_epochs=15,\n",
    "    learning_rate=1e-3,\n",
    "    model_args={\n",
    "        \"out_channels\": 1,\n",
    "        \"in_channels\": 1,\n",
    "        \"hidden_channels\": 32,  \n",
    "        \"K\": 3,                \n",
    "        \"adj\": adj.squeeze(0),  # Use the correct argument name\n",
    "    },\n",
    "    criterion=criterion,\n",
    "    signal_transform=time_filtering,\n",
    "    batch_size=256,  # Reduce batch size to avoid OOM\n",
    "    prefetch=True, # Set to False if you still get OOM\n",
    ")"
   ]
  },
  {
   "cell_type": "markdown",
   "id": "a1eb71b6",
   "metadata": {},
   "source": [
    "# Submission"
   ]
  },
  {
   "cell_type": "code",
   "execution_count": null,
   "id": "1aeaef3d",
   "metadata": {},
   "outputs": [],
   "source": [
    "test_clips = pd.read_parquet(DATA_ROOT / \"test/segments.parquet\")"
   ]
  },
  {
   "cell_type": "code",
   "execution_count": null,
   "id": "b6240fd2",
   "metadata": {},
   "outputs": [],
   "source": [
    "# Create test dataset\n",
    "dataset_te = EEGDataset(\n",
    "    test_clips,  # Your test clips variable\n",
    "    signals_root=DATA_ROOT\n",
    "    / \"test\",  # Update this path if your test signals are stored elsewhere\n",
    "    signal_transform=fft_filtering,  # You can change or remove the signal_transform as needed\n",
    "    prefetch=True,  # Set to False if prefetching causes memory issues on your compute environment\n",
    "    return_id=True,  # Return the id of each sample instead of the label\n",
    ")\n",
    "\n",
    "# Create DataLoader for the test dataset\n",
    "loader_te = DataLoader(dataset_te, batch_size=512, shuffle=False)"
   ]
  },
  {
   "cell_type": "code",
   "execution_count": null,
   "id": "3ea96627",
   "metadata": {},
   "outputs": [
    {
     "name": "stdout",
     "output_type": "stream",
     "text": [
      "Kaggle submission file generated: submission.csv\n"
     ]
    }
   ],
   "source": [
    "# Generate the submission file for Kaggle\n",
    "\n",
    "# Set the model to evaluation mode\n",
    "model.eval()\n",
    "\n",
    "# Lists to store sample IDs and predictions\n",
    "all_predictions = []\n",
    "all_ids = []\n",
    "\n",
    "# Disable gradient computation for inference\n",
    "with torch.no_grad():\n",
    "    for batch in loader_te:\n",
    "        # Assume each batch returns a tuple (x_batch, sample_id)\n",
    "        # If your dataset does not provide IDs, you can generate them based on the batch index.\n",
    "        x_batch, x_ids = batch\n",
    "\n",
    "        # Move the input data to the device (GPU or CPU)\n",
    "        x_batch = x_batch.float().to(device)\n",
    "\n",
    "        # Perform the forward pass to get the model's output logits\n",
    "        logits = model(x_batch)\n",
    "\n",
    "        # Convert logits to predictions.\n",
    "        # For binary classification, threshold logits at 0 (adjust this if you use softmax or multi-class).\n",
    "        predictions = (logits > 0).int().cpu().numpy()\n",
    "\n",
    "        # Append predictions and corresponding IDs to the lists\n",
    "        all_predictions.extend(predictions.flatten().tolist())\n",
    "        all_ids.extend(list(x_ids))\n",
    "\n",
    "# Create a DataFrame for Kaggle submission with the required format: \"id,label\"\n",
    "submission_df = pd.DataFrame({\"id\": all_ids, \"label\": all_predictions})\n",
    "\n",
    "# Save the DataFrame to a CSV file without an index\n",
    "submission_df.to_csv(\"submission_seed1.csv\", index=False)\n",
    "print(\"Kaggle submission file generated: submission.csv\")"
   ]
  },
  {
   "cell_type": "code",
   "execution_count": null,
   "id": "b99a5a98",
   "metadata": {},
   "outputs": [],
   "source": []
  }
 ],
 "metadata": {
  "kernelspec": {
   "display_name": "Python (venv-for-demo)",
   "language": "python",
   "name": "venv-for-demo"
  },
  "language_info": {
   "codemirror_mode": {
    "name": "ipython",
    "version": 3
   },
   "file_extension": ".py",
   "mimetype": "text/x-python",
   "name": "python",
   "nbconvert_exporter": "python",
   "pygments_lexer": "ipython3",
   "version": "3.10.4"
  }
 },
 "nbformat": 4,
 "nbformat_minor": 5
}
