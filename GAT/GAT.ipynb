{
 "cells": [
  {
   "cell_type": "markdown",
   "id": "c8fe2213",
   "metadata": {},
   "source": [
    "# GAT for EEG classification\n",
    "\n",
    "```python"
   ]
  },
  {
   "cell_type": "markdown",
   "id": "3f00a97c",
   "metadata": {},
   "source": [
    "In this notebook we will implement a Graph Attention Network (GAT) for EEG classification using PyTorch Geometric.  \n",
    "This notebook contains the following sections:\n",
    "1. **Dataset loading**: Load the EEG dataset and apply necessary preprocessing.\n",
    "2. **GAT implementation**: Define the GAT model architecture and training loop.\n",
    "3. **Submission**: Prepare the submission file with predictions.\n",
    "4. **K-Fold evaluation**: Implement K-Fold cross-validation to evaluate the model's performance.\n",
    "5. **Interpretability**: Visualize the attention weights to understand the model's focus on different EEG channels."
   ]
  },
  {
   "cell_type": "markdown",
   "id": "8522eb95",
   "metadata": {},
   "source": [
    "## Dataset loading"
   ]
  },
  {
   "cell_type": "code",
   "execution_count": 17,
   "id": "7a256ca6",
   "metadata": {},
   "outputs": [],
   "source": [
    "from pathlib import Path\n",
    "\n",
    "import torch\n",
    "import numpy as np\n",
    "import pandas as pd\n",
    "import matplotlib.pyplot as plt\n",
    "from scipy import signal\n",
    "from sklearn.model_selection import train_test_split\n",
    "\n",
    "from seiz_eeg.dataset import EEGDataset\n",
    "import torch.optim as optim\n",
    "\n",
    "from torch.utils.data import DataLoader\n",
    "from tqdm import tqdm\n",
    "\n",
    "import sys\n",
    "BASE_DIR = \"/home/stnikoli/nml_project/GAT\"\n",
    "\n",
    "sys.path.append(BASE_DIR)"
   ]
  },
  {
   "cell_type": "code",
   "execution_count": 18,
   "id": "af4a1850",
   "metadata": {},
   "outputs": [],
   "source": [
    "# You might need to change this according to where you store the data folder\n",
    "# Inside your data folder, you should have the following structure:\n",
    "# data\n",
    "# ├── train\n",
    "# │   ├── signals/\n",
    "# │   ├── segments.parquet\n",
    "# │-- test\n",
    "#     ├── signals/\n",
    "#     ├── segments.parquet\n",
    "\n",
    "data_path = \"/home/stnikoli/nml_project/data\"\n",
    "\n",
    "DATA_ROOT = Path(data_path)\n",
    "clips_tr = pd.read_parquet(DATA_ROOT / \"train/segments.parquet\")\n",
    "\n",
    "# Split the dataset by the 'patient' column\n",
    "patients = clips_tr['signals_path'].unique()\n",
    "train_patients, val_patients = train_test_split(patients, test_size=0.2, random_state=42, shuffle=True)\n",
    "\n",
    "# Create training and validation datasets\n",
    "train_clips = clips_tr[clips_tr['signals_path'].isin(train_patients)]\n",
    "val_clips = clips_tr[clips_tr['signals_path'].isin(val_patients)]\n",
    "\n",
    "# split the clips into training and validation sets\n",
    "# train_clips, val_clips = train_test_split(clips_tr, test_size=0.2, random_state=42)"
   ]
  },
  {
   "cell_type": "code",
   "execution_count": 19,
   "id": "62593f2e",
   "metadata": {},
   "outputs": [],
   "source": [
    "\n",
    "from hjorth_features import create_hjorth_transforms\n",
    "\n",
    "_hjorth_transform, _ = create_hjorth_transforms()"
   ]
  },
  {
   "cell_type": "code",
   "execution_count": 20,
   "id": "5f21a12f",
   "metadata": {},
   "outputs": [],
   "source": [
    "def fft_filtering(x: np.ndarray) -> np.ndarray:\n",
    "    \"\"\"Compute FFT and only keep\"\"\"\n",
    "    x = np.abs(np.fft.fft(x, axis=0))\n",
    "    x = np.log(np.where(x > 1e-8, x, 1e-8))\n",
    "\n",
    "    win_len = x.shape[0]\n",
    "    # Only frequencies b/w 0.5 and 30Hz\n",
    "    return x[int(0.5 * win_len // 250) : 30 * win_len // 250]\n",
    "\n",
    "bp_filter = signal.butter(4, (0.5, 30), btype=\"bandpass\", output=\"sos\", fs=250)\n",
    "\n",
    "\n",
    "def time_filtering(x: np.ndarray) -> np.ndarray:\n",
    "    \"\"\"Filter signal in the time domain\"\"\"\n",
    "    return signal.sosfiltfilt(bp_filter, x, axis=0).copy()"
   ]
  },
  {
   "cell_type": "code",
   "execution_count": 35,
   "id": "69253d10",
   "metadata": {},
   "outputs": [],
   "source": [
    "train_dataset = EEGDataset(\n",
    "        train_clips,\n",
    "        signals_root=DATA_ROOT / \"train\",\n",
    "        signal_transform=_hjorth_transform,\n",
    "        prefetch=True,  # If your compute does not allow it, you can use `prefetch=False`\n",
    "    )\n",
    "\n",
    "val_dataset = EEGDataset(\n",
    "        val_clips,\n",
    "        signals_root=DATA_ROOT / \"train\",\n",
    "        signal_transform=_hjorth_transform,\n",
    "        prefetch=True,  # If your compute does not allow it, you can use `prefetch=False`\n",
    "    )\n",
    "\n",
    "loader_tr = DataLoader(\n",
    "        dataset=train_dataset,\n",
    "        shuffle=True,\n",
    "        batch_size=512,\n",
    "    )\n",
    "\n",
    "loader_val = DataLoader(\n",
    "        dataset=val_dataset,\n",
    "        shuffle=True,\n",
    "        batch_size=512,\n",
    "    )"
   ]
  },
  {
   "cell_type": "code",
   "execution_count": 36,
   "id": "a783b26b",
   "metadata": {},
   "outputs": [
    {
     "name": "stdout",
     "output_type": "stream",
     "text": [
      "Signals shape: torch.Size([512, 15, 19])\n"
     ]
    }
   ],
   "source": [
    "for batch in loader_tr:\n",
    "    signals, labels = batch\n",
    "    break\n",
    "print(f\"Signals shape: {signals.shape}\")"
   ]
  },
  {
   "cell_type": "code",
   "execution_count": 21,
   "id": "1e31d79d",
   "metadata": {},
   "outputs": [
    {
     "name": "stdout",
     "output_type": "stream",
     "text": [
      "Using device: cuda\n"
     ]
    }
   ],
   "source": [
    "# Set up device\n",
    "device = torch.device(\"cuda\" if torch.cuda.is_available() else \"cpu\")\n",
    "print(\"Using device:\", device)"
   ]
  },
  {
   "cell_type": "code",
   "execution_count": 38,
   "id": "671a2821",
   "metadata": {},
   "outputs": [
    {
     "name": "stdout",
     "output_type": "stream",
     "text": [
      "Ones count: 2012, Zeros count: 8155\n"
     ]
    }
   ],
   "source": [
    "# count ones and zeros in the training set\n",
    "ones_count = np.sum([x[1] for x in train_dataset])\n",
    "zeros_count = len(train_dataset) - ones_count\n",
    "print(f\"Ones count: {ones_count}, Zeros count: {zeros_count}\")"
   ]
  },
  {
   "cell_type": "markdown",
   "id": "1716558c",
   "metadata": {},
   "source": [
    "## GAT implementation"
   ]
  },
  {
   "cell_type": "code",
   "execution_count": 22,
   "id": "92bcd90e",
   "metadata": {},
   "outputs": [],
   "source": [
    "import torch\n",
    "import torch.nn as nn\n",
    "import torch.optim as optim\n",
    "import torch.nn.functional as F\n",
    "from torch_geometric.nn import GATConv, global_mean_pool\n",
    "\n",
    "import numpy as np\n",
    "from pathlib import Path\n",
    "from tqdm import tqdm\n",
    "from torch.utils.data import DataLoader\n",
    "\n",
    "# Assume DATA_ROOT, _hjorth_transform, train_clips, and val_clips are defined\n",
    "# Assume device is also defined (e.g., device = torch.device(\"cuda\" if torch.cuda.is_available() else \"cpu\"))\n",
    "\n",
    "# ======================================================================\n",
    "# 1. Refined GAT Model Definition\n",
    "#    - The forward method now correctly accepts edge_index and batch.\n",
    "#    - The model no longer stores the adjacency matrix, simplifying its design.\n",
    "#    - The output dimension is set to 1, which is correct for BCEWithLogitsLoss.\n",
    "# ======================================================================\n",
    "\n",
    "class GATClassifier(nn.Module):\n",
    "    def __init__(self, num_node_features, num_classes=1, edge_index_template=None, evaluate=False):\n",
    "        super(GATClassifier, self).__init__()\n",
    "        \n",
    "        # GAT layers\n",
    "        self.conv1 = GATConv(num_node_features, 32, heads=4, dropout=0.5)\n",
    "        self.conv2 = GATConv(32 * 4, 64, heads=4, dropout=0.5)\n",
    "        \n",
    "        # Pooling and final classification layer\n",
    "        self.pool = global_mean_pool\n",
    "        self.fc = nn.Linear(64 * 4, num_classes)\n",
    "\n",
    "        self.edge_index_template = edge_index_template\n",
    "        self.evaluate = evaluate\n",
    "\n",
    "    def forward(self, x):\n",
    "        # The edge_index is now passed directly here\n",
    "        B, Nf, N = x.shape\n",
    "\n",
    "        # --- On-the-fly Batch Conversion ---\n",
    "        x_pyg = x.reshape(-1, Nf)\n",
    "        batch_vector = torch.arange(B, device=device).repeat_interleave(N)\n",
    "        edge_indices = [self.edge_index_template + i * N for i in range(B)]\n",
    "        edge_index = torch.cat(edge_indices, dim=1)\n",
    "        x = x_pyg.to(device)\n",
    "        x = F.elu(self.conv1(x, edge_index))\n",
    "        x, attention_weights = self.conv2(x, edge_index, return_attention_weights=True)\n",
    "        \n",
    "        x = self.pool(x, batch_vector)\n",
    "        x = F.dropout(x, p=0.5, training=self.training)\n",
    "        x = self.fc(x)\n",
    "        \n",
    "        if self.evaluate:\n",
    "            # For evaluation, we return the raw logits\n",
    "            return x\n",
    "        return x, attention_weights\n"
   ]
  },
  {
   "cell_type": "code",
   "execution_count": 23,
   "id": "62e0da49",
   "metadata": {},
   "outputs": [],
   "source": [
    "# ======================================================================\n",
    "# 2. Streamlined Graph Creation\n",
    "#    - This single function now handles loading distances and creating the\n",
    "#      sparse `edge_index` directly, removing redundant steps.\n",
    "# ======================================================================\n",
    "\n",
    "def create_graph_edge_index(distances_path, distance_threshold=None):\n",
    "    \"\"\"\n",
    "    Loads electrode distances and creates a sparse graph edge_index.\n",
    "    \"\"\"\n",
    "    # Load distance matrix, assuming 19 electrodes\n",
    "    distances = np.genfromtxt(distances_path, skip_header=1, delimiter=',')[:, -1].reshape(19, 19)\n",
    "    distances = torch.tensor(distances, dtype=torch.float32)\n",
    "    \n",
    "    if distance_threshold is None:\n",
    "        # Use an adaptive threshold based on the median distance\n",
    "        distance_threshold = torch.median(distances[distances > 0])\n",
    "    \n",
    "    # Create adjacency matrix and convert directly to edge_index\n",
    "    adj_matrix = (distances <= distance_threshold)\n",
    "    edge_index = adj_matrix.nonzero(as_tuple=False).t().contiguous()\n",
    "    \n",
    "    return edge_index"
   ]
  },
  {
   "cell_type": "code",
   "execution_count": 24,
   "id": "955fe0c3",
   "metadata": {},
   "outputs": [],
   "source": [
    "# ======================================================================\n",
    "# 3. Training Loop (Unchanged, as it was already correct)\n",
    "# ======================================================================\n",
    "\n",
    "def train_epoch(model, train_loader, criterion, optimizer, device):\n",
    "    \"\"\"Train the model for one epoch using a standard DataLoader.\"\"\"\n",
    "    model.train()\n",
    "    total_loss = 0.0\n",
    "    \n",
    "    for x_batch, y_batch in tqdm(train_loader, desc=\"Training\", leave=False):\n",
    "        x_batch = x_batch.float().to(device)\n",
    "        y_batch = y_batch.float().unsqueeze(1).to(device)\n",
    "\n",
    "        optimizer.zero_grad()\n",
    "        # This call now matches the corrected GATClassifier.forward signature\n",
    "        logits, _ = model(x_batch)\n",
    "        loss = criterion(logits, y_batch)\n",
    "        \n",
    "        loss.backward()\n",
    "        optimizer.step()\n",
    "        \n",
    "        total_loss += loss.item()\n",
    "    \n",
    "    return total_loss / len(train_loader)\n",
    "\n"
   ]
  },
  {
   "cell_type": "code",
   "execution_count": 25,
   "id": "d03e4dc3",
   "metadata": {},
   "outputs": [
    {
     "data": {
      "text/plain": [
       "tensor(0.6931, device='cuda:0')"
      ]
     },
     "execution_count": 25,
     "metadata": {},
     "output_type": "execute_result"
    }
   ],
   "source": [
    "criterion = nn.BCEWithLogitsLoss(pos_weight=torch.tensor([1], device=device))\n",
    "criterion(torch.tensor([0.0, 0.0, 0.0, 0.0], device=device), torch.tensor([1.0, 1.0, 1.0, 1.0], device=device))"
   ]
  },
  {
   "cell_type": "code",
   "execution_count": 26,
   "id": "a159208a",
   "metadata": {},
   "outputs": [],
   "source": [
    "from sklearn.metrics import f1_score, precision_score, recall_score\n",
    "\n",
    "def test_epoch(model, test_loader, criterion, device):\n",
    "    \"\"\"Evaluate the model on the test set for one epoch.\"\"\"\n",
    "    model.eval()  # Set the model to evaluation mode\n",
    "    total_loss = 0.0\n",
    "    \n",
    "    all_preds = []\n",
    "    all_labels = []\n",
    "    all_ids = []\n",
    "\n",
    "    with torch.no_grad():  # Deactivate autograd for evaluation\n",
    "        for x_batch, y_batch in tqdm(test_loader, desc=\"Testing\", leave=False):\n",
    "            # x_batch shape: (batch_size, num_nodes, num_features)\n",
    "            # y_batch shape: (batch_size)\n",
    "            \n",
    "            x_batch = x_batch.float().to(device)\n",
    "            y_batch_labels = y_batch.float() # Keep labels on CPU for sklearn\n",
    "            y_batch_loss = y_batch_labels.unsqueeze(1).to(device) # Send to device for loss calc\n",
    "\n",
    "            # Forward pass\n",
    "            logits, _ = model(x_batch)\n",
    "            loss = criterion(logits, y_batch_loss)\n",
    "            \n",
    "            total_loss += loss.item()\n",
    "\n",
    "            # --- Calculate Predictions for Metrics ---\n",
    "            # Apply sigmoid to logits to get probabilities\n",
    "            probs = torch.sigmoid(logits).cpu()\n",
    "            # Get binary predictions (0 or 1) using a 0.5 threshold\n",
    "            preds = (probs > 0.5).float().squeeze(1)\n",
    "            \n",
    "            # Append batch results to lists for epoch-wide calculation\n",
    "            all_preds.extend(preds.numpy())\n",
    "            all_labels.extend(y_batch_labels.numpy())\n",
    "            all_ids.extend(y_batch.numpy())\n",
    "\n",
    "    # Calculate metrics for the entire epoch\n",
    "    avg_loss = total_loss / len(test_loader)\n",
    "    f1 = f1_score(all_labels, all_preds, zero_division=0, average='macro')\n",
    "    precision = precision_score(all_labels, all_preds, zero_division=0, average='macro')\n",
    "    recall = recall_score(all_labels, all_preds, zero_division=0, average='macro')\n",
    "    \n",
    "    return avg_loss, f1, precision, recall, all_preds, all_labels, all_ids"
   ]
  },
  {
   "cell_type": "code",
   "execution_count": 27,
   "id": "98a6d088",
   "metadata": {},
   "outputs": [],
   "source": [
    "# Instantiate the simplified model\n",
    "# Create the single graph structure ONCE\n",
    "single_graph_edge_index = create_graph_edge_index(\n",
    "    distances_path=DATA_ROOT / \"distances_3d.csv\",\n",
    "    distance_threshold = 0\n",
    ")\n",
    "# Move the single-graph edge_index to the correct device once\n",
    "edge_index_template = single_graph_edge_index.to(device)\n",
    "model = GATClassifier(num_node_features=15, num_classes=1, edge_index_template=edge_index_template) # num_classes=1 for BCEWithLogitsLoss\n",
    "\n",
    "# Or load a pre-trained model if available\n",
    "# model.load_state_dict(torch.load(\"/home/stnikoli/nml_project/GAT/gat_model_epoch_300.pth\"))\n",
    "model = model.to(device)"
   ]
  },
  {
   "cell_type": "code",
   "execution_count": 28,
   "id": "db35cc43",
   "metadata": {},
   "outputs": [],
   "source": [
    "\n",
    "# --- Training Setup ---\n",
    "class_weight = 4\n",
    "criterion = nn.BCEWithLogitsLoss(pos_weight=torch.tensor([class_weight], device=device))\n",
    "optimizer = optim.Adam(model.parameters(), lr=1e-4)"
   ]
  },
  {
   "cell_type": "code",
   "execution_count": 74,
   "id": "54aad9a2",
   "metadata": {},
   "outputs": [
    {
     "name": "stdout",
     "output_type": "stream",
     "text": [
      "Starting training...\n"
     ]
    },
    {
     "name": "stderr",
     "output_type": "stream",
     "text": [
      "                                                                                                                                                                                                                                                                                \r"
     ]
    },
    {
     "name": "stdout",
     "output_type": "stream",
     "text": [
      "Epoch 50, Train Loss: 85.3694\n"
     ]
    },
    {
     "name": "stderr",
     "output_type": "stream",
     "text": [
      "                                                                                                                                                                                                                                                                                \r"
     ]
    },
    {
     "name": "stdout",
     "output_type": "stream",
     "text": [
      "Epoch 50, Val Loss: 5.0768, F1: 0.4444, Precision: 0.5806, Recall: 0.6199\n"
     ]
    },
    {
     "name": "stderr",
     "output_type": "stream",
     "text": [
      "                                                                                                                                                                                                                                                                                \r"
     ]
    },
    {
     "name": "stdout",
     "output_type": "stream",
     "text": [
      "Epoch 100, Train Loss: 45.2129\n"
     ]
    },
    {
     "name": "stderr",
     "output_type": "stream",
     "text": [
      "                                                                                                                                                                                                                                                                                \r"
     ]
    },
    {
     "name": "stdout",
     "output_type": "stream",
     "text": [
      "Epoch 100, Val Loss: 5.7385, F1: 0.5773, Precision: 0.6125, Recall: 0.6913\n",
      "Model saved at epoch 100\n"
     ]
    },
    {
     "name": "stderr",
     "output_type": "stream",
     "text": [
      "                                                                                                                                                                                                                                                                                \r"
     ]
    },
    {
     "name": "stdout",
     "output_type": "stream",
     "text": [
      "Epoch 150, Train Loss: 60.9941\n"
     ]
    },
    {
     "name": "stderr",
     "output_type": "stream",
     "text": [
      "                                                                                                                                                                                                                                                                                \r"
     ]
    },
    {
     "name": "stdout",
     "output_type": "stream",
     "text": [
      "Epoch 150, Val Loss: 4.7458, F1: 0.5956, Precision: 0.6033, Recall: 0.6660\n"
     ]
    },
    {
     "name": "stderr",
     "output_type": "stream",
     "text": [
      "                                                                                                                                                                                                                                                                                \r"
     ]
    },
    {
     "name": "stdout",
     "output_type": "stream",
     "text": [
      "Epoch 200, Train Loss: 27.0832\n"
     ]
    },
    {
     "name": "stderr",
     "output_type": "stream",
     "text": [
      "                                                                                                                                                                                                                                                                                \r"
     ]
    },
    {
     "name": "stdout",
     "output_type": "stream",
     "text": [
      "Epoch 200, Val Loss: 3.8869, F1: 0.5556, Precision: 0.5963, Recall: 0.6640\n",
      "Model saved at epoch 200\n"
     ]
    },
    {
     "name": "stderr",
     "output_type": "stream",
     "text": [
      "                                                                                                                                                                                                                                                                                \r"
     ]
    },
    {
     "name": "stdout",
     "output_type": "stream",
     "text": [
      "Epoch 250, Train Loss: 19.8408\n"
     ]
    },
    {
     "name": "stderr",
     "output_type": "stream",
     "text": [
      "                                                                                                                                                                                                                                                                                \r"
     ]
    },
    {
     "name": "stdout",
     "output_type": "stream",
     "text": [
      "Epoch 250, Val Loss: 3.0083, F1: 0.5607, Precision: 0.5955, Recall: 0.6620\n"
     ]
    },
    {
     "name": "stderr",
     "output_type": "stream",
     "text": [
      "                                                                                                                                                                                                                                                                                \r"
     ]
    },
    {
     "name": "stdout",
     "output_type": "stream",
     "text": [
      "Epoch 300, Train Loss: 26.0438\n"
     ]
    },
    {
     "name": "stderr",
     "output_type": "stream",
     "text": [
      "                                                                                                                                                                                                                                                                                \r"
     ]
    },
    {
     "name": "stdout",
     "output_type": "stream",
     "text": [
      "Epoch 300, Val Loss: 2.4773, F1: 0.5164, Precision: 0.5884, Recall: 0.6485\n",
      "Model saved at epoch 300\n"
     ]
    },
    {
     "name": "stderr",
     "output_type": "stream",
     "text": [
      "                                                                                                                                                                                                                                                                                \r"
     ]
    },
    {
     "name": "stdout",
     "output_type": "stream",
     "text": [
      "Epoch 350, Train Loss: 16.4838\n"
     ]
    },
    {
     "name": "stderr",
     "output_type": "stream",
     "text": [
      "                                                                                                                                                                                                                                                                                \r"
     ]
    },
    {
     "name": "stdout",
     "output_type": "stream",
     "text": [
      "Epoch 350, Val Loss: 1.8765, F1: 0.6091, Precision: 0.6108, Recall: 0.6736\n"
     ]
    },
    {
     "name": "stderr",
     "output_type": "stream",
     "text": [
      "                                                                                                                                                                                                                                                                                \r"
     ]
    },
    {
     "name": "stdout",
     "output_type": "stream",
     "text": [
      "Epoch 400, Train Loss: 7.1741\n"
     ]
    },
    {
     "name": "stderr",
     "output_type": "stream",
     "text": [
      "                                                                                                                                                                                                                                                                                \r"
     ]
    },
    {
     "name": "stdout",
     "output_type": "stream",
     "text": [
      "Epoch 400, Val Loss: 1.7016, F1: 0.5857, Precision: 0.5908, Recall: 0.6422\n",
      "Model saved at epoch 400\n"
     ]
    },
    {
     "name": "stderr",
     "output_type": "stream",
     "text": [
      "                                                                                                                                                                                                                                                                                \r"
     ]
    },
    {
     "name": "stdout",
     "output_type": "stream",
     "text": [
      "Epoch 450, Train Loss: 4.0011\n"
     ]
    },
    {
     "name": "stderr",
     "output_type": "stream",
     "text": [
      "                                                                                                                                                                                                                                                                                \r"
     ]
    },
    {
     "name": "stdout",
     "output_type": "stream",
     "text": [
      "Epoch 450, Val Loss: 1.3161, F1: 0.6126, Precision: 0.6173, Recall: 0.6880\n"
     ]
    },
    {
     "name": "stderr",
     "output_type": "stream",
     "text": [
      "                                                                                                                                                                                                                                                                                \r"
     ]
    },
    {
     "name": "stdout",
     "output_type": "stream",
     "text": [
      "Epoch 500, Train Loss: 2.5249\n"
     ]
    },
    {
     "name": "stderr",
     "output_type": "stream",
     "text": [
      "                                                                                                                                                                                                                                                                                \r"
     ]
    },
    {
     "name": "stdout",
     "output_type": "stream",
     "text": [
      "Epoch 500, Val Loss: 1.1478, F1: 0.5796, Precision: 0.5834, Recall: 0.5768\n",
      "Model saved at epoch 500\n"
     ]
    },
    {
     "name": "stderr",
     "output_type": "stream",
     "text": [
      "                                                                                                                                                                                                                                                                                \r"
     ]
    },
    {
     "name": "stdout",
     "output_type": "stream",
     "text": [
      "Epoch 550, Train Loss: 2.6394\n"
     ]
    },
    {
     "name": "stderr",
     "output_type": "stream",
     "text": [
      "                                                                                                                                                                                                                                                                                \r"
     ]
    },
    {
     "name": "stdout",
     "output_type": "stream",
     "text": [
      "Epoch 550, Val Loss: 1.1497, F1: 0.5019, Precision: 0.5610, Recall: 0.6038\n"
     ]
    },
    {
     "name": "stderr",
     "output_type": "stream",
     "text": [
      "                                                                                                                                                                                                                                                                                \r"
     ]
    },
    {
     "name": "stdout",
     "output_type": "stream",
     "text": [
      "Epoch 600, Train Loss: 2.3098\n"
     ]
    },
    {
     "name": "stderr",
     "output_type": "stream",
     "text": [
      "                                                                                                                                                                                                                                                                                \r"
     ]
    },
    {
     "name": "stdout",
     "output_type": "stream",
     "text": [
      "Epoch 600, Val Loss: 1.2185, F1: 0.2267, Precision: 0.5426, Recall: 0.5192\n",
      "Model saved at epoch 600\n"
     ]
    },
    {
     "name": "stderr",
     "output_type": "stream",
     "text": [
      "                                                                                                                                                                                                                                                                                \r"
     ]
    },
    {
     "name": "stdout",
     "output_type": "stream",
     "text": [
      "Epoch 650, Train Loss: 1.9439\n"
     ]
    },
    {
     "name": "stderr",
     "output_type": "stream",
     "text": [
      "                                                                                                                                                                                                                                                                                \r"
     ]
    },
    {
     "name": "stdout",
     "output_type": "stream",
     "text": [
      "Epoch 650, Val Loss: 1.0987, F1: 0.3273, Precision: 0.4990, Recall: 0.4988\n"
     ]
    },
    {
     "name": "stderr",
     "output_type": "stream",
     "text": [
      "                                                                                                                                                                                                                                                                                \r"
     ]
    },
    {
     "name": "stdout",
     "output_type": "stream",
     "text": [
      "Epoch 700, Train Loss: 2.2120\n"
     ]
    },
    {
     "name": "stderr",
     "output_type": "stream",
     "text": [
      "                                                                                                                                                                                                                                                                                \r"
     ]
    },
    {
     "name": "stdout",
     "output_type": "stream",
     "text": [
      "Epoch 700, Val Loss: 1.0884, F1: 0.3914, Precision: 0.5179, Recall: 0.5269\n",
      "Model saved at epoch 700\n"
     ]
    },
    {
     "name": "stderr",
     "output_type": "stream",
     "text": [
      "                                                                                                                                                                                                                                                                                \r"
     ]
    },
    {
     "name": "stdout",
     "output_type": "stream",
     "text": [
      "Epoch 750, Train Loss: 2.3159\n"
     ]
    },
    {
     "name": "stderr",
     "output_type": "stream",
     "text": [
      "                                                                                                                                                                                                                                                                                \r"
     ]
    },
    {
     "name": "stdout",
     "output_type": "stream",
     "text": [
      "Epoch 750, Val Loss: 1.1028, F1: 0.3666, Precision: 0.5207, Recall: 0.5282\n"
     ]
    },
    {
     "name": "stderr",
     "output_type": "stream",
     "text": [
      "                                                                                                                                                                                                                                                                                \r"
     ]
    },
    {
     "name": "stdout",
     "output_type": "stream",
     "text": [
      "Epoch 800, Train Loss: 1.9916\n"
     ]
    },
    {
     "name": "stderr",
     "output_type": "stream",
     "text": [
      "                                                                                                                                                                                                                                                                                \r"
     ]
    },
    {
     "name": "stdout",
     "output_type": "stream",
     "text": [
      "Epoch 800, Val Loss: 1.1063, F1: 0.4426, Precision: 0.5652, Recall: 0.6000\n",
      "Model saved at epoch 800\n"
     ]
    },
    {
     "name": "stderr",
     "output_type": "stream",
     "text": [
      "                                                                                                                                                                                                                                                                                \r"
     ]
    },
    {
     "name": "stdout",
     "output_type": "stream",
     "text": [
      "Epoch 850, Train Loss: 1.9813\n"
     ]
    },
    {
     "name": "stderr",
     "output_type": "stream",
     "text": [
      "                                                                                                                                                                                                                                                                                \r"
     ]
    },
    {
     "name": "stdout",
     "output_type": "stream",
     "text": [
      "Epoch 850, Val Loss: 1.1091, F1: 0.3516, Precision: 0.5529, Recall: 0.5608\n"
     ]
    },
    {
     "name": "stderr",
     "output_type": "stream",
     "text": [
      "                                                                                                                                                                                                                                                                                \r"
     ]
    },
    {
     "name": "stdout",
     "output_type": "stream",
     "text": [
      "Epoch 900, Train Loss: 2.2628\n"
     ]
    },
    {
     "name": "stderr",
     "output_type": "stream",
     "text": [
      "                                                                                                                                                                                                                                                                                \r"
     ]
    },
    {
     "name": "stdout",
     "output_type": "stream",
     "text": [
      "Epoch 900, Val Loss: 1.1061, F1: 0.4205, Precision: 0.5533, Recall: 0.5793\n",
      "Model saved at epoch 900\n"
     ]
    },
    {
     "name": "stderr",
     "output_type": "stream",
     "text": [
      "                                                                                                                                                                                                                                                                                \r"
     ]
    },
    {
     "name": "stdout",
     "output_type": "stream",
     "text": [
      "Epoch 950, Train Loss: 1.6878\n"
     ]
    },
    {
     "name": "stderr",
     "output_type": "stream",
     "text": [
      "                                                                                                                                                                                                                                                                                \r"
     ]
    },
    {
     "name": "stdout",
     "output_type": "stream",
     "text": [
      "Epoch 950, Val Loss: 1.1204, F1: 0.6007, Precision: 0.6016, Recall: 0.6568\n"
     ]
    },
    {
     "name": "stderr",
     "output_type": "stream",
     "text": [
      "                                                                                                                                                                                                                                                                                \r"
     ]
    },
    {
     "name": "stdout",
     "output_type": "stream",
     "text": [
      "Epoch 1000, Train Loss: 2.1062\n"
     ]
    },
    {
     "name": "stderr",
     "output_type": "stream",
     "text": [
      "                                                                                                                                                                                                                                                                                "
     ]
    },
    {
     "name": "stdout",
     "output_type": "stream",
     "text": [
      "Epoch 1000, Val Loss: 1.1231, F1: 0.4423, Precision: 0.5726, Recall: 0.6094\n",
      "Model saved at epoch 1000\n",
      "Training finished.\n"
     ]
    },
    {
     "name": "stderr",
     "output_type": "stream",
     "text": [
      "\r"
     ]
    }
   ],
   "source": [
    "# ======================================================================\n",
    "# 4. Main Execution Block\n",
    "# ======================================================================\n",
    "\n",
    "\n",
    "\n",
    "# --- Training Loop ---\n",
    "num_epochs = 1000\n",
    "train_losses = []\n",
    "val_losses = []\n",
    "\n",
    "print(\"Starting training...\")\n",
    "for epoch in range(num_epochs):    \n",
    "    train_loss = train_epoch(model, loader_tr, criterion, optimizer, device)\n",
    "    \n",
    "    train_losses.append(train_loss)\n",
    "    if (epoch + 1) % 50 == 0:\n",
    "        print(f\"Epoch {epoch + 1}, Train Loss: {train_loss:.4f}\")\n",
    "        # Validation\n",
    "        val_loss, f1, precision, recall, _, _, _ = test_epoch(model, loader_val, criterion, device)\n",
    "        print(f\"Epoch {epoch + 1}, Val Loss: {val_loss:.4f}, F1: {f1:.4f}, Precision: {precision:.4f}, Recall: {recall:.4f}\")\n",
    "        val_losses.append(val_loss)\n",
    "\n",
    "    # save model every 100 epochs\n",
    "    if (epoch + 1) % 100 == 0:\n",
    "        torch.save(model.state_dict(), f\"/home/stnikoli/nml_project/GAT/gat_model_epoch_{epoch + 1}.pth\")\n",
    "        print(f\"Model saved at epoch {epoch + 1}\")\n",
    "\n",
    "print(\"Training finished.\")"
   ]
  },
  {
   "cell_type": "code",
   "execution_count": 75,
   "id": "0a90d76c",
   "metadata": {},
   "outputs": [
    {
     "data": {
      "image/png": "[encoded data removed]",
      "text/plain": [
       "<Figure size 1000x500 with 1 Axes>"
      ]
     },
     "metadata": {},
     "output_type": "display_data"
    }
   ],
   "source": [
    "plt.figure(figsize=(10, 5))\n",
    "plt.plot(train_losses, label='Train Loss')\n",
    "plt.xlabel('Epoch')\n",
    "plt.ylabel('Loss')\n",
    "plt.title('Training Loss Over Epochs')\n",
    "plt.legend()\n",
    "plt.grid()\n",
    "plt.show()"
   ]
  },
  {
   "cell_type": "code",
   "execution_count": 67,
   "id": "a0d9a5bb",
   "metadata": {},
   "outputs": [
    {
     "name": "stderr",
     "output_type": "stream",
     "text": [
      "                                                                                                                                                                                                                                                                                "
     ]
    },
    {
     "name": "stdout",
     "output_type": "stream",
     "text": [
      "Validation Loss: 1.1527\n",
      "F1 Score: 0.6152\n",
      "Precision: 0.6095\n",
      "Recall: 0.6234\n"
     ]
    },
    {
     "name": "stderr",
     "output_type": "stream",
     "text": [
      "\r"
     ]
    }
   ],
   "source": [
    "avg_loss, f1, precision, recall, all_preds, all_labels, all_ids = test_epoch(\n",
    "    model, \n",
    "    loader_val, \n",
    "    criterion, \n",
    "    device\n",
    ")\n",
    "\n",
    "print(f\"Validation Loss: {val_loss:.4f}\")\n",
    "print(f\"F1 Score: {f1:.4f}\")\n",
    "print(f\"Precision: {precision:.4f}\")\n",
    "print(f\"Recall: {recall:.4f}\")"
   ]
  },
  {
   "cell_type": "markdown",
   "id": "423b62f0",
   "metadata": {},
   "source": [
    "## Submission"
   ]
  },
  {
   "cell_type": "code",
   "execution_count": 47,
   "id": "a983b783",
   "metadata": {},
   "outputs": [],
   "source": [
    "test_clips = pd.read_parquet(DATA_ROOT / \"test/segments.parquet\")"
   ]
  },
  {
   "cell_type": "code",
   "execution_count": 48,
   "id": "8fffe6a9",
   "metadata": {},
   "outputs": [],
   "source": [
    "# Create test dataset\n",
    "dataset_te = EEGDataset(\n",
    "    test_clips,  # Your test clips variable\n",
    "    signals_root=DATA_ROOT\n",
    "    / \"test\",  # Update this path if your test signals are stored elsewhere\n",
    "    signal_transform=_hjorth_transform,  # You can change or remove the signal_transform as needed\n",
    "    prefetch=True,  # Set to False if prefetching causes memory issues on your compute environment\n",
    "    return_id=True,  # Return the id of each sample instead of the label\n",
    ")\n",
    "\n",
    "# Create DataLoader for the test dataset\n",
    "loader_te = DataLoader(dataset_te, batch_size=512, shuffle=False)"
   ]
  },
  {
   "cell_type": "code",
   "execution_count": 49,
   "id": "bbc8d293",
   "metadata": {},
   "outputs": [],
   "source": [
    "def generate_submission_file(model, test_loader, single_graph_edge_index, device, output_filename=\"submission.csv\"):\n",
    "    \"\"\"\n",
    "    Generates a Kaggle submission file for the GAT model.\n",
    "\n",
    "    Args:\n",
    "        model (nn.Module): The trained GATClassifier model.\n",
    "        test_loader (DataLoader): DataLoader for the test set. It must yield\n",
    "                                  batches of (x_batch, ids_batch).\n",
    "        single_graph_edge_index (torch.Tensor): The pre-computed edge_index for a single graph.\n",
    "        device (torch.device): The device to run inference on (e.g., 'cuda' or 'cpu').\n",
    "        output_filename (str): The name of the output CSV file.\n",
    "    \"\"\"\n",
    "    # Set the model to evaluation mode\n",
    "    model.eval()\n",
    "\n",
    "    all_predictions = []\n",
    "    all_ids = []\n",
    "\n",
    "    # Move the single-graph edge_index to the correct device once\n",
    "    edge_index_template = single_graph_edge_index.to(device)\n",
    "\n",
    "    # Disable gradient computation for faster inference\n",
    "    with torch.no_grad():\n",
    "        for x_batch, ids_batch in tqdm(test_loader, desc=\"Generating Submission\"):\n",
    "            # x_batch shape: (batch_size, num_nodes, num_features)\n",
    "            \n",
    "            x_batch = x_batch.float().to(device)\n",
    "            B, N, F = x_batch.shape\n",
    "\n",
    "            # --- On-the-fly Batch Conversion for GAT model ---\n",
    "            x_pyg = x_batch.reshape(-1, F)\n",
    "            batch_vector = torch.arange(B, device=device).repeat_interleave(N)\n",
    "            edge_indices = [edge_index_template + i * N for i in range(B)]\n",
    "            batched_edge_index = torch.cat(edge_indices, dim=1)\n",
    "            # --- Conversion Complete ---\n",
    "\n",
    "            # Forward pass to get model logits\n",
    "            # We only need the logits, so we discard the attention weights with `_`\n",
    "            logits, _ = model(x_pyg, batched_edge_index, batch_vector)\n",
    "\n",
    "            # Convert logits to binary predictions (0 or 1)\n",
    "            # A logit > 0 corresponds to a probability > 0.5 after sigmoid\n",
    "            predictions = (logits > 0).int().cpu().squeeze().tolist()\n",
    "\n",
    "            # Ensure predictions are in a list, even for a single-item batch\n",
    "            if not isinstance(predictions, list):\n",
    "                predictions = [predictions]\n",
    "\n",
    "            # Store predictions and their corresponding IDs\n",
    "            all_predictions.extend(predictions)\n",
    "            all_ids.extend(list(ids_batch))\n",
    "\n",
    "    # Create a DataFrame for the submission file\n",
    "    print(\"Creating submission DataFrame...\")\n",
    "    submission_df = pd.DataFrame({\n",
    "        \"id\": all_ids,\n",
    "        \"label\": all_predictions\n",
    "    })\n",
    "\n",
    "    # Save the DataFrame to a CSV file\n",
    "    submission_df.to_csv(output_filename, index=False)\n",
    "    print(f\"Submission file saved successfully to: {output_filename}\")"
   ]
  },
  {
   "cell_type": "code",
   "execution_count": 56,
   "id": "02458e88",
   "metadata": {},
   "outputs": [
    {
     "name": "stderr",
     "output_type": "stream",
     "text": [
      "Generating Submission: 100%|████████████████████████████████████████████████████████████████████████████████████████████████████████████████████████████████| 8/8 [00:00<00:00, 108.93it/s]"
     ]
    },
    {
     "name": "stdout",
     "output_type": "stream",
     "text": [
      "Creating submission DataFrame...\n",
      "Submission file saved successfully to: gat_submission.csv\n"
     ]
    },
    {
     "name": "stderr",
     "output_type": "stream",
     "text": [
      "\n"
     ]
    }
   ],
   "source": [
    "# 3. Create the DataLoader for the test set\n",
    "#    shuffle=False is crucial for submission.\n",
    "loader_te = DataLoader(dataset_te, batch_size=512, shuffle=False)\n",
    "\n",
    "# 4. Call the function to generate the file\n",
    "#    Ensure your model, single_graph_edge_index, and device are defined\n",
    "generate_submission_file(\n",
    "    model=model,\n",
    "    test_loader=loader_te,\n",
    "    single_graph_edge_index=single_graph_edge_index, # The same one used for training\n",
    "    device=device,\n",
    "    output_filename=\"gat_submission.csv\"\n",
    ")"
   ]
  },
  {
   "cell_type": "code",
   "execution_count": 57,
   "id": "3c6f5d16",
   "metadata": {},
   "outputs": [],
   "source": [
    "# change the gat_submission.csv file lines from p_q_e_j_g_v_e_j___s_0_0_1___t_0_0_0___1_5_7 to pqejgvej_s001_t000_157 format\n",
    "def format_submission_ids(submission_file):\n",
    "    \"\"\"\n",
    "    Formats the IDs in the submission file to the required format.\n",
    "    \"\"\"\n",
    "    df = pd.read_csv(submission_file)\n",
    "    \n",
    "    # Define a function to format each ID\n",
    "    def format_id(id_str):\n",
    "        parts = id_str.split(\"___\")\n",
    "        parts = [part.replace(\"_\", \"\") for part in parts]\n",
    "        return \"_\".join(parts)\n",
    "    \n",
    "    # Apply the formatting function to the 'id' column\n",
    "    df['id'] = df['id'].apply(format_id)\n",
    "    \n",
    "    # Save the formatted DataFrame back to CSV\n",
    "    df.to_csv(submission_file, index=False)\n",
    "    print(f\"Formatted submission file saved successfully to: {submission_file}\")"
   ]
  },
  {
   "cell_type": "code",
   "execution_count": 58,
   "id": "7ff95792",
   "metadata": {},
   "outputs": [
    {
     "name": "stdout",
     "output_type": "stream",
     "text": [
      "Formatted submission file saved successfully to: gat_submission.csv\n"
     ]
    }
   ],
   "source": [
    "format_submission_ids(\"gat_submission.csv\")"
   ]
  },
  {
   "cell_type": "markdown",
   "id": "2ad0c609",
   "metadata": {},
   "source": [
    "## K-Fold evaluation"
   ]
  },
  {
   "cell_type": "code",
   "execution_count": 29,
   "id": "714cf3bd",
   "metadata": {},
   "outputs": [],
   "source": [
    "sys.path.append(\"/home/stnikoli/nml_project/\")\n",
    "from evaluation import evaluate"
   ]
  },
  {
   "cell_type": "code",
   "execution_count": 30,
   "id": "7c185f1c",
   "metadata": {},
   "outputs": [
    {
     "name": "stdout",
     "output_type": "stream",
     "text": [
      "Fold 1/5\n"
     ]
    },
    {
     "name": "stderr",
     "output_type": "stream",
     "text": [
      "Training Fold 1: 100%|███████████████████████████████████████████████████████████████████████████████████████████████████████████████████████████████████████████████████████████████████████████████████████████████████████| 1000/1000 [05:13<00:00,  3.19it/s]\n"
     ]
    },
    {
     "name": "stdout",
     "output_type": "stream",
     "text": [
      "Fold 1 F1 Score: 0.5192\n",
      "Fold 2/5\n"
     ]
    },
    {
     "name": "stderr",
     "output_type": "stream",
     "text": [
      "Training Fold 2: 100%|███████████████████████████████████████████████████████████████████████████████████████████████████████████████████████████████████████████████████████████████████████████████████████████████████████| 1000/1000 [05:29<00:00,  3.03it/s]\n"
     ]
    },
    {
     "name": "stdout",
     "output_type": "stream",
     "text": [
      "Fold 2 F1 Score: 0.5748\n",
      "Fold 3/5\n"
     ]
    },
    {
     "name": "stderr",
     "output_type": "stream",
     "text": [
      "Training Fold 3: 100%|███████████████████████████████████████████████████████████████████████████████████████████████████████████████████████████████████████████████████████████████████████████████████████████████████████| 1000/1000 [05:40<00:00,  2.93it/s]\n"
     ]
    },
    {
     "name": "stdout",
     "output_type": "stream",
     "text": [
      "Fold 3 F1 Score: 0.5494\n",
      "Fold 4/5\n"
     ]
    },
    {
     "name": "stderr",
     "output_type": "stream",
     "text": [
      "Training Fold 4: 100%|███████████████████████████████████████████████████████████████████████████████████████████████████████████████████████████████████████████████████████████████████████████████████████████████████████| 1000/1000 [05:15<00:00,  3.17it/s]\n"
     ]
    },
    {
     "name": "stdout",
     "output_type": "stream",
     "text": [
      "Fold 4 F1 Score: 0.4733\n",
      "Fold 5/5\n"
     ]
    },
    {
     "name": "stderr",
     "output_type": "stream",
     "text": [
      "Training Fold 5: 100%|███████████████████████████████████████████████████████████████████████████████████████████████████████████████████████████████████████████████████████████████████████████████████████████████████████| 1000/1000 [05:58<00:00,  2.79it/s]"
     ]
    },
    {
     "name": "stdout",
     "output_type": "stream",
     "text": [
      "Fold 5 F1 Score: 0.5710\n",
      "Cross-Validation Average F1 Score: 0.5375\n",
      "Cross-Validation F1 Score Standard Deviation: 0.0377\n"
     ]
    },
    {
     "name": "stderr",
     "output_type": "stream",
     "text": [
      "\n"
     ]
    }
   ],
   "source": [
    "for dt in [np.inf]:\n",
    "    single_graph_edge_index = create_graph_edge_index(\n",
    "        distances_path=DATA_ROOT / \"distances_3d.csv\",\n",
    "        distance_threshold = dt\n",
    "    )\n",
    "    # Move the single-graph edge_index to the correct device once\n",
    "    edge_index_template = single_graph_edge_index.to(device)\n",
    "    avg_f1_score, std_f1_score = evaluate(\n",
    "        model=GATClassifier,\n",
    "        clips=clips_tr,\n",
    "        signals_root=DATA_ROOT / \"train\",\n",
    "        num_epochs=1000,\n",
    "        learning_rate=1e-4,\n",
    "        batch_size=512,\n",
    "        threshold=0.5,\n",
    "        prefetch=True,\n",
    "        signal_transform=_hjorth_transform,\n",
    "        model_args={\"num_node_features\": 15, \"num_classes\": 1, \"edge_index_template\": edge_index_template, \"evaluate\":True},\n",
    "        criterion=nn.BCEWithLogitsLoss(pos_weight=torch.tensor([class_weight], device=device)),\n",
    "        k_folds=5\n",
    "    )"
   ]
  },
  {
   "cell_type": "markdown",
   "id": "fb2bb9a0",
   "metadata": {},
   "source": [
    "## Interpretation"
   ]
  },
  {
   "cell_type": "code",
   "execution_count": 31,
   "id": "03ee551f",
   "metadata": {},
   "outputs": [],
   "source": [
    "model = GATClassifier(num_node_features=15, num_classes=1, edge_index_template=edge_index_template) # num_classes=1 for BCEWithLogitsLoss\n",
    "\n",
    "# Or load a pre-trained model if available\n",
    "model.load_state_dict(torch.load(BASE_DIR + \"/run_all_edges/gat_model_epoch_1000.pth\"))\n",
    "model = model.to(device)"
   ]
  },
  {
   "cell_type": "code",
   "execution_count": 32,
   "id": "cd604c89",
   "metadata": {},
   "outputs": [],
   "source": [
    "import networkx as nx\n",
    "import matplotlib.pyplot as plt\n",
    "\n",
    "# You may need to adjust this list to match the order in your dataset\n",
    "ELECTRODE_LABELS = [\n",
    "    'Fp1', 'Fp2', 'F3', 'F4', 'C3', 'C4', 'P3', 'P4', 'O1', 'O2',\n",
    "    'F7', 'F8', 'T3', 'T4', 'T5', 'T6', 'Fz', 'Cz', 'Pz'\n",
    "]\n",
    "\n",
    "# Define approximate 10-20 system 2D coordinates for the electrodes\n",
    "# These are relative coordinates; you can adjust the scaling as needed.\n",
    "# (x, y) coordinates: x is left-right, y is front-back\n",
    "# (0,0) is roughly Cz\n",
    "ELECTRODE_POSITIONS = {\n",
    "    'Fp1': (-0.3, 1.0), 'Fp2': (0.3, 1.0),\n",
    "    'F3': (-0.4, 0.6), 'F4': (0.4, 0.6),\n",
    "    'C3': (-0.5, 0.0), 'C4': (0.5, 0.0),\n",
    "    'P3': (-0.4, -0.6), 'P4': (0.4, -0.6),\n",
    "    'O1': (-0.2, -1.0), 'O2': (0.2, -1.0),\n",
    "    'F7': (-0.6, 0.4), 'F8': (0.6, 0.4),\n",
    "    'T3': (-0.8, 0.0), 'T4': (0.8, 0.0),\n",
    "    'T5': (-0.6, -0.4), 'T6': (0.6, -0.4),\n",
    "    'Fz': (0.0, 0.75),\n",
    "    'Cz': (0.0, 0.0),\n",
    "    'Pz': (0.0, -0.75)\n",
    "}\n",
    "\n",
    "# Ensure all labels in ELECTRODE_LABELS have a corresponding position\n",
    "# This is a good sanity check\n",
    "for label in ELECTRODE_LABELS:\n",
    "    if label not in ELECTRODE_POSITIONS:\n",
    "        print(f\"Warning: Electrode {label} missing from ELECTRODE_POSITIONS. It won't be plotted correctly.\")\n",
    "\n",
    "\n",
    "def get_average_attention(model, loader, device, edge_index_template):\n",
    "    \"\"\"\n",
    "    Runs the model on the dataset and computes the average attention weights\n",
    "    for seizure and non-seizure classes.\n",
    "    \"\"\"\n",
    "    model.eval()\n",
    "\n",
    "    seizure_attention_sum = 0\n",
    "    non_seizure_attention_sum = 0\n",
    "    seizure_count = 0\n",
    "    non_seizure_count = 0\n",
    "\n",
    "    num_nodes = len(ELECTRODE_LABELS)\n",
    "    num_edges = edge_index_template.shape[1]\n",
    "\n",
    "    with torch.no_grad():\n",
    "        for x_batch, y_batch in tqdm(loader, desc=\"Extracting Attention\", leave=False):\n",
    "            x_batch = x_batch.float().to(device)\n",
    "            B = x_batch.shape[0]\n",
    "\n",
    "            # Get model output and attention weights\n",
    "            _, attention_weights_tuple = model(x_batch)\n",
    "\n",
    "            # attention_weights_tuple is (edge_index, attention_scores)\n",
    "            # attention_scores shape: [num_total_edges, num_heads]\n",
    "            attention_scores = attention_weights_tuple[1]\n",
    "\n",
    "            # Average across attention heads -> [num_total_edges, 1]\n",
    "            attention_scores = attention_scores.mean(dim=1)\n",
    "\n",
    "            # Reshape to match batch structure: (B, num_edges_per_graph)\n",
    "            attention_per_graph = attention_scores.reshape(B, num_edges)\n",
    "\n",
    "            for i in range(B):\n",
    "                label = y_batch[i].item()\n",
    "                if label == 1:\n",
    "                    seizure_attention_sum += attention_per_graph[i]\n",
    "                    seizure_count += 1\n",
    "                else:\n",
    "                    non_seizure_attention_sum += attention_per_graph[i]\n",
    "                    non_seizure_count += 1\n",
    "\n",
    "    # Calculate averages\n",
    "    avg_seizure_attention = seizure_attention_sum / seizure_count if seizure_count > 0 else torch.zeros(num_edges)\n",
    "    avg_non_seizure_attention = non_seizure_attention_sum / non_seizure_count if non_seizure_count > 0 else torch.zeros(num_edges)\n",
    "\n",
    "    return avg_seizure_attention.cpu().numpy(), avg_non_seizure_attention.cpu().numpy()\n",
    "\n",
    "def plot_attention_graph(avg_attention_scores, edge_index, title, output_path=BASE_DIR + \"/images/attention_graph.png\", percentile_threshold=90.0):\n",
    "    \"\"\"\n",
    "    Visualizes the average attention weights on a graph of electrodes with 10-20 system-like positioning.\n",
    "\n",
    "    Args:\n",
    "        avg_attention_scores (np.array): Array of attention scores for each edge.\n",
    "        edge_index (torch.Tensor): The graph's edge_index.\n",
    "        title (str): The title for the plot.\n",
    "        percentile_threshold (float): The percentile to use as a threshold for displaying\n",
    "                                      edges (e.g., 90.0 for top 10%).\n",
    "    \"\"\"\n",
    "    if np.sum(avg_attention_scores) == 0:\n",
    "        print(f\"Skipping plot for '{title}': No samples found or attention is zero.\")\n",
    "        return\n",
    "\n",
    "    # 1. Calculate the score threshold based on the desired percentile\n",
    "    if percentile_threshold > 0:\n",
    "        threshold = np.percentile(avg_attention_scores, percentile_threshold)\n",
    "    else:\n",
    "        threshold = 0 # If threshold is 0, show all edges\n",
    "\n",
    "    # 2. Create a boolean mask for edges with scores above the threshold\n",
    "    mask = avg_attention_scores >= threshold\n",
    "\n",
    "    # 3. Filter the edges and their scores using the mask\n",
    "    top_edges_index = edge_index[:, mask]\n",
    "    top_scores = avg_attention_scores[mask]\n",
    "\n",
    "    plt.figure(figsize=(12, 10))\n",
    "\n",
    "    # Create a graph containing ALL nodes, but only the TOP edges\n",
    "    g = nx.Graph()\n",
    "    # Add nodes with their corresponding labels as node attributes\n",
    "    for i, label in enumerate(ELECTRODE_LABELS):\n",
    "        g.add_node(i, label=label) # Store label as node attribute\n",
    "\n",
    "    top_edges_list = top_edges_index.t().cpu().numpy()\n",
    "    g.add_edges_from(top_edges_list)\n",
    "\n",
    "    # Create the 'pos' dictionary using the predefined ELECTRODE_POSITIONS\n",
    "    pos = {i: ELECTRODE_POSITIONS[ELECTRODE_LABELS[i]] for i in range(len(ELECTRODE_LABELS))}\n",
    "\n",
    "    # --- Color mapping setup ---\n",
    "    # IMPORTANT: Normalize based on the original full range of scores for correct color representation\n",
    "    vmin = np.min(avg_attention_scores)\n",
    "    vmax = np.max(avg_attention_scores)\n",
    "    norm = plt.Normalize(vmin=vmin, vmax=vmax)\n",
    "    cmap = plt.cm.viridis\n",
    "    sm = plt.cm.ScalarMappable(cmap=cmap, norm=norm)\n",
    "    sm.set_array([])\n",
    "\n",
    "    # Map the TOP scores to RGBA colors\n",
    "    edge_colors = sm.to_rgba(top_scores)\n",
    "\n",
    "    # Scale edge widths based on the TOP scores\n",
    "    edge_widths = top_scores * 15 # Adjust multiplier for desired width\n",
    "\n",
    "    # Draw all nodes\n",
    "    nodes = nx.draw_networkx_nodes(g, pos, node_color='lightblue', node_size=1000)\n",
    "\n",
    "    # Draw only the TOP edges\n",
    "    edges = nx.draw_networkx_edges(\n",
    "        g,\n",
    "        pos,\n",
    "        edgelist=top_edges_list, # Explicitly provide the list of top edges\n",
    "        edge_color=edge_colors,\n",
    "        width=edge_widths,\n",
    "        alpha=0.8\n",
    "    )\n",
    "\n",
    "    # Use the labels stored as node attributes\n",
    "    labels = {i: g.nodes[i]['label'] for i in g.nodes()}\n",
    "    nx.draw_networkx_labels(g, pos, labels=labels, font_size=10, font_weight='bold')\n",
    "\n",
    "    cbar = plt.colorbar(sm, shrink=0.8)\n",
    "    cbar.set_label('Attention Weight (Full Range)', weight='bold')\n",
    "\n",
    "    plt.title(f\"{title}\\n(Displaying Top {100 - percentile_threshold:.0f}% Edges)\", size=16, weight='bold')\n",
    "    plt.tight_layout()\n",
    "    # save plot\n",
    "    plt.savefig(output_path, dpi=300)\n",
    "\n",
    "    plt.show()"
   ]
  },
  {
   "cell_type": "code",
   "execution_count": 33,
   "id": "3f4af98c",
   "metadata": {},
   "outputs": [
    {
     "name": "stdout",
     "output_type": "stream",
     "text": [
      "Generating attention visualizations...\n"
     ]
    },
    {
     "ename": "NameError",
     "evalue": "name 'loader_val' is not defined",
     "output_type": "error",
     "traceback": [
      "\u001b[0;31m---------------------------------------------------------------------------\u001b[0m",
      "\u001b[0;31mNameError\u001b[0m                                 Traceback (most recent call last)",
      "Cell \u001b[0;32mIn[33], line 12\u001b[0m\n\u001b[1;32m      8\u001b[0m model\u001b[38;5;241m.\u001b[39mto(device)\n\u001b[1;32m     10\u001b[0m \u001b[38;5;66;03m# Get the average attention weights from the validation set\u001b[39;00m\n\u001b[1;32m     11\u001b[0m \u001b[38;5;66;03m# We use loader_val because it's an unseen sample of the data\u001b[39;00m\n\u001b[0;32m---> 12\u001b[0m avg_seizure_attn, avg_non_seizure_attn \u001b[38;5;241m=\u001b[39m get_average_attention(model, \u001b[43mloader_val\u001b[49m, device, edge_index_template)\n\u001b[1;32m     14\u001b[0m \u001b[38;5;66;03m# The edge_index_template is the graph structure for a single sample\u001b[39;00m\n\u001b[1;32m     15\u001b[0m single_graph_edge_index \u001b[38;5;241m=\u001b[39m model\u001b[38;5;241m.\u001b[39medge_index_template\n",
      "\u001b[0;31mNameError\u001b[0m: name 'loader_val' is not defined"
     ]
    }
   ],
   "source": [
    "# ======================================================================\n",
    "# 5. Interpretation and Visualization\n",
    "# ======================================================================\n",
    "\n",
    "print(\"Generating attention visualizations...\")\n",
    "\n",
    "# Ensure your model is on the correct device\n",
    "model.to(device)\n",
    "\n",
    "# Get the average attention weights from the validation set\n",
    "# We use loader_val because it's an unseen sample of the data\n",
    "avg_seizure_attn, avg_non_seizure_attn = get_average_attention(model, loader_val, device, edge_index_template)\n",
    "\n",
    "# The edge_index_template is the graph structure for a single sample\n",
    "single_graph_edge_index = model.edge_index_template\n",
    "\n",
    "# Plot the graph for the \"Non-Seizure\" class\n",
    "plot_attention_graph(\n",
    "    avg_non_seizure_attn, \n",
    "    single_graph_edge_index, \n",
    "    title=\"Average Attention for Non-Seizure Class\",\n",
    "    output_path=BASE_DIR + \"/images/attention_graph_non_seizure.png\",\n",
    ")\n",
    "\n",
    "# Plot the graph for the \"Seizure\" class\n",
    "plot_attention_graph(\n",
    "    avg_seizure_attn, \n",
    "    single_graph_edge_index, \n",
    "    title=\"Average Attention for Seizure Class\",\n",
    "    output_path=BASE_DIR + \"/images/attention_graph_seizure.png\",\n",
    ")"
   ]
  },
  {
   "cell_type": "code",
   "execution_count": null,
   "id": "4818972b",
   "metadata": {},
   "outputs": [],
   "source": []
  }
 ],
 "metadata": {
  "kernelspec": {
   "display_name": "Python 3 (ipykernel)",
   "language": "python",
   "name": "python3"
  },
  "language_info": {
   "codemirror_mode": {
    "name": "ipython",
    "version": 3
   },
   "file_extension": ".py",
   "mimetype": "text/x-python",
   "name": "python",
   "nbconvert_exporter": "python",
   "pygments_lexer": "ipython3",
   "version": "3.10.4"
  }
 },
 "nbformat": 4,
 "nbformat_minor": 5
}
