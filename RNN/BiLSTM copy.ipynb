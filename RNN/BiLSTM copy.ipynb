{
 "cells": [
  {
   "cell_type": "code",
   "execution_count": 1,
   "metadata": {},
   "outputs": [],
   "source": [
    "from pathlib import Path\n",
    "\n",
    "import numpy as np\n",
    "import pandas as pd\n",
    "import matplotlib.pyplot as plt\n",
    "from scipy import signal\n",
    "from sklearn.model_selection import train_test_split\n",
    "\n",
    "from seiz_eeg.dataset import EEGDataset"
   ]
  },
  {
   "cell_type": "markdown",
   "metadata": {},
   "source": [
    "# The data\n",
    "\n",
    "We model *segments* of brain activity, which correspond to windows of a longer *session* of EEG recording.\n",
    "\n",
    "These segments, and their labels, are described in the `segments.parquet` files, which can be directly loaded with `pandas`."
   ]
  },
  {
   "cell_type": "code",
   "execution_count": null,
   "metadata": {},
   "outputs": [],
   "source": [
    "# You might need to change this according to where you store the data folder\n",
    "# Inside your data folder, you should have the following structure:\n",
    "# data\n",
    "# ├── train\n",
    "# │   ├── signals/\n",
    "# │   ├── segments.parquet\n",
    "# │-- test\n",
    "#     ├── signals/\n",
    "#     ├── segments.parquet\n",
    "\n",
    "data_path = \"./data\"\n",
    "\n",
    "DATA_ROOT = Path(data_path)\n",
    "clips_tr = pd.read_parquet(DATA_ROOT / \"train/segments.parquet\")\n",
    "\n",
    "# Split the dataset by the 'patient' column\n",
    "patients = clips_tr['signals_path'].unique()\n",
    "train_patients, val_patients = train_test_split(patients, test_size=0.2, random_state=42)\n",
    "\n",
    "# Create training and validation datasets\n",
    "train_clips = clips_tr[clips_tr['signals_path'].isin(train_patients)]\n",
    "val_clips = clips_tr[clips_tr['signals_path'].isin(val_patients)]"
   ]
  },
  {
   "cell_type": "markdown",
   "metadata": {},
   "source": [
    "## Loading the signals\n",
    "\n",
    "For convenience, the `EEGDataset class` provides functionality for loading each segment and its label as `numpy` arrays.\n",
    "\n",
    "You can provide an optional `signal_transform` function to preprocess the signals. In the example below, we have two bandpass filtering functions, which extract frequencies between 0.5Hz and 30Hz which are used in seizure analysis literature:\n",
    "\n",
    "The `EEGDataset` class also allows to load all data in memory, instead of reading it from disk at every iteration. If your compute allows it, you can use `prefetch=True`."
   ]
  },
  {
   "cell_type": "code",
   "execution_count": 3,
   "metadata": {},
   "outputs": [],
   "source": [
    "bp_filter = signal.butter(4, (0.5, 30), btype=\"bandpass\", output=\"sos\", fs=250)\n",
    "\n",
    "\n",
    "def time_filtering(x: np.ndarray) -> np.ndarray:\n",
    "    \"\"\"Filter signal in the time domain\"\"\"\n",
    "    return signal.sosfiltfilt(bp_filter, x, axis=0).copy()\n",
    "\n",
    "\n",
    "def fft_filtering(x: np.ndarray) -> np.ndarray:\n",
    "    \"\"\"Compute FFT and only keep\"\"\"\n",
    "    x = np.abs(np.fft.fft(x, axis=0))\n",
    "    x = np.log(np.where(x > 1e-8, x, 1e-8))\n",
    "\n",
    "    win_len = x.shape[0]\n",
    "    # Only frequencies b/w 0.5 and 30Hz\n",
    "    return x[int(0.5 * win_len // 250) : 30 * win_len // 250]"
   ]
  },
  {
   "cell_type": "markdown",
   "metadata": {},
   "source": [
    "## Compatibility with PyTorch\n",
    "\n",
    "The `EEGDataset` class is compatible with [pytorch datasets and dataloaders](https://pytorch.org/tutorials/beginner/basics/data_tutorial.html), which allow you to load batched data."
   ]
  },
  {
   "cell_type": "code",
   "execution_count": 4,
   "metadata": {},
   "outputs": [],
   "source": [
    "# Dependences\n",
    "import os\n",
    "import random\n",
    "\n",
    "import numpy as np\n",
    "\n",
    "import torch\n",
    "import torch.nn as nn\n",
    "import torch.optim as optim\n",
    "from torch.utils.data import DataLoader\n",
    "\n",
    "from tqdm import tqdm"
   ]
  },
  {
   "cell_type": "code",
   "execution_count": 5,
   "metadata": {},
   "outputs": [],
   "source": [
    "def seed_everything(seed: int):\n",
    "    # Python random module\n",
    "    random.seed(seed)\n",
    "    # Numpy random module\n",
    "    np.random.seed(seed)\n",
    "    # Torch random seeds\n",
    "    torch.manual_seed(seed)\n",
    "    torch.cuda.manual_seed(seed)\n",
    "    torch.cuda.manual_seed_all(seed)  # if you are using multi-GPU.\n",
    "\n",
    "    # Set PYTHONHASHSEED environment variable for hash-based operations\n",
    "    os.environ[\"PYTHONHASHSEED\"] = str(seed)\n",
    "\n",
    "    # Ensure deterministic behavior in cudnn (may slow down your training)\n",
    "    torch.backends.cudnn.deterministic = True\n",
    "    torch.backends.cudnn.benchmark = False\n",
    "\n",
    "\n",
    "seed_everything(1)"
   ]
  },
  {
   "cell_type": "code",
   "execution_count": 6,
   "metadata": {},
   "outputs": [],
   "source": [
    "train_dataset = EEGDataset(\n",
    "        train_clips,\n",
    "        signals_root=DATA_ROOT / \"train\",\n",
    "        signal_transform=fft_filtering,\n",
    "        prefetch=True,  # If your compute does not allow it, you can use `prefetch=False`\n",
    "    )\n",
    "\n",
    "val_dataset = EEGDataset(\n",
    "        val_clips,\n",
    "        signals_root=DATA_ROOT / \"train\",\n",
    "        signal_transform=fft_filtering,\n",
    "        prefetch=True,  # If your compute does not allow it, you can use `prefetch=False`\n",
    "    )\n",
    "\n",
    "loader_val = DataLoader(\n",
    "        dataset=val_dataset,\n",
    "        shuffle=True,\n",
    "        batch_size=512,\n",
    "    )"
   ]
  },
  {
   "cell_type": "code",
   "execution_count": 7,
   "metadata": {},
   "outputs": [],
   "source": [
    "from imblearn.over_sampling import SMOTE\n",
    "from torch.utils.data import TensorDataset, DataLoader\n",
    "import torch\n",
    "\n",
    "# 1. Extract all data from train_dataset\n",
    "X_list, y_list = [], []\n",
    "for i in range(len(train_dataset)):\n",
    "    X, y = train_dataset[i]\n",
    "    X_list.append(X.flatten())  # Flatten if needed\n",
    "    y_list.append(y)\n",
    "\n",
    "X = np.stack(X_list)  # shape: [n_samples, n_features]\n",
    "y = np.array(y_list)\n",
    "\n",
    "# 2. Apply SMOTE ENN\n",
    "smote_enn = SMOTE(random_state=42)\n",
    "X_resampled, y_resampled = smote_enn.fit_resample(X, y)\n",
    "\n",
    "# 3. Convert back to torch tensors and create DataLoader\n",
    "X_resampled = torch.tensor(X_resampled, dtype=torch.float32)\n",
    "y_resampled = torch.tensor(y_resampled, dtype=torch.float32)\n",
    "\n",
    "train_dataset_balanced = TensorDataset(X_resampled, y_resampled)\n",
    "loader_tr = DataLoader(train_dataset_balanced, batch_size=512, shuffle=True)"
   ]
  },
  {
   "cell_type": "code",
   "execution_count": 8,
   "metadata": {},
   "outputs": [
    {
     "name": "stdout",
     "output_type": "stream",
     "text": [
      "Using device: cuda\n"
     ]
    }
   ],
   "source": [
    "# Set up device\n",
    "device = torch.device(\"cuda\" if torch.cuda.is_available() else \"cpu\")\n",
    "print(\"Using device:\", device)"
   ]
  },
  {
   "cell_type": "markdown",
   "metadata": {},
   "source": [
    "## Bidirectional LSTM model for sequential data\n",
    "\n",
    "In this section, we train a bidirectional lstm model with an mlp for the sequence classification."
   ]
  },
  {
   "cell_type": "code",
   "execution_count": 9,
   "metadata": {},
   "outputs": [],
   "source": [
    "class BiLSTM(nn.Module):\n",
    "    def __init__(self, input_dim=19, hidden_dim=64, num_layers=1, dropout=0.2):\n",
    "        super().__init__()\n",
    "        self.lstm = nn.LSTM(\n",
    "            input_dim, \n",
    "            hidden_dim, \n",
    "            num_layers, \n",
    "            batch_first=True, \n",
    "            dropout=dropout, \n",
    "            bidirectional=True  # Enable bidirectional LSTM\n",
    "        )\n",
    "        # Multiply hidden_dim by 6: 2 for bidirectional, 3 for first, last, and mean\n",
    "        self.fc1 = nn.Linear(hidden_dim * 6, hidden_dim)  # First linear layer\n",
    "        self.relu = nn.ReLU()  # ReLU activation\n",
    "        self.fc2 = nn.Linear(hidden_dim, 1)\n",
    "\n",
    "    def extract_features(self, x):\n",
    "        out, (h_n, c_n) = self.lstm(x)\n",
    "        first_timestep = out[:, 0, :]\n",
    "        last_timestep = out[:, -1, :]\n",
    "        mean_timestep = out.mean(dim=1)\n",
    "        combined = torch.cat((first_timestep, last_timestep, mean_timestep), dim=1)\n",
    "        x = self.fc1(combined)\n",
    "        x = self.relu(x)\n",
    "        return x  # [batch_size, hidden_dim]\n",
    "\n",
    "    def forward(self, x):\n",
    "        feats = self.extract_features(x)\n",
    "        logits = self.fc2(feats)\n",
    "        return logits"
   ]
  },
  {
   "cell_type": "code",
   "execution_count": null,
   "metadata": {},
   "outputs": [],
   "source": [
    "model = BiLSTM(input_dim=19, hidden_dim=64, num_layers=2, dropout=0.3).to(device)\n",
    "class_weight = 4\n",
    "criterion = nn.BCEWithLogitsLoss()\n",
    "optimizer = optim.Adam(model.parameters(), lr=1e-3)"
   ]
  },
  {
   "cell_type": "code",
   "execution_count": null,
   "metadata": {},
   "outputs": [
    {
     "name": "stderr",
     "output_type": "stream",
     "text": [
      "Training:   1%|▍                                                | 1/100 [00:01<02:39,  1.61s/it]"
     ]
    },
    {
     "name": "stdout",
     "output_type": "stream",
     "text": [
      "0.15208231487301255\n"
     ]
    },
    {
     "name": "stderr",
     "output_type": "stream",
     "text": [
      "Training:   2%|▉                                                | 2/100 [00:02<02:18,  1.41s/it]"
     ]
    },
    {
     "name": "stdout",
     "output_type": "stream",
     "text": [
      "0.15445812640755305\n"
     ]
    },
    {
     "name": "stderr",
     "output_type": "stream",
     "text": [
      "Training:   3%|█▍                                               | 3/100 [00:04<02:10,  1.35s/it]"
     ]
    },
    {
     "name": "stdout",
     "output_type": "stream",
     "text": [
      "0.3667441178461053\n"
     ]
    },
    {
     "name": "stderr",
     "output_type": "stream",
     "text": [
      "Training:   4%|█▉                                               | 4/100 [00:05<02:06,  1.32s/it]"
     ]
    },
    {
     "name": "stdout",
     "output_type": "stream",
     "text": [
      "0.4724085893708944\n"
     ]
    },
    {
     "name": "stderr",
     "output_type": "stream",
     "text": [
      "Training:   5%|██▍                                              | 5/100 [00:06<02:03,  1.30s/it]"
     ]
    },
    {
     "name": "stdout",
     "output_type": "stream",
     "text": [
      "0.5483872537805964\n"
     ]
    },
    {
     "name": "stderr",
     "output_type": "stream",
     "text": [
      "Training:   6%|██▉                                              | 6/100 [00:07<02:01,  1.29s/it]"
     ]
    },
    {
     "name": "stdout",
     "output_type": "stream",
     "text": [
      "0.3776023277401627\n"
     ]
    },
    {
     "name": "stderr",
     "output_type": "stream",
     "text": [
      "Training:   7%|███▍                                             | 7/100 [00:09<01:59,  1.28s/it]"
     ]
    },
    {
     "name": "stdout",
     "output_type": "stream",
     "text": [
      "0.4748389757335979\n"
     ]
    },
    {
     "name": "stderr",
     "output_type": "stream",
     "text": [
      "Training:   8%|███▉                                             | 8/100 [00:10<01:57,  1.28s/it]"
     ]
    },
    {
     "name": "stdout",
     "output_type": "stream",
     "text": [
      "0.4509732740239688\n"
     ]
    },
    {
     "name": "stderr",
     "output_type": "stream",
     "text": [
      "Training:   9%|████▍                                            | 9/100 [00:11<01:56,  1.28s/it]"
     ]
    },
    {
     "name": "stdout",
     "output_type": "stream",
     "text": [
      "0.4888630471088965\n"
     ]
    },
    {
     "name": "stderr",
     "output_type": "stream",
     "text": [
      "Training:  10%|████▊                                           | 10/100 [00:13<01:55,  1.28s/it]"
     ]
    },
    {
     "name": "stdout",
     "output_type": "stream",
     "text": [
      "0.3159284815049435\n"
     ]
    },
    {
     "name": "stderr",
     "output_type": "stream",
     "text": [
      "Training:  11%|█████▎                                          | 11/100 [00:14<01:53,  1.28s/it]"
     ]
    },
    {
     "name": "stdout",
     "output_type": "stream",
     "text": [
      "0.5217598712263346\n"
     ]
    },
    {
     "name": "stderr",
     "output_type": "stream",
     "text": [
      "Training:  12%|█████▊                                          | 12/100 [00:15<01:52,  1.27s/it]"
     ]
    },
    {
     "name": "stdout",
     "output_type": "stream",
     "text": [
      "0.6491093739491234\n"
     ]
    },
    {
     "name": "stderr",
     "output_type": "stream",
     "text": [
      "Training:  13%|██████▏                                         | 13/100 [00:16<01:50,  1.27s/it]"
     ]
    },
    {
     "name": "stdout",
     "output_type": "stream",
     "text": [
      "0.5472501841993549\n"
     ]
    },
    {
     "name": "stderr",
     "output_type": "stream",
     "text": [
      "Training:  14%|██████▋                                         | 14/100 [00:18<01:49,  1.27s/it]"
     ]
    },
    {
     "name": "stdout",
     "output_type": "stream",
     "text": [
      "0.5551143037368949\n"
     ]
    },
    {
     "name": "stderr",
     "output_type": "stream",
     "text": [
      "Training:  15%|███████▏                                        | 15/100 [00:19<01:48,  1.27s/it]"
     ]
    },
    {
     "name": "stdout",
     "output_type": "stream",
     "text": [
      "0.30735467702524905\n"
     ]
    },
    {
     "name": "stderr",
     "output_type": "stream",
     "text": [
      "Training:  16%|███████▋                                        | 16/100 [00:20<01:46,  1.27s/it]"
     ]
    },
    {
     "name": "stdout",
     "output_type": "stream",
     "text": [
      "0.3653990318301905\n"
     ]
    },
    {
     "name": "stderr",
     "output_type": "stream",
     "text": [
      "Training:  17%|████████▏                                       | 17/100 [00:21<01:45,  1.27s/it]"
     ]
    },
    {
     "name": "stdout",
     "output_type": "stream",
     "text": [
      "0.5280701679742678\n"
     ]
    },
    {
     "name": "stderr",
     "output_type": "stream",
     "text": [
      "Training:  18%|████████▋                                       | 18/100 [00:23<01:44,  1.27s/it]"
     ]
    },
    {
     "name": "stdout",
     "output_type": "stream",
     "text": [
      "0.6571721309892032\n"
     ]
    },
    {
     "name": "stderr",
     "output_type": "stream",
     "text": [
      "Training:  19%|█████████                                       | 19/100 [00:24<01:42,  1.27s/it]"
     ]
    },
    {
     "name": "stdout",
     "output_type": "stream",
     "text": [
      "0.5447215129509909\n"
     ]
    },
    {
     "name": "stderr",
     "output_type": "stream",
     "text": [
      "Training:  20%|█████████▌                                      | 20/100 [00:25<01:41,  1.27s/it]"
     ]
    },
    {
     "name": "stdout",
     "output_type": "stream",
     "text": [
      "0.6228029504741833\n"
     ]
    },
    {
     "name": "stderr",
     "output_type": "stream",
     "text": [
      "Training:  21%|██████████                                      | 21/100 [00:27<01:43,  1.32s/it]"
     ]
    },
    {
     "name": "stdout",
     "output_type": "stream",
     "text": [
      "0.5873829482543742\n"
     ]
    },
    {
     "name": "stderr",
     "output_type": "stream",
     "text": [
      "Training:  22%|██████████▌                                     | 22/100 [00:28<01:41,  1.30s/it]"
     ]
    },
    {
     "name": "stdout",
     "output_type": "stream",
     "text": [
      "0.5510621346375353\n"
     ]
    },
    {
     "name": "stderr",
     "output_type": "stream",
     "text": [
      "Training:  23%|███████████                                     | 23/100 [00:29<01:39,  1.29s/it]"
     ]
    },
    {
     "name": "stdout",
     "output_type": "stream",
     "text": [
      "0.634173475941729\n"
     ]
    },
    {
     "name": "stderr",
     "output_type": "stream",
     "text": [
      "Training:  24%|███████████▌                                    | 24/100 [00:30<01:37,  1.29s/it]"
     ]
    },
    {
     "name": "stdout",
     "output_type": "stream",
     "text": [
      "0.6868319152188311\n"
     ]
    },
    {
     "name": "stderr",
     "output_type": "stream",
     "text": [
      "Training:  25%|████████████                                    | 25/100 [00:32<01:36,  1.28s/it]"
     ]
    },
    {
     "name": "stdout",
     "output_type": "stream",
     "text": [
      "0.6797225622195022\n"
     ]
    },
    {
     "name": "stderr",
     "output_type": "stream",
     "text": [
      "Training:  26%|████████████▍                                   | 26/100 [00:33<01:34,  1.28s/it]"
     ]
    },
    {
     "name": "stdout",
     "output_type": "stream",
     "text": [
      "0.6174099751655628\n"
     ]
    },
    {
     "name": "stderr",
     "output_type": "stream",
     "text": [
      "Training:  27%|████████████▉                                   | 27/100 [00:34<01:33,  1.28s/it]"
     ]
    },
    {
     "name": "stdout",
     "output_type": "stream",
     "text": [
      "0.5258802022743999\n"
     ]
    },
    {
     "name": "stderr",
     "output_type": "stream",
     "text": [
      "Training:  28%|█████████████▍                                  | 28/100 [00:36<01:31,  1.28s/it]"
     ]
    },
    {
     "name": "stdout",
     "output_type": "stream",
     "text": [
      "0.5097095825984714\n"
     ]
    },
    {
     "name": "stderr",
     "output_type": "stream",
     "text": [
      "Training:  29%|█████████████▉                                  | 29/100 [00:37<01:30,  1.27s/it]"
     ]
    },
    {
     "name": "stdout",
     "output_type": "stream",
     "text": [
      "0.6464662398808534\n"
     ]
    },
    {
     "name": "stderr",
     "output_type": "stream",
     "text": [
      "Training:  30%|██████████████▍                                 | 30/100 [00:38<01:29,  1.28s/it]"
     ]
    },
    {
     "name": "stdout",
     "output_type": "stream",
     "text": [
      "0.6589603004822895\n"
     ]
    },
    {
     "name": "stderr",
     "output_type": "stream",
     "text": [
      "Training:  31%|██████████████▉                                 | 31/100 [00:39<01:27,  1.27s/it]"
     ]
    },
    {
     "name": "stdout",
     "output_type": "stream",
     "text": [
      "0.6805583979750334\n"
     ]
    },
    {
     "name": "stderr",
     "output_type": "stream",
     "text": [
      "Training:  32%|███████████████▎                                | 32/100 [00:41<01:26,  1.27s/it]"
     ]
    },
    {
     "name": "stdout",
     "output_type": "stream",
     "text": [
      "0.6658462670357006\n"
     ]
    },
    {
     "name": "stderr",
     "output_type": "stream",
     "text": [
      "Training:  33%|███████████████▊                                | 33/100 [00:42<01:25,  1.27s/it]"
     ]
    },
    {
     "name": "stdout",
     "output_type": "stream",
     "text": [
      "0.6239852002024745\n"
     ]
    },
    {
     "name": "stderr",
     "output_type": "stream",
     "text": [
      "Training:  34%|████████████████▎                               | 34/100 [00:43<01:24,  1.28s/it]"
     ]
    },
    {
     "name": "stdout",
     "output_type": "stream",
     "text": [
      "0.5783714607244019\n"
     ]
    },
    {
     "name": "stderr",
     "output_type": "stream",
     "text": [
      "Training:  35%|████████████████▊                               | 35/100 [00:44<01:22,  1.27s/it]"
     ]
    },
    {
     "name": "stdout",
     "output_type": "stream",
     "text": [
      "0.7070070699720361\n"
     ]
    }
   ],
   "source": [
    "from sklearn.metrics import f1_score, precision_score, recall_score\n",
    "\n",
    "# Training loop\n",
    "num_epochs = 100\n",
    "train_losses = []\n",
    "val_losses = []\n",
    "val_f1_scores = []\n",
    "val_precision_scores = []\n",
    "val_recall_scores = []\n",
    "\n",
    "for epoch in tqdm(range(num_epochs), desc=\"Training\"):\n",
    "    model.train()\n",
    "    running_loss = 0.0\n",
    "\n",
    "    for x_batch, y_batch in loader_tr:\n",
    "        # Move data to GPU (if available)\n",
    "        x_batch = x_batch.float().to(device)  # [batch_size, seq_len, input_dim]\n",
    "        y_batch = y_batch.float().unsqueeze(1).to(device)  # [batch_size, 1]\n",
    "\n",
    "        batch_size = x_batch.shape[0]\n",
    "        seq_len =  x_batch.shape[1] // 19\n",
    "        x_batch = x_batch.view(batch_size, seq_len, 19)\n",
    "        # Forward pass\n",
    "        logits = model(x_batch)\n",
    "        loss = criterion(logits, y_batch)\n",
    "\n",
    "        # Backward pass\n",
    "        optimizer.zero_grad()\n",
    "        loss.backward()\n",
    "        optimizer.step()\n",
    "\n",
    "        running_loss += loss.item()\n",
    "\n",
    "    avg_loss = running_loss / len(loader_tr)\n",
    "    train_losses.append(avg_loss)\n",
    "\n",
    "    # Validation phase\n",
    "    model.eval()\n",
    "    val_running_loss = 0.0\n",
    "    all_labels = []\n",
    "    all_preds = []\n",
    "\n",
    "    with torch.no_grad():\n",
    "        for x_val, y_val in loader_val:\n",
    "            # Move data to GPU (if available)\n",
    "            x_val = x_val.float().to(device)  # [batch_size, seq_len, input_dim]\n",
    "            y_val = y_val.float().unsqueeze(1).to(device)  # [batch_size, 1]\n",
    "\n",
    "            # Forward pass\n",
    "            val_logits = model(x_val)\n",
    "            val_probs = torch.sigmoid(val_logits)  # Apply sigmoid for binary classification\n",
    "            val_preds = (val_probs > 0.5).int()  # Convert probabilities to binary predictions\n",
    "\n",
    "            # Collect all labels and predictions\n",
    "            all_labels.extend(y_val.cpu().numpy())\n",
    "            all_preds.extend(val_preds.cpu().numpy())\n",
    "\n",
    "            # Compute validation loss\n",
    "            val_loss = criterion(val_logits, y_val)\n",
    "            val_running_loss += val_loss.item()\n",
    "\n",
    "    avg_val_loss = val_running_loss / len(loader_val)\n",
    "    val_losses.append(avg_val_loss)\n",
    "\n",
    "    # Compute metrics for validation data\n",
    "    all_labels = np.array(all_labels).flatten()\n",
    "    all_preds = np.array(all_preds).flatten()\n",
    "    val_f1 = f1_score(all_labels, all_preds, average='macro')\n",
    "    val_precision = precision_score(all_labels, all_preds, average='macro')\n",
    "    val_recall = recall_score(all_labels, all_preds, average='macro')\n",
    "    val_f1_scores.append(val_f1)\n",
    "    val_precision_scores.append(val_precision)\n",
    "    val_recall_scores.append(val_recall)\n",
    "    print(val_f1)"
   ]
  },
  {
   "cell_type": "code",
   "execution_count": null,
   "metadata": {},
   "outputs": [
    {
     "data": {
      "image/png": "[encoded data removed]",
      "text/plain": [
       "<Figure size 600x400 with 1 Axes>"
      ]
     },
     "metadata": {},
     "output_type": "display_data"
    }
   ],
   "source": [
    "# Plot the training loss\n",
    "import matplotlib.pyplot as plt\n",
    "\n",
    "plt.figure(figsize=(6, 4))\n",
    "plt.plot(range(1, num_epochs + 1), train_losses, marker=\"o\")\n",
    "plt.plot(range(1, num_epochs + 1), val_losses, marker=\"o\")\n",
    "plt.plot(range(1, num_epochs + 1), val_f1_scores, marker=\"o\")\n",
    "#plt.plot(range(1, num_epochs + 1), val_precision_scores, marker=\"o\")\n",
    "#plt.plot(range(1, num_epochs + 1), val_recall_scores, marker=\"o\")\n",
    "plt.title(\"Loss Over Epochs\")\n",
    "plt.legend([\"Train\", \"Validation\", \"Validation F1 Score\", \"Validation Precision\", \"Validation Recall\"])\n",
    "plt.xlabel(\"Epoch\")\n",
    "plt.ylabel(\"Loss\")\n",
    "plt.grid(True)\n",
    "plt.show()"
   ]
  },
  {
   "cell_type": "markdown",
   "metadata": {},
   "source": [
    "# Submission"
   ]
  },
  {
   "cell_type": "code",
   "execution_count": null,
   "metadata": {},
   "outputs": [],
   "source": [
    "data_path = \"./data\"\n",
    "\n",
    "DATA_ROOT = Path(data_path)\n",
    "clips_tr = pd.read_parquet(DATA_ROOT / \"train/segments.parquet\")\n",
    "\n",
    "dataset_tr = EEGDataset(\n",
    "    clips_tr,\n",
    "    signals_root=DATA_ROOT / \"train\",\n",
    "    signal_transform=fft_filtering,\n",
    "    prefetch=True,  # If your compute does not allow it, you can use `prefetch=False`\n",
    ")\n",
    "\n",
    "loader_tr = DataLoader(dataset_tr, batch_size=512, shuffle=True)"
   ]
  },
  {
   "cell_type": "code",
   "execution_count": null,
   "metadata": {},
   "outputs": [],
   "source": [
    "test_clips = pd.read_parquet(DATA_ROOT / \"test/segments.parquet\")"
   ]
  },
  {
   "cell_type": "code",
   "execution_count": null,
   "metadata": {},
   "outputs": [],
   "source": [
    "model = BiLSTM(input_dim=19, hidden_dim=64, num_layers=2, dropout=0.3).to(device)\n",
    "class_weight = 4\n",
    "criterion = nn.BCEWithLogitsLoss(pos_weight=torch.FloatTensor().to(device))\n",
    "optimizer = optim.Adam(model.parameters(), lr=1e-3)"
   ]
  },
  {
   "cell_type": "code",
   "execution_count": null,
   "metadata": {},
   "outputs": [
    {
     "name": "stderr",
     "output_type": "stream",
     "text": [
      "Training: 100%|███████████████████████████████████████████████| 100/100 [01:42<00:00,  1.02s/it]\n"
     ]
    }
   ],
   "source": [
    "# Training loop\n",
    "num_epochs = 100\n",
    "train_losses = []\n",
    "\n",
    "for epoch in tqdm(range(num_epochs), desc=\"Training\"):\n",
    "    model.train()\n",
    "    running_loss = 0.0\n",
    "\n",
    "    for x_batch, y_batch in loader_tr:\n",
    "        # Move data to GPU (if available)\n",
    "        x_batch = x_batch.float().to(device)  # [batch_size, seq_len, input_dim]\n",
    "        y_batch = y_batch.float().unsqueeze(1).to(device)  # [batch_size, 1]\n",
    "\n",
    "        # Forward pass\n",
    "        logits = model(x_batch)\n",
    "        loss = criterion(logits, y_batch)\n",
    "\n",
    "        # Backward pass\n",
    "        optimizer.zero_grad()\n",
    "        loss.backward()\n",
    "        optimizer.step()\n",
    "\n",
    "        running_loss += loss.item()\n",
    "\n",
    "    avg_loss = running_loss / len(loader_tr)\n",
    "    train_losses.append(avg_loss)"
   ]
  },
  {
   "cell_type": "code",
   "execution_count": null,
   "metadata": {},
   "outputs": [],
   "source": [
    "# Create test dataset\n",
    "dataset_te = EEGDataset(\n",
    "    test_clips,  # Your test clips variable\n",
    "    signals_root=DATA_ROOT\n",
    "    / \"test\",  # Update this path if your test signals are stored elsewhere\n",
    "    signal_transform=fft_filtering,  # You can change or remove the signal_transform as needed\n",
    "    prefetch=True,  # Set to False if prefetching causes memory issues on your compute environment\n",
    "    return_id=True,  # Return the id of each sample instead of the label\n",
    ")\n",
    "\n",
    "# Create DataLoader for the test dataset\n",
    "loader_te = DataLoader(dataset_te, batch_size=512, shuffle=False)"
   ]
  },
  {
   "cell_type": "code",
   "execution_count": null,
   "metadata": {},
   "outputs": [
    {
     "name": "stdout",
     "output_type": "stream",
     "text": [
      "Kaggle submission file generated: submission.csv\n"
     ]
    },
    {
     "name": "stderr",
     "output_type": "stream",
     "text": [
      "/home/pavlovic/.venv/lib/python3.10/site-packages/xgboost/training.py:183: UserWarning: [14:41:32] WARNING: /workspace/src/learner.cc:738: \n",
      "Parameters: { \"use_label_encoder\" } are not used.\n",
      "\n",
      "  bst.update(dtrain, iteration=i, fobj=obj)\n"
     ]
    }
   ],
   "source": [
    "import torch\n",
    "import numpy as np\n",
    "from sklearn.utils.class_weight import compute_sample_weight\n",
    "import xgboost as xgb\n",
    "from sklearn.metrics import f1_score, classification_report\n",
    "from tqdm import tqdm\n",
    "\n",
    "device = torch.device('cuda' if torch.cuda.is_available() else 'cpu')\n",
    "\n",
    "# === Assume model is trained using your PyTorch loop above ===\n",
    "\n",
    "def extract_features_from_loader(model, loader, test=False):\n",
    "    model.eval()\n",
    "    feats = []\n",
    "    labels = []\n",
    "    with torch.no_grad():\n",
    "        for x_batch, y_batch in loader:\n",
    "            x_batch = x_batch.float().to(device)\n",
    "            # Extract features as in BiLSTM.extract_features\n",
    "            features = model.extract_features(x_batch).cpu().numpy()\n",
    "            feats.append(features)\n",
    "            if not test:\n",
    "                labels.append(y_batch.cpu().numpy())\n",
    "            else:\n",
    "                labels.append(y_batch)\n",
    "    X_feats = np.concatenate(feats, axis=0)\n",
    "    y_labels = np.concatenate(labels, axis=0).flatten()\n",
    "    return X_feats, y_labels\n",
    "\n",
    "# === Feature extraction ===\n",
    "X_train_feats, y_train = extract_features_from_loader(model, loader_tr)\n",
    "X_te_feats, all_ids = extract_features_from_loader(model, loader_te, test=True)\n",
    "\n",
    "# === Train XGBoost Classifier ===\n",
    "xgb_model = xgb.XGBClassifier(\n",
    "    n_estimators=100,\n",
    "    max_depth=5,\n",
    "    learning_rate=0.1,\n",
    "    use_label_encoder=False,\n",
    "    eval_metric='logloss',\n",
    "    random_state=42\n",
    ")\n",
    "xgb_model.fit(X_train_feats, y_train)\n",
    "\n",
    "# === Predict and Evaluate ===\n",
    "all_predictions = xgb_model.predict(X_te_feats)\n",
    "\n",
    "\n",
    "\n",
    "# Create a DataFrame for Kaggle submission with the required format: \"id,label\"\n",
    "submission_df = pd.DataFrame({\"id\": all_ids, \"label\": all_predictions})\n",
    "\n",
    "# Save the DataFrame to a CSV file without an index\n",
    "submission_df.to_csv(\"submission_xgb_seed2.csv\", index=False)\n",
    "print(\"Kaggle submission file generated: submission.csv\")"
   ]
  },
  {
   "cell_type": "code",
   "execution_count": null,
   "metadata": {},
   "outputs": [],
   "source": []
  }
 ],
 "metadata": {
  "kernelspec": {
   "display_name": "Python 3 (ipykernel)",
   "language": "python",
   "name": "python3"
  },
  "language_info": {
   "codemirror_mode": {
    "name": "ipython",
    "version": 3
   },
   "file_extension": ".py",
   "mimetype": "text/x-python",
   "name": "python",
   "nbconvert_exporter": "python",
   "pygments_lexer": "ipython3",
   "version": "3.10.4"
  }
 },
 "nbformat": 4,
 "nbformat_minor": 2
}
