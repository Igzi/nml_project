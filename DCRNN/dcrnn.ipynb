{
 "cells": [
  {
   "cell_type": "code",
   "execution_count": 1,
   "id": "6290a3b2",
   "metadata": {},
   "outputs": [],
   "source": [
    "from pathlib import Path\n",
    "\n",
    "import numpy as np\n",
    "import pandas as pd\n",
    "import matplotlib.pyplot as plt\n",
    "from scipy import signal\n",
    "from sklearn.model_selection import train_test_split\n",
    "import torch.nn as nn\n",
    "import torch.nn.functional as F\n",
    "from sklearn.metrics import f1_score, precision_score, recall_score\n",
    "\n",
    "from seiz_eeg.dataset import EEGDataset"
   ]
  },
  {
   "cell_type": "markdown",
   "id": "e0c08937",
   "metadata": {},
   "source": [
    "# The data\n",
    "\n",
    "We model *segments* of brain activity, which correspond to windows of a longer *session* of EEG recording.\n",
    "\n",
    "These segments, and their labels, are described in the `segments.parquet` files, which can be directly loaded with `pandas`."
   ]
  },
  {
   "cell_type": "code",
   "execution_count": 2,
   "id": "ca112d9f",
   "metadata": {},
   "outputs": [],
   "source": [
    "# You might need to change this according to where you store the data folder\n",
    "# Inside your data folder, you should have the following structure:\n",
    "# data\n",
    "# ├── train\n",
    "# │   ├── signals/\n",
    "# │   ├── segments.parquet\n",
    "# │-- test\n",
    "#     ├── signals/\n",
    "#     ├── segments.parquet\n",
    "\n",
    "data_path = \"../data\"\n",
    "\n",
    "DATA_ROOT = Path(data_path)\n",
    "clips_tr = pd.read_parquet(DATA_ROOT / \"train/segments.parquet\")\n",
    "\n",
    "# Split the dataset by the 'patient' column\n",
    "patients = clips_tr['signals_path'].unique()\n",
    "train_patients, val_patients = train_test_split(patients, test_size=0.2, random_state=42)\n",
    "\n",
    "# Create training and validation datasets\n",
    "train_clips = clips_tr[clips_tr['signals_path'].isin(train_patients)]\n",
    "val_clips = clips_tr[clips_tr['signals_path'].isin(val_patients)]"
   ]
  },
  {
   "cell_type": "markdown",
   "id": "152ef7ca",
   "metadata": {},
   "source": [
    "## Loading the signals\n",
    "\n",
    "For convenience, the `EEGDataset class` provides functionality for loading each segment and its label as `numpy` arrays.\n",
    "\n",
    "You can provide an optional `signal_transform` function to preprocess the signals. In the example below, we have two bandpass filtering functions, which extract frequencies between 0.5Hz and 30Hz which are used in seizure analysis literature:\n",
    "\n",
    "The `EEGDataset` class also allows to load all data in memory, instead of reading it from disk at every iteration. If your compute allows it, you can use `prefetch=True`."
   ]
  },
  {
   "cell_type": "code",
   "execution_count": null,
   "id": "6ff586b6",
   "metadata": {},
   "outputs": [],
   "source": [
    "bp_filter = signal.butter(4, (0.5, 30), btype=\"bandpass\", output=\"sos\", fs=250)\n",
    "\n",
    "def time_filtering(x: np.ndarray) -> np.ndarray:\n",
    "    \"\"\"Filter signal in the time domain and downsample it\"\"\"\n",
    "    x = signal.sosfiltfilt(bp_filter, x, axis=0).copy()\n",
    "    return x[::4]  # Downsample by factor of 4 (250 Hz → 62.5 Hz)\n",
    "\n",
    "\n",
    "\n",
    "def fft_filtering(x: np.ndarray) -> np.ndarray:\n",
    "    \"\"\"Compute FFT and only keep\"\"\"\n",
    "    x = np.abs(np.fft.fft(x, axis=0))\n",
    "    x = np.log(np.where(x > 1e-8, x, 1e-8))\n",
    "\n",
    "    win_len = x.shape[0]\n",
    "    # Only frequencies b/w 0.5 and 30Hz\n",
    "    return x[int(0.5 * win_len // 250) : 30 * win_len // 250]"
   ]
  },
  {
   "cell_type": "markdown",
   "id": "3708361c",
   "metadata": {},
   "source": [
    "## Compatibility with PyTorch\n",
    "\n",
    "The `EEGDataset` class is compatible with [pytorch datasets and dataloaders](https://pytorch.org/tutorials/beginner/basics/data_tutorial.html), which allow you to load batched data."
   ]
  },
  {
   "cell_type": "code",
   "execution_count": 4,
   "id": "9d9e9198",
   "metadata": {},
   "outputs": [],
   "source": [
    "# Dependences\n",
    "import os\n",
    "import random\n",
    "\n",
    "import numpy as np\n",
    "\n",
    "import torch\n",
    "import torch.nn as nn\n",
    "import torch.optim as optim\n",
    "from torch.utils.data import DataLoader\n",
    "\n",
    "from tqdm import tqdm"
   ]
  },
  {
   "cell_type": "code",
   "execution_count": 5,
   "id": "f8c92cbd",
   "metadata": {},
   "outputs": [],
   "source": [
    "def seed_everything(seed: int):\n",
    "    # Python random module\n",
    "    random.seed(seed)\n",
    "    # Numpy random module\n",
    "    np.random.seed(seed)\n",
    "    # Torch random seeds\n",
    "    torch.manual_seed(seed)\n",
    "    torch.cuda.manual_seed(seed)\n",
    "    torch.cuda.manual_seed_all(seed)  # if you are using multi-GPU.\n",
    "\n",
    "    # Set PYTHONHASHSEED environment variable for hash-based operations\n",
    "    os.environ[\"PYTHONHASHSEED\"] = str(seed)\n",
    "\n",
    "    # Ensure deterministic behavior in cudnn (may slow down your training)\n",
    "    torch.backends.cudnn.deterministic = True\n",
    "    torch.backends.cudnn.benchmark = False\n",
    "\n",
    "\n",
    "seed_everything(1)"
   ]
  },
  {
   "cell_type": "code",
   "execution_count": 6,
   "id": "23b38aa5",
   "metadata": {},
   "outputs": [],
   "source": [
    "train_dataset = EEGDataset(\n",
    "        train_clips,\n",
    "        signals_root=DATA_ROOT / \"train\",\n",
    "        signal_transform=fft_filtering,\n",
    "        prefetch=True,  # If your compute does not allow it, you can use `prefetch=False`\n",
    "    )\n",
    "\n",
    "val_dataset = EEGDataset(\n",
    "        val_clips,\n",
    "        signals_root=DATA_ROOT / \"train\",\n",
    "        signal_transform=fft_filtering,\n",
    "        prefetch=True,  # If your compute does not allow it, you can use `prefetch=False`\n",
    "    )\n",
    "\n",
    "loader_tr = DataLoader(\n",
    "        dataset=train_dataset,\n",
    "        shuffle=True,\n",
    "        batch_size=512,\n",
    "    )\n",
    "\n",
    "loader_val = DataLoader(\n",
    "        dataset=val_dataset,\n",
    "        shuffle=True,\n",
    "        batch_size=512,\n",
    "    )"
   ]
  },
  {
   "cell_type": "code",
   "execution_count": 7,
   "id": "72e423ff",
   "metadata": {},
   "outputs": [
    {
     "name": "stdout",
     "output_type": "stream",
     "text": [
      "Using device: cuda\n"
     ]
    }
   ],
   "source": [
    "# Set up device\n",
    "device = torch.device(\"cuda\" if torch.cuda.is_available() else \"cpu\")\n",
    "print(\"Using device:\", device)"
   ]
  },
  {
   "cell_type": "markdown",
   "id": "c152f8ac",
   "metadata": {},
   "source": [
    "### Adjacency Matrix Construction for DCRNN\n",
    "\n",
    "This section constructs the adjacency matrices required for the Diffusion Convolutional Recurrent Neural Network (DCRNN), which relies on graph-based signal propagation.\n",
    "\n",
    "Steps:\n",
    "1. Load 3D distance matrix: A 19×19 matrix is loaded from a CSV file, representing pairwise Euclidean distances between EEG channels.\n",
    "2. Apply a Gaussian kernel: The adjacency matrix is computed by applying a Gaussian kernel to the distances, where closer nodes have stronger weights. The bandwidth `σ` is set as the standard deviation of all non-zero distances.\n",
    "3. Sparsification: To reduce noise and computational cost, long-range connections (distances above the 75th percentile) are set to zero.\n",
    "4. Graph normalization:\n",
    "   - Two directed diffusion matrices are computed: `A_forward` for forward diffusion and `A_backward` for backward diffusion.\n",
    "   - These are calculated using normalized graph Laplacians:  \n",
    "     - `A_forward = D_out⁻¹ * W`\n",
    "     - `A_backward = D_in⁻¹ * Wᵗ`\n",
    "\n",
    "5. Conversion to PyTorch: Both matrices are converted to PyTorch tensors and moved to the selected device.\n",
    "\n",
    "These matrices define the graph structure over which the DCRNN operates, enabling temporal and spatial learning across EEG electrodes.\n"
   ]
  },
  {
   "cell_type": "code",
   "execution_count": 8,
   "id": "721625f1",
   "metadata": {},
   "outputs": [
    {
     "name": "stdout",
     "output_type": "stream",
     "text": [
      "torch.Size([1, 19, 19])\n"
     ]
    }
   ],
   "source": [
    "adj = np.genfromtxt('./data/distances_3d.csv', skip_header=1, delimiter=',')[:, -1].reshape(19,19)\n",
    "adj = torch.tensor(adj, dtype=torch.float32).to(device).unsqueeze(0)\n",
    "print(adj.shape)"
   ]
  },
  {
   "cell_type": "code",
   "execution_count": 9,
   "id": "8060f3e4",
   "metadata": {},
   "outputs": [
    {
     "name": "stdout",
     "output_type": "stream",
     "text": [
      "A_forward shape: torch.Size([19, 19])\n",
      "A_backward shape: torch.Size([19, 19])\n"
     ]
    }
   ],
   "source": [
    "# Load distance matrix (19x19)\n",
    "dist_matrix = np.genfromtxt('./data/distances_3d.csv', skip_header=1, delimiter=',')[:, -1].reshape(19, 19)\n",
    "\n",
    "# Gaussian kernel\n",
    "sigma = np.std(dist_matrix[dist_matrix > 0])\n",
    "adj = np.exp(-np.square(dist_matrix) / sigma**2)\n",
    "\n",
    "# Sparsify: zero out long distances\n",
    "threshold = np.percentile(dist_matrix[dist_matrix > 0], 75)\n",
    "adj[dist_matrix > threshold] = 0\n",
    "\n",
    "# Normalize to get forward and backward diffusion matrices\n",
    "D_out = np.diag(adj.sum(axis=1))\n",
    "D_in = np.diag(adj.sum(axis=0))\n",
    "\n",
    "A_forward = np.linalg.inv(D_out) @ adj  # D_out⁻¹ * W\n",
    "A_backward = np.linalg.inv(D_in) @ adj.T  # D_in⁻¹ * Wᵗ\n",
    "\n",
    "# Convert to PyTorch\n",
    "A_forward = torch.tensor(A_forward, dtype=torch.float32, device=device)\n",
    "A_backward = torch.tensor(A_backward, dtype=torch.float32, device=device)\n",
    "\n",
    "print(\"A_forward shape:\", A_forward.shape)\n",
    "print(\"A_backward shape:\", A_backward.shape)\n"
   ]
  },
  {
   "cell_type": "markdown",
   "id": "59a74428",
   "metadata": {},
   "source": [
    "### Diffusion Convolution and Graph GRU Cell\n",
    "\n",
    "This section defines the core components of the DCRNN architecture: the Diffusion Convolution layer and the DCGRU cell (Diffusion Convolutional Gated Recurrent Unit).\n",
    "\n",
    "#### `DiffusionConv` Layer\n",
    "This module implements spatial graph convolutions using diffusion processes over a directed graph:\n",
    "- The input `x` has shape (B, N, in_channels), where `B` is batch size, and `N` is the number of nodes (e.g., EEG channels).\n",
    "- `K` denotes the number of diffusion steps.\n",
    "- For each step `k`, the input is propagated forward and backward using the normalized adjacency matrices `A_forward` and `A_backward`.\n",
    "- The result of each step is transformed with learnable weights `θ_forward[k]` and `θ_backward[k]` and accumulated.\n",
    "- The final output has shape (B, N, out_channels).\n",
    "\n",
    "#### `DCGRUCell`\n",
    "This is a custom GRU cell that replaces fully connected layers with `DiffusionConv`:\n",
    "- Gating mechanism: The reset (`r`) and update (`u`) gates are computed from the concatenated input and hidden state using a diffusion convolution.\n",
    "- Candidate state: Computed similarly, but using reset-modulated hidden state.\n",
    "- Hidden state update: Follows standard GRU logic:  \n",
    "  \\[\n",
    "  h_{t} = u \\cdot h_{t-1} + (1 - u) \\cdot \\tilde{h}_{t}\n",
    "  \\]\n",
    "\n",
    "By combining temporal recurrence with spatial diffusion over a graph, this setup allows learning both spatial dependencies across nodes and temporal patterns over time—crucial for EEG data structured over electrodes.\n"
   ]
  },
  {
   "cell_type": "code",
   "execution_count": 10,
   "id": "d9e13082",
   "metadata": {},
   "outputs": [],
   "source": [
    "\n",
    "class DiffusionConv(nn.Module):\n",
    "    def __init__(self, K, in_channels, out_channels): # K is the number of diffusion steps\n",
    "        super().__init__()\n",
    "        self.K = K\n",
    "        self.in_channels = in_channels\n",
    "        self.out_channels = out_channels\n",
    "        self.theta_forward = nn.Parameter(torch.FloatTensor(K, in_channels, out_channels))\n",
    "        self.theta_backward = nn.Parameter(torch.FloatTensor(K, in_channels, out_channels))\n",
    "        self.reset_parameters()\n",
    "\n",
    "    def reset_parameters(self): # Initialize the parameters using Xavier initialization\n",
    "        nn.init.xavier_uniform_(self.theta_forward)\n",
    "        nn.init.xavier_uniform_(self.theta_backward)\n",
    "\n",
    "    def forward(self, x, A_forward, A_backward):\n",
    "        # x: (B, N, in_channels)\n",
    "        out = 0\n",
    "        x0 = x  # (B, N, in_channels)\n",
    "\n",
    "        for k in range(self.K): #iterate over diffusion steps\n",
    "            if k == 0: #initial step, no diffusion\n",
    "                x_fw = x0\n",
    "                x_bw = x0\n",
    "            else: \n",
    "                x_fw = torch.einsum(\"ij,bjk->bik\", A_forward, x_fw) \n",
    "                x_bw = torch.einsum(\"ij,bjk->bik\", A_backward, x_bw)\n",
    "\n",
    "            out += torch.einsum(\"bni,io->bno\", x_fw, self.theta_forward[k])\n",
    "            out += torch.einsum(\"bni,io->bno\", x_bw, self.theta_backward[k])\n",
    "\n",
    "        return out  # shape: (B, N, out_channels)\n",
    "\n",
    "class DCGRUCell(nn.Module):\n",
    "    def __init__(self, K, input_dim, hidden_dim):\n",
    "        super().__init__()\n",
    "        self.hidden_dim = hidden_dim\n",
    "        self.diff_conv_gate = DiffusionConv(K, input_dim + hidden_dim, 2 * hidden_dim)\n",
    "        self.diff_conv_candidate = DiffusionConv(K, input_dim + hidden_dim, hidden_dim)\n",
    "\n",
    "    def forward(self, x, h, A_forward, A_backward):\n",
    "        # x, h: (B, N, input_dim/hidden_dim)\n",
    "        xh = torch.cat([x, h], dim=-1)  # (B, N, input+hidden)\n",
    "        gates = torch.sigmoid(self.diff_conv_gate(xh, A_forward, A_backward))\n",
    "        r, u = torch.split(gates, self.hidden_dim, dim=-1)\n",
    "\n",
    "        xh_candidate = torch.cat([x, r * h], dim=-1)\n",
    "        c = torch.tanh(self.diff_conv_candidate(xh_candidate, A_forward, A_backward))\n",
    "\n",
    "        h_new = u * h + (1 - u) * c\n",
    "        return h_new\n"
   ]
  },
  {
   "cell_type": "markdown",
   "id": "432d510a",
   "metadata": {},
   "source": [
    "### DCRNN Model Architecture\n",
    "\n",
    "This class defines the full **Diffusion Convolutional Recurrent Neural Network (DCRNN)** model, which combines spatial graph diffusion and temporal recurrence to process EEG time-series data structured over a graph of nodes (e.g., electrodes).\n",
    "\n",
    "#### Components:\n",
    "- **Input Dimensions**:\n",
    "  - `B`: Batch size\n",
    "  - `T`: Time steps\n",
    "  - `N`: Number of nodes (e.g., 19 EEG channels)\n",
    "  - `F`: Feature dimension per node (typically 1)\n",
    "\n",
    "- **Stacked DCGRU layers**:\n",
    "  - The model supports stacking multiple `DCGRUCell` layers via `rnn_cells`.\n",
    "  - Each cell learns temporal dynamics and spatial interactions using the provided forward and backward adjacency matrices.\n",
    "\n",
    "- **Hidden State**:\n",
    "  - For each time step `t`, the model updates hidden states layer by layer.\n",
    "  - Hidden states are initialized to zeros at the start of each sequence.\n",
    "\n",
    "- **Output Layer**:\n",
    "  - After processing the entire sequence, only the **final hidden state** from the top recurrent layer is used for prediction.\n",
    "  - A linear layer maps this hidden state to the desired output dimension (e.g., binary classification).\n",
    "  - The result is **averaged over all nodes**, producing a scalar prediction per sample.\n",
    "\n",
    "This design allows the model to capture both **spatio-temporal dependencies** in EEG data and provides a principled way to incorporate graph structure into sequence modeling.\n"
   ]
  },
  {
   "cell_type": "code",
   "execution_count": 11,
   "id": "29b3afc3",
   "metadata": {},
   "outputs": [],
   "source": [
    "class DCRNN(nn.Module):\n",
    "    def __init__(self, num_nodes, input_dim, hidden_dim, output_dim, K, A_forward, A_backward, num_layers=1):\n",
    "        super().__init__()\n",
    "        self.num_nodes = num_nodes\n",
    "        self.hidden_dim = hidden_dim\n",
    "        self.num_layers = num_layers\n",
    "        self.A_forward = A_forward\n",
    "        self.A_backward = A_backward\n",
    "\n",
    "        # Stack multiple DCGRU layers\n",
    "        self.rnn_cells = nn.ModuleList([\n",
    "            DCGRUCell(K, input_dim if i == 0 else hidden_dim, hidden_dim)\n",
    "            for i in range(num_layers)\n",
    "        ])\n",
    "\n",
    "        # Final linear layer to predict output from hidden state\n",
    "        self.output_layer = nn.Linear(hidden_dim, output_dim)\n",
    "\n",
    "    def forward(self, x):\n",
    "        # Ensure input has 4 dimensions: (B, T, N, F)\n",
    "        if x.dim() == 3:\n",
    "            x = x.unsqueeze(-1)\n",
    "\n",
    "        B, T, N, F = x.shape\n",
    "        h = [torch.zeros(B, N, self.hidden_dim, device=x.device) for _ in range(self.num_layers)]\n",
    "\n",
    "        for t in range(T):\n",
    "            input_t = x[:, t]  # shape: (B, N, F)\n",
    "            for i, cell in enumerate(self.rnn_cells):\n",
    "                h[i] = cell(input_t, h[i], self.A_forward, self.A_backward)\n",
    "                input_t = h[i]  # pass output to next layer\n",
    "\n",
    "        # Use the final hidden state from the top layer\n",
    "        out = self.output_layer(h[-1])  # shape: (B, N, output_dim)\n",
    "        out = out.mean(dim=1)           # (B, 1)\n",
    "        return out\n",
    "\n"
   ]
  },
  {
   "cell_type": "markdown",
   "id": "b0980d38",
   "metadata": {},
   "source": [
    "### DCRNN Model Setup and Training Configuration\n",
    "\n",
    "We instantiate the `DCRNN` model with parameters suited for EEG signal classification:\n",
    "\n",
    "- Model Hyperparameters:\n",
    "  - `num_nodes = 19`: Corresponds to the number of EEG electrodes.\n",
    "  - `input_dim = 1`: One feature per node (e.g., raw amplitude).\n",
    "  - `hidden_dim = 64`: Dimensionality of the GRU hidden state (tunable).\n",
    "  - `output_dim = 1`: Scalar output for binary classification.\n",
    "  - `K = 3`: Number of diffusion steps in the graph convolution (using 2 caused CUDA memory issues).\n",
    "  - `num_layers = 1`: Single layer of DCGRU (can be increased if memory allows).\n",
    "\n",
    "- Graph Matrices:\n",
    "  The previously constructed `A_forward` and `A_backward` matrices are passed into the model to enable spatial diffusion across the EEG graph.\n",
    "\n",
    "- Loss Function:\n",
    "  A weighted binary cross-entropy loss (`BCEWithLogitsLoss`) is used to address class imbalance, with `pos_weight=4`.\n",
    "\n",
    "- Optimizer:\n",
    "  The model is trained using the Adam optimizer with a learning rate of `1e-3`.\n",
    "\n",
    "- Model Size:\n",
    "  The total number of trainable parameters is printed to provide insight into model complexity.\n",
    "\n",
    "This setup is the starting point for training and can be fine-tuned further based on validation results or hardware constraints.\n"
   ]
  },
  {
   "cell_type": "code",
   "execution_count": 12,
   "id": "abf1e6a8",
   "metadata": {},
   "outputs": [],
   "source": [
    "num_nodes = 19         # number of EEG electrodes\n",
    "input_dim = 1          # e.g., 1 feature per channel (amplitude)\n",
    "hidden_dim = 64        # arbitrary, tune this\n",
    "output_dim = 1         # binary classification\n",
    "K = 3                  # diffusion steps\n",
    "#tried out 2, but CUDA had no memory left\n",
    "num_layers = 1         # how many DCGRU layers\n",
    "\n",
    "model = DCRNN(\n",
    "    num_nodes=num_nodes,\n",
    "    input_dim=input_dim,\n",
    "    hidden_dim=hidden_dim,\n",
    "    output_dim=output_dim,\n",
    "    K=K,\n",
    "    A_forward=A_forward,\n",
    "    A_backward=A_backward,\n",
    "    num_layers=num_layers\n",
    ").to(device)\n",
    "\n",
    "# Loss function\n",
    "class_weight = 4  # adjust depending on imbalance\n",
    "criterion = nn.BCEWithLogitsLoss(pos_weight=torch.FloatTensor([class_weight]).to(device))\n",
    "\n",
    "# Optimizer\n",
    "optimizer = optim.Adam(model.parameters(), lr=1e-3)\n"
   ]
  },
  {
   "cell_type": "code",
   "execution_count": 13,
   "id": "1aea2992",
   "metadata": {},
   "outputs": [
    {
     "name": "stdout",
     "output_type": "stream",
     "text": [
      "Number of model parameters: 74945\n"
     ]
    }
   ],
   "source": [
    "num_params = sum(p.numel() for p in model.parameters())\n",
    "print(f\"Number of model parameters: {num_params}\")\n"
   ]
  },
  {
   "cell_type": "markdown",
   "id": "2d379bb4",
   "metadata": {},
   "source": [
    "### Training and Evaluation of DCRNN\n",
    "\n",
    "We train the `DCRNN` model for 10 epochs and evaluate its performance on a validation set after each epoch.\n",
    "\n",
    "#### Training Loop:\n",
    "- Input tensors are shaped to match model expectations: (B, T, N, 1) for input and (B, N, 1) for labels.\n",
    "- The model outputs predictions per sample using `BCEWithLogitsLoss`, suitable for binary classification.\n",
    "- After each batch, gradients are computed and weights updated using backpropagation and the Adam optimizer.\n",
    "- Average training loss per epoch is recorded.\n",
    "\n",
    "#### Validation Phase:\n",
    "- The model is evaluated in inference mode (`model.eval()` with `torch.no_grad()`).\n",
    "- Output logits are passed through a sigmoid to obtain probabilities.\n",
    "- Probabilities are thresholded at 0.5 to get binary predictions.\n",
    "- We track:\n",
    "  - Validation loss\n",
    "  - Macro F1 score\n",
    "  - Macro Precision\n",
    "  - Macro Recall\n",
    "\n",
    "Metrics are averaged over all validation batches and reported per epoch.\n",
    "\n",
    "#### Visualization:\n",
    "- After training, loss and F1 scores are plotted across epochs to monitor learning progress and generalization.\n",
    "- This provides insights into potential overfitting or underfitting trends.\n",
    "\n",
    "This routine ensures both training dynamics and classification performance are thoroughly monitored.\n"
   ]
  },
  {
   "cell_type": "code",
   "execution_count": null,
   "id": "80eebec0",
   "metadata": {},
   "outputs": [
    {
     "name": "stderr",
     "output_type": "stream",
     "text": [
      "Training:   0%|                                                                                                                                                                   | 0/10 [00:00<?, ?it/s]"
     ]
    },
    {
     "name": "stderr",
     "output_type": "stream",
     "text": [
      "Training:  10%|███████████████▌                                                                                                                                           | 1/10 [00:45<06:48, 45.42s/it]"
     ]
    },
    {
     "name": "stdout",
     "output_type": "stream",
     "text": [
      "Epoch 1: F1 = 0.4508, Precision = 0.4106, Recall = 0.4998\n"
     ]
    },
    {
     "name": "stderr",
     "output_type": "stream",
     "text": [
      "Training:  20%|███████████████████████████████                                                                                                                            | 2/10 [01:28<05:53, 44.16s/it]"
     ]
    },
    {
     "name": "stdout",
     "output_type": "stream",
     "text": [
      "Epoch 2: F1 = 0.5847, Precision = 0.6295, Recall = 0.5740\n"
     ]
    },
    {
     "name": "stderr",
     "output_type": "stream",
     "text": [
      "Training:  30%|██████████████████████████████████████████████▌                                                                                                            | 3/10 [02:12<05:06, 43.85s/it]"
     ]
    },
    {
     "name": "stdout",
     "output_type": "stream",
     "text": [
      "Epoch 3: F1 = 0.6337, Precision = 0.6243, Recall = 0.6756\n"
     ]
    },
    {
     "name": "stderr",
     "output_type": "stream",
     "text": [
      "Training:  40%|██████████████████████████████████████████████████████████████                                                                                             | 4/10 [02:55<04:22, 43.73s/it]"
     ]
    },
    {
     "name": "stdout",
     "output_type": "stream",
     "text": [
      "Epoch 4: F1 = 0.4928, Precision = 0.6355, Recall = 0.5173\n"
     ]
    },
    {
     "name": "stderr",
     "output_type": "stream",
     "text": [
      "Training:  50%|█████████████████████████████████████████████████████████████████████████████▌                                                                             | 5/10 [03:39<03:37, 43.59s/it]"
     ]
    },
    {
     "name": "stdout",
     "output_type": "stream",
     "text": [
      "Epoch 5: F1 = 0.6467, Precision = 0.6367, Recall = 0.6644\n"
     ]
    },
    {
     "name": "stderr",
     "output_type": "stream",
     "text": [
      "Training:  60%|█████████████████████████████████████████████████████████████████████████████████████████████                                                              | 6/10 [04:22<02:54, 43.57s/it]"
     ]
    },
    {
     "name": "stdout",
     "output_type": "stream",
     "text": [
      "Epoch 6: F1 = 0.6407, Precision = 0.6326, Recall = 0.6972\n"
     ]
    },
    {
     "name": "stderr",
     "output_type": "stream",
     "text": [
      "Training:  70%|████████████████████████████████████████████████████████████████████████████████████████████████████████████▌                                              | 7/10 [05:06<02:10, 43.55s/it]"
     ]
    },
    {
     "name": "stdout",
     "output_type": "stream",
     "text": [
      "Epoch 7: F1 = 0.6800, Precision = 0.6642, Recall = 0.7263\n"
     ]
    },
    {
     "name": "stderr",
     "output_type": "stream",
     "text": [
      "Training:  80%|████████████████████████████████████████████████████████████████████████████████████████████████████████████████████████████                               | 8/10 [05:49<01:27, 43.57s/it]"
     ]
    },
    {
     "name": "stdout",
     "output_type": "stream",
     "text": [
      "Epoch 8: F1 = 0.5559, Precision = 0.6086, Recall = 0.6847\n"
     ]
    },
    {
     "name": "stderr",
     "output_type": "stream",
     "text": [
      "Training:  90%|███████████████████████████████████████████████████████████████████████████████████████████████████████████████████████████████████████████▌               | 9/10 [06:33<00:43, 43.55s/it]"
     ]
    },
    {
     "name": "stdout",
     "output_type": "stream",
     "text": [
      "Epoch 9: F1 = 0.6042, Precision = 0.6279, Recall = 0.7156\n"
     ]
    },
    {
     "name": "stderr",
     "output_type": "stream",
     "text": [
      "Training: 100%|██████████████████████████████████████████████████████████████████████████████████████████████████████████████████████████████████████████████████████████| 10/10 [07:16<00:00, 43.66s/it]"
     ]
    },
    {
     "name": "stdout",
     "output_type": "stream",
     "text": [
      "Epoch 10: F1 = 0.3822, Precision = 0.5786, Recall = 0.5955\n"
     ]
    },
    {
     "name": "stderr",
     "output_type": "stream",
     "text": [
      "\n"
     ]
    }
   ],
   "source": [
    "# Training setup\n",
    "num_epochs = 10\n",
    "train_losses, val_losses = [], []\n",
    "val_f1_scores, val_precision_scores, val_recall_scores = [], [], []\n",
    "\n",
    "for epoch in tqdm(range(num_epochs), desc=\"Training\"):\n",
    "    model.train()\n",
    "    running_loss = 0.0\n",
    "\n",
    "    for x_batch, y_batch in loader_tr:\n",
    "        x_batch = x_batch.float().unsqueeze(-1).to(device)  # (B, T, N, 1)\n",
    "        y_batch = y_batch.float().unsqueeze(-1).to(device)  # (B, N, 1)\n",
    "\n",
    "        # Forward pass\n",
    "        logits = model(x_batch)  # shape: (B, N, 1)\n",
    "        loss = criterion(logits, y_batch)  # now matches shape (B, 1)\n",
    "\n",
    "\n",
    "        # Backprop\n",
    "        optimizer.zero_grad()\n",
    "        loss.backward()\n",
    "        optimizer.step()\n",
    "\n",
    "        running_loss += loss.item()\n",
    "\n",
    "    train_losses.append(running_loss / len(loader_tr))\n",
    "\n",
    "    # Validation phase\n",
    "    model.eval()\n",
    "    val_running_loss = 0.0\n",
    "    all_labels, all_preds = [], []\n",
    "\n",
    "    with torch.no_grad():\n",
    "        for x_val, y_val in loader_val:\n",
    "            x_val = x_val.float().unsqueeze(-1).to(device)\n",
    "            y_val = y_val.float().unsqueeze(-1).to(device)\n",
    "\n",
    "            val_logits = model(x_val)\n",
    "            val_probs = torch.sigmoid(val_logits)       # ← add this line\n",
    "            val_preds = (val_probs > 0.5).int()         # ← now this works\n",
    "\n",
    "\n",
    "            all_labels.extend(y_val.cpu().numpy().flatten())\n",
    "            all_preds.extend(val_preds.cpu().numpy().flatten())\n",
    "\n",
    "            val_loss = criterion(val_logits, y_val)\n",
    "            val_running_loss += val_loss.item()\n",
    "\n",
    "    val_losses.append(val_running_loss / len(loader_val))\n",
    "\n",
    "    # Metrics\n",
    "    all_labels = np.array(all_labels)\n",
    "    all_preds = np.array(all_preds)\n",
    "    val_f1 = f1_score(all_labels, all_preds, average='macro', zero_division=0)\n",
    "    val_precision = precision_score(all_labels, all_preds, average='macro', zero_division=0)\n",
    "    val_recall = recall_score(all_labels, all_preds, average='macro', zero_division=0)\n",
    "\n",
    "    val_f1_scores.append(val_f1)\n",
    "    val_precision_scores.append(val_precision)\n",
    "    val_recall_scores.append(val_recall)\n",
    "\n",
    "    print(f\"Epoch {epoch+1}: F1 = {val_f1:.4f}, Precision = {val_precision:.4f}, Recall = {val_recall:.4f}\")\n"
   ]
  },
  {
   "cell_type": "code",
   "execution_count": 15,
   "id": "db7300c2",
   "metadata": {},
   "outputs": [
    {
     "data": {
      "image/png": "[encoded data removed]",
      "text/plain": [
       "<Figure size 600x400 with 1 Axes>"
      ]
     },
     "metadata": {},
     "output_type": "display_data"
    }
   ],
   "source": [
    "import matplotlib.pyplot as plt\n",
    "\n",
    "plt.figure(figsize=(6, 4))\n",
    "plt.plot(range(1, num_epochs + 1), train_losses, marker=\"o\")\n",
    "plt.plot(range(1, num_epochs + 1), val_losses, marker=\"o\")\n",
    "plt.plot(range(1, num_epochs + 1), val_f1_scores, marker=\"o\")\n",
    "plt.title(\"Training and Validation Metrics\")\n",
    "plt.legend([\"Train Loss\", \"Val Loss\", \"Val F1 Score\"])\n",
    "plt.xlabel(\"Epoch\")\n",
    "plt.ylabel(\"Loss / Score\")\n",
    "plt.grid(True)\n",
    "plt.show()\n"
   ]
  },
  {
   "cell_type": "markdown",
   "id": "b52aad96",
   "metadata": {},
   "source": [
    "### Cross-Validation with the `evaluate` Function (DCRNN)\n",
    "\n",
    "The `evaluate` function is used to perform 5-fold cross-validation on the DCRNN model, providing a robust estimate of its generalization performance.\n",
    "\n",
    "As with the CNN setup, the evaluation ensures that clips from the same patient are not split across training and validation sets—avoiding data leakage and preserving subject independence.\n",
    "\n",
    "For each fold:\n",
    "- A new instance of the `DCRNN` model is created with:\n",
    "  - Graph-aware temporal modeling (using `A_forward` and `A_backward`)\n",
    "  - Diffusion step `K = 3`\n",
    "  - Single DCGRU layer and hidden dimension size of 64\n",
    "- The model is trained for 5 epochs using:\n",
    "  - Adam optimizer with learning rate `1e-3`\n",
    "  - Weighted binary cross-entropy loss (`pos_weight = 4`) to address class imbalance\n",
    "  - FFT-based signal preprocessing (`fft_filtering`) applied consistently\n",
    "\n",
    "After training:\n",
    "- Macro F1 score is computed for each fold.\n",
    "- The function returns the average and standard deviation of F1 scores across folds, capturing both accuracy and stability of the model.\n",
    "\n",
    "This modular setup allows easy experimentation with model architectures, transforms, and training hyperparameters while maintaining evaluation rigor.\n"
   ]
  },
  {
   "cell_type": "code",
   "execution_count": null,
   "id": "1093c223",
   "metadata": {},
   "outputs": [
    {
     "name": "stdout",
     "output_type": "stream",
     "text": [
      "Fold 1/5\n",
      "Fold 1 F1 Score: 0.6398\n",
      "Fold 2/5\n",
      "Fold 2 F1 Score: 0.5215\n",
      "Fold 3/5\n",
      "Fold 3 F1 Score: 0.6061\n",
      "Fold 4/5\n",
      "Fold 4 F1 Score: 0.5573\n",
      "Fold 5/5\n",
      "Fold 5 F1 Score: 0.5867\n",
      "Cross-Validation Average F1 Score: 0.5823\n",
      "Cross-Validation F1 Score Standard Deviation: 0.0405\n"
     ]
    },
    {
     "data": {
      "text/plain": [
       "(np.float64(0.5822807660787992), np.float64(0.040523330184073135))"
      ]
     },
     "execution_count": 16,
     "metadata": {},
     "output_type": "execute_result"
    }
   ],
   "source": [
    "from evaluation import evaluate\n",
    "from pathlib import Path\n",
    "\n",
    "data_path = \"../data\"\n",
    "DATA_ROOT = Path(data_path)\n",
    "clips_tr = pd.read_parquet(DATA_ROOT / \"train/segments.parquet\")\n",
    "\n",
    "class_weight = 4\n",
    "criterion = nn.BCEWithLogitsLoss(pos_weight=torch.FloatTensor([class_weight]).to(device))\n",
    "\n",
    "evaluate(\n",
    "    DCRNN,\n",
    "    clips_tr,\n",
    "    signals_root=DATA_ROOT / \"train\",\n",
    "    num_epochs=5,\n",
    "    learning_rate=1e-3,\n",
    "    model_args={\n",
    "        \"num_nodes\": adj.shape[0],  # number of electrodes\n",
    "        \"input_dim\": 1,\n",
    "        \"hidden_dim\": 64,\n",
    "        \"output_dim\": 1,\n",
    "        \"K\": 3,\n",
    "        \"num_layers\": 1,\n",
    "        \"A_forward\": A_forward,      \n",
    "        \"A_backward\": A_backward       \n",
    "    },\n",
    "    criterion=criterion,\n",
    "    signal_transform=fft_filtering,\n",
    "    batch_size=512,\n",
    "    prefetch=True,\n",
    ")\n"
   ]
  },
  {
   "cell_type": "markdown",
   "id": "090348c2",
   "metadata": {},
   "source": [
    "# Submission\n",
    "\n",
    "### Final Training and Test-Time Inference (DCRNN)\n",
    "\n",
    "After validating the DCRNN model via cross-validation, we retrain it on the entire training dataset to take advantage of all available labeled data.\n",
    "\n",
    "- The same preprocessing (`fft_filtering`), batch size (512), and weighted loss function are used.\n",
    "- The model is trained for 10 epochs using the Adam optimizer with a learning rate of `1e-3`.\n",
    "- Once training is complete, the model’s parameters are saved to `best_model_dcrnn.pth` for later use.\n",
    "\n",
    "#### Inference Phase:\n",
    "- Test clips are loaded and preprocessed using the same configuration as training, with `return_id=True` to collect sample IDs for submission.\n",
    "- The trained model is re-instantiated and its parameters are loaded from the saved `.pth` file.\n",
    "- During inference:\n",
    "  - The model outputs logits for each EEG node.\n",
    "  - These logits are averaged across nodes to produce a single prediction per sample.\n",
    "  - Predictions are thresholded at 0 to match the `BCEWithLogitsLoss` behavior and converted into binary labels.\n",
    "\n",
    "#### Submission:\n",
    "- The predictions are paired with their corresponding IDs and saved in the required format.\n",
    "- The final CSV file, `submission_dcrnn.csv`, contains two columns: `id` and `label`.\n",
    "\n",
    "This process ensures that test-time inference is consistent with training, and that predictions are properly formatted for downstream evaluation or competition submission.\n"
   ]
  },
  {
   "cell_type": "code",
   "execution_count": null,
   "id": "5c635d86",
   "metadata": {},
   "outputs": [
    {
     "name": "stderr",
     "output_type": "stream",
     "text": [
      "Training: 100%|██████████████████████████████████████████████████| 10/10 [07:23<00:00, 44.32s/it]"
     ]
    },
    {
     "name": "stdout",
     "output_type": "stream",
     "text": [
      "Model saved to best_model_dcrnn.pth\n"
     ]
    },
    {
     "name": "stderr",
     "output_type": "stream",
     "text": [
      "\n"
     ]
    }
   ],
   "source": [
    "DATA_ROOT = Path(data_path)\n",
    "clips_tr = pd.read_parquet(DATA_ROOT / \"train/segments.parquet\")\n",
    "\n",
    "dataset_tr = EEGDataset(\n",
    "    clips_tr,\n",
    "    signals_root=DATA_ROOT / \"train\",\n",
    "    signal_transform=fft_filtering,\n",
    "    prefetch=True,\n",
    ")\n",
    "\n",
    "loader_tr = DataLoader(dataset_tr, batch_size=512, shuffle=True)\n",
    "\n",
    "model = DCRNN(\n",
    "    num_nodes=adj.shape[0],\n",
    "    input_dim=1,\n",
    "    hidden_dim=64,\n",
    "    output_dim=1,\n",
    "    K=3,\n",
    "    num_layers=1,\n",
    "    A_forward=A_forward,\n",
    "    A_backward=A_backward\n",
    ").to(device)\n",
    "\n",
    "class_weight = 4\n",
    "criterion = nn.BCEWithLogitsLoss(pos_weight=torch.FloatTensor([class_weight]).to(device))\n",
    "optimizer = torch.optim.Adam(model.parameters(), lr=1e-3)  \n",
    "\n",
    "num_epochs = 10\n",
    "model.train()\n",
    "\n",
    "for epoch in tqdm(range(num_epochs), desc=\"Training\"):\n",
    "    for x_batch, y_batch in loader_tr:\n",
    "        x_batch = x_batch.float().unsqueeze(-1).to(device)   \n",
    "        y_batch = y_batch.float().unsqueeze(-1).to(device)   \n",
    "\n",
    "        optimizer.zero_grad()\n",
    "        logits = model(x_batch)            \n",
    "\n",
    "        loss = criterion(logits, y_batch)\n",
    "        loss.backward()\n",
    "        optimizer.step()\n",
    "\n",
    "# Save model\n",
    "torch.save(model.state_dict(), \"best_model_dcrnn.pth\")\n",
    "print(\"Model saved to best_model_dcrnn.pth\")\n",
    "\n"
   ]
  },
  {
   "cell_type": "code",
   "execution_count": 18,
   "id": "d38dfb9a",
   "metadata": {},
   "outputs": [
    {
     "name": "stdout",
     "output_type": "stream",
     "text": [
      "Submission file saved as submission_dcrnn.csv\n"
     ]
    }
   ],
   "source": [
    "# Load test clips\n",
    "test_clips = pd.read_parquet(DATA_ROOT / \"test/segments.parquet\")\n",
    "\n",
    "# Create test dataset\n",
    "dataset_te = EEGDataset(\n",
    "    test_clips,\n",
    "    signals_root=DATA_ROOT / \"test\",\n",
    "    signal_transform=fft_filtering,\n",
    "    prefetch=True,\n",
    "    return_id=True  # Needed to include sample IDs\n",
    ")\n",
    "\n",
    "# Create DataLoader\n",
    "loader_te = DataLoader(dataset_te, batch_size=512, shuffle=False)\n",
    "\n",
    "model.load_state_dict(torch.load(\"best_model_dcrnn.pth\"))\n",
    "\n",
    "model.eval()\n",
    "\n",
    "# Inference\n",
    "all_predictions = []\n",
    "all_ids = []\n",
    "\n",
    "with torch.no_grad():\n",
    "    for x_batch, ids in loader_te:\n",
    "        x_batch = x_batch.float().unsqueeze(-1).to(device)  \n",
    "\n",
    "        logits = model(x_batch)      \n",
    "        logits = logits.mean(dim=1)  \n",
    "\n",
    "        preds = (logits > 0).int().cpu().numpy()  # Threshold at 0 for BCEWithLogitsLoss\n",
    "        all_predictions.extend(preds.flatten().tolist())\n",
    "        all_ids.extend(ids)\n",
    "\n",
    "# Build submission DataFrame\n",
    "submission_df = pd.DataFrame({\n",
    "    \"id\": all_ids,\n",
    "    \"label\": all_predictions\n",
    "})\n",
    "\n",
    "# Save to CSV\n",
    "submission_df.to_csv(\"submission_dcrnn.csv\", index=False)\n",
    "print(\"Submission file saved as submission_dcrnn.csv\")\n"
   ]
  },
  {
   "cell_type": "code",
   "execution_count": null,
   "id": "a3274850",
   "metadata": {},
   "outputs": [],
   "source": []
  }
 ],
 "metadata": {
  "kernelspec": {
   "display_name": "Python 3 (ipykernel)",
   "language": "python",
   "name": "python3"
  },
  "language_info": {
   "codemirror_mode": {
    "name": "ipython",
    "version": 3
   },
   "file_extension": ".py",
   "mimetype": "text/x-python",
   "name": "python",
   "nbconvert_exporter": "python",
   "pygments_lexer": "ipython3",
   "version": "3.10.4"
  }
 },
 "nbformat": 4,
 "nbformat_minor": 5
}
