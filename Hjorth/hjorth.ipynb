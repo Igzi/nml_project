{
 "cells": [
  {
   "cell_type": "code",
   "execution_count": 1,
   "id": "e012485e",
   "metadata": {},
   "outputs": [],
   "source": [
    "import numpy as np\n",
    "import pandas as pd\n",
    "from scipy.signal import butter, sosfiltfilt, filtfilt # Use filtfilt as in the example, or sosfiltfilt if preferred\n",
    "from sklearn.ensemble import RandomForestClassifier\n",
    "from sklearn.preprocessing import StandardScaler\n",
    "from sklearn.pipeline import Pipeline\n",
    "from sklearn.model_selection import train_test_split # Optional: for local validation\n",
    "from sklearn.metrics import classification_report # Optional: for local validation"
   ]
  },
  {
   "cell_type": "code",
   "execution_count": null,
   "id": "c42ec4e4",
   "metadata": {},
   "outputs": [
    {
     "name": "stdout",
     "output_type": "stream",
     "text": [
      "Loading segment metadata...\n",
      "Loaded 12993 training segments and 3614 test segments.\n",
      "Creating training dataset with Hjorth features...\n"
     ]
    },
    {
     "name": "stdout",
     "output_type": "stream",
     "text": [
      "Creating test dataset with Hjorth features...\n",
      "Loading all data from dataset (12993 samples)...\n"
     ]
    },
    {
     "name": "stderr",
     "output_type": "stream",
     "text": [
      "Loading data: 100%|███████████████████████████████████████████████████████████████████████████████████████████████████████████████████████████████████████████████████████████████████████████████████████████████████████████| 204/204 [00:00<00:00, 639.30it/s]\n"
     ]
    },
    {
     "name": "stdout",
     "output_type": "stream",
     "text": [
      "Loading all data from dataset (3614 samples)...\n"
     ]
    },
    {
     "name": "stderr",
     "output_type": "stream",
     "text": [
      "Loading data: 100%|█████████████████████████████████████████████████████████████████████████████████████████████████████████████████████████████████████████████████████████████████████████████████████████████████████████████| 57/57 [00:00<00:00, 483.01it/s]"
     ]
    },
    {
     "name": "stdout",
     "output_type": "stream",
     "text": [
      "Training data shape: X=(12993, 285), y=12993\n",
      "Test data shape: X=(3614, 285), ids=3614\n"
     ]
    },
    {
     "name": "stderr",
     "output_type": "stream",
     "text": [
      "\n"
     ]
    }
   ],
   "source": [
    "\n",
    "from pathlib import Path\n",
    "from torch.utils.data import DataLoader\n",
    "# The EEGDataset class definition is needed. Assuming it's defined elsewhere\n",
    "# If not, we'll need its definition. For now, assume it exists.\n",
    "from seiz_eeg.dataset import EEGDataset # Placeholder from user example\n",
    "from hjorth_features import create_hjorth_transforms\n",
    "\n",
    "# --- Data Loading and Preparation ---\n",
    "\n",
    "data_path = \"./data\"\n",
    "DATA_ROOT = Path(data_path)\n",
    "\n",
    "if not DATA_ROOT.exists():\n",
    "     print(f\"Error: Data root path does not exist: {DATA_ROOT}\")\n",
    "     print(\"Please ensure the 'data' directory with train/test subfolders is correctly placed.\")\n",
    "     # You might want to stop execution here if data is missing\n",
    "     exit()\n",
    "\n",
    "\n",
    "print(\"Loading segment metadata...\")\n",
    "clips_tr = pd.read_parquet(DATA_ROOT / \"train/segments.parquet\")\n",
    "clips_te = pd.read_parquet(DATA_ROOT / \"test/segments.parquet\")\n",
    "print(f\"Loaded {len(clips_tr)} training segments and {len(clips_te)} test segments.\")\n",
    "\n",
    "\n",
    "# Instantiate the feature extractor\n",
    "hjorth_extractor, _ = create_hjorth_transforms()\n",
    "\n",
    "# Create datasets with the Hjorth feature extractor\n",
    "print(\"Creating training dataset with Hjorth features...\")\n",
    "dataset_tr_hjorth = EEGDataset(\n",
    "    clips_tr,\n",
    "    signals_root=DATA_ROOT / \"train\",\n",
    "    signal_transform=hjorth_extractor,\n",
    "    prefetch=True, # Use prefetch if memory allows, might be slow otherwise\n",
    "    return_id=False # Get labels for training\n",
    ")\n",
    "\n",
    "print(\"Creating test dataset with Hjorth features...\")\n",
    "dataset_te_hjorth = EEGDataset(\n",
    "    clips_te,\n",
    "    signals_root=DATA_ROOT / \"test\",\n",
    "    signal_transform=hjorth_extractor,\n",
    "    prefetch=True,\n",
    "    return_id=True # Get IDs for submission\n",
    ")\n",
    "\n",
    "# Load all data into memory for scikit-learn training\n",
    "# This might take time and memory depending on the dataset size\n",
    "\n",
    "def load_all_data(dataset):\n",
    "    features = []\n",
    "    labels_or_ids = []\n",
    "    print(f\"Loading all data from dataset ({len(dataset)} samples)...\")\n",
    "    # Use DataLoader for potential batching benefits during loading, though batch_size=1 is fine too\n",
    "    loader = DataLoader(dataset, batch_size=64, shuffle=False, num_workers=2) # Adjust batch_size/num_workers\n",
    "\n",
    "    # --- DataLoader Method ---\n",
    "    from tqdm import tqdm\n",
    "    for batch_data, batch_labels_or_ids in tqdm(loader, desc=\"Loading data\"):\n",
    "         # Assuming data is already processed numpy array by dataset\n",
    "         # If data comes as tensors, convert: batch_data.numpy()\n",
    "         features.extend(list(batch_data.numpy())) # Store features as list of numpy arrays\n",
    "         labels_or_ids.extend(list(batch_labels_or_ids)) # Store labels/ids\n",
    "    # --- End DataLoader Method ---\n",
    "\n",
    "\n",
    "    return np.array(features), labels_or_ids # Convert features list to a single large NumPy array\n",
    "\n",
    "\n",
    "X_train, y_train = load_all_data(dataset_tr_hjorth)\n",
    "# Test data returns IDs instead of labels\n",
    "X_test, test_ids = load_all_data(dataset_te_hjorth)\n",
    "\n",
    "# Reshape data to (n_samples, n_features)\n",
    "X_train = X_train.reshape(X_train.shape[0], -1)  # Flatten each sample\n",
    "X_test = X_test.reshape(X_test.shape[0], -1)    # Flatten each sample\n",
    "\n",
    "print(f\"Training data shape: X={X_train.shape}, y={len(y_train)}\")\n",
    "print(f\"Test data shape: X={X_test.shape}, ids={len(test_ids)}\")\n",
    "\n",
    "# Convert y_train list to numpy array for sklearn compatibility\n",
    "y_train = np.array(y_train)\n"
   ]
  },
  {
   "cell_type": "code",
   "execution_count": 20,
   "id": "110fbc08",
   "metadata": {},
   "outputs": [
    {
     "name": "stdout",
     "output_type": "stream",
     "text": [
      "Setting up and training RandomForestClassifier...\n",
      "Training complete.\n"
     ]
    }
   ],
   "source": [
    "# --- Model Training ---\n",
    "\n",
    "print(\"Setting up and training RandomForestClassifier...\")\n",
    "\n",
    "# Create a pipeline with scaling and the classifier\n",
    "# StandardScaler is often recommended for SVM and Logistic Regression,\n",
    "# less critical but can still be beneficial for RandomForest.\n",
    "model_pipeline = Pipeline([\n",
    "    ('scaler', StandardScaler()),\n",
    "    ('classifier', RandomForestClassifier(\n",
    "        n_estimators=200,        # Number of trees\n",
    "        random_state=42,        # For reproducibility\n",
    "        n_jobs=-1,              # Use all available CPU cores\n",
    "        max_depth=20,           # Limit tree depth to prevent overfitting\n",
    "        min_samples_leaf=5,     # Minimum samples per leaf node\n",
    "        class_weight={0: 1, 1: 4} # Adjust for potential class imbalance\n",
    "        ))\n",
    "])\n",
    "\n",
    "# Train the model\n",
    "model_pipeline.fit(X_train, y_train)\n",
    "\n",
    "print(\"Training complete.\")\n",
    "\n"
   ]
  },
  {
   "cell_type": "code",
   "execution_count": 21,
   "id": "28ee0bf2",
   "metadata": {},
   "outputs": [
    {
     "name": "stdout",
     "output_type": "stream",
     "text": [
      "\n",
      "Validation Set Performance:\n",
      "              precision    recall  f1-score   support\n",
      "\n",
      "           0       0.93      0.98      0.96      2096\n",
      "           1       0.91      0.70      0.79       503\n",
      "\n",
      "    accuracy                           0.93      2599\n",
      "   macro avg       0.92      0.84      0.87      2599\n",
      "weighted avg       0.93      0.93      0.92      2599\n",
      "\n"
     ]
    }
   ],
   "source": [
    "X_train_split, X_val, y_train_split, y_val = train_test_split(X_train, y_train, test_size=0.2, random_state=42, stratify=y_train)\n",
    "model_pipeline.fit(X_train_split, y_train_split)\n",
    "y_pred_val = model_pipeline.predict(X_val)\n",
    "print(\"\\nValidation Set Performance:\")\n",
    "print(classification_report(y_val, y_pred_val))"
   ]
  },
  {
   "cell_type": "code",
   "execution_count": 22,
   "id": "aeaa9761",
   "metadata": {},
   "outputs": [
    {
     "name": "stdout",
     "output_type": "stream",
     "text": [
      "Generating predictions on the test set...\n"
     ]
    }
   ],
   "source": [
    "# --- Prediction and Submission ---\n",
    "\n",
    "print(\"Generating predictions on the test set...\")\n",
    "test_predictions = model_pipeline.predict(X_test)"
   ]
  },
  {
   "cell_type": "markdown",
   "id": "a5928b8b",
   "metadata": {},
   "source": [
    "## K-Fold evaluation"
   ]
  },
  {
   "cell_type": "code",
   "execution_count": null,
   "id": "e543ad37",
   "metadata": {},
   "outputs": [
    {
     "name": "stdout",
     "output_type": "stream",
     "text": [
      "Fold 1/5\n",
      "Fold 1 F1 Score: 0.8029\n",
      "Fold 2/5\n",
      "Fold 2 F1 Score: 0.6931\n",
      "Fold 3/5\n",
      "Fold 3 F1 Score: 0.7009\n",
      "Fold 4/5\n",
      "Fold 4 F1 Score: 0.7097\n",
      "Fold 5/5\n",
      "Fold 5 F1 Score: 0.7489\n",
      "Cross-Validation Average F1 Score: 0.7311\n",
      "Cross-Validation F1 Score Standard Deviation: 0.0407\n"
     ]
    }
   ],
   "source": [
    "from evaluation import evaluate_sklearn\n",
    "avg_f1_score, std_f1_score = evaluate_sklearn(\n",
    "    model_pipeline, \n",
    "    clips_tr, \n",
    "    DATA_ROOT / \"train\", \n",
    "    threshold=0.5,\n",
    "    prefetch=True,\n",
    "    signal_transform=hjorth_extractor,\n",
    "    model_args=None,\n",
    "    k_folds=5\n",
    ")"
   ]
  },
  {
   "cell_type": "markdown",
   "id": "20fa4d80",
   "metadata": {},
   "source": [
    "## Submission"
   ]
  },
  {
   "cell_type": "code",
   "execution_count": 23,
   "id": "f5444dc8",
   "metadata": {},
   "outputs": [
    {
     "name": "stdout",
     "output_type": "stream",
     "text": [
      "Applying ID correction...\n",
      "Kaggle submission file generated: submission_hjorth_rf.csv\n"
     ]
    }
   ],
   "source": [
    "# Format for submission\n",
    "# Use the same ID correction function as in the user's example if needed\n",
    "def remove_underlines(s):\n",
    "    return s\n",
    "    s = s.replace(\"___\", \"###\")\n",
    "    s = s.replace(\"_\", \"\")\n",
    "    s = s.replace(\"###\", \"_\")\n",
    "    return s\n",
    "\n",
    "# Correct IDs if necessary (assuming test_ids are strings needing correction)\n",
    "try:\n",
    "    # Check if the first ID looks like it needs correction\n",
    "    if isinstance(test_ids[0], str) and (\"_\" in test_ids[0]):\n",
    "         print(\"Applying ID correction...\")\n",
    "         corrected_ids = [remove_underlines(i) for i in test_ids]\n",
    "    else:\n",
    "         print(\"IDs seem okay, not applying correction.\")\n",
    "         corrected_ids = test_ids # Use original IDs if they seem fine\n",
    "except Exception as e:\n",
    "    print(f\"Warning: Could not process IDs for correction - {e}. Using raw IDs.\")\n",
    "    corrected_ids = test_ids\n",
    "\n",
    "\n",
    "# Create submission DataFrame\n",
    "submission_df = pd.DataFrame({'id': corrected_ids, 'label': test_predictions})\n",
    "\n",
    "# Save submission file\n",
    "submission_filename = \"submission_hjorth_rf.csv\"\n",
    "submission_df.to_csv(submission_filename, index=False)\n",
    "\n",
    "print(f\"Kaggle submission file generated: {submission_filename}\")\n",
    "\n",
    "# --- Optional: Try other models ---\n",
    "# from sklearn.linear_model import LogisticRegression\n",
    "# from sklearn.svm import SVC\n",
    "#\n",
    "# print(\"\\nTraining Logistic Regression...\")\n",
    "# lr_pipeline = Pipeline([('scaler', StandardScaler()), ('classifier', LogisticRegression(random_state=42, max_iter=1000, class_weight='balanced', C=0.1))])\n",
    "# lr_pipeline.fit(X_train, y_train)\n",
    "# print(\"Logistic Regression Training complete.\")\n",
    "# test_predictions_lr = lr_pipeline.predict(X_test)\n",
    "# submission_df_lr = pd.DataFrame({'id': corrected_ids, 'label': test_predictions_lr})\n",
    "# submission_df_lr.to_csv(\"submission_hjorth_lr.csv\", index=False)\n",
    "# print(\"Saved submission_hjorth_lr.csv\")\n",
    "\n",
    "# print(\"\\nTraining SVM...\")\n",
    "# svm_pipeline = Pipeline([('scaler', StandardScaler()), ('classifier', SVC(random_state=42, class_weight='balanced', C=1.0, gamma='scale'))]) # SVC can be slow\n",
    "# svm_pipeline.fit(X_train, y_train)\n",
    "# print(\"SVM Training complete.\")\n",
    "# test_predictions_svm = svm_pipeline.predict(X_test)\n",
    "# submission_df_svm = pd.DataFrame({'id': corrected_ids, 'label': test_predictions_svm})\n",
    "# submission_df_svm.to_csv(\"submission_hjorth_svm.csv\", index=False)\n",
    "# print(\"Saved submission_hjorth_svm.csv\")"
   ]
  }
 ],
 "metadata": {
  "kernelspec": {
   "display_name": "Python 3 (ipykernel)",
   "language": "python",
   "name": "python3"
  },
  "language_info": {
   "codemirror_mode": {
    "name": "ipython",
    "version": 3
   },
   "file_extension": ".py",
   "mimetype": "text/x-python",
   "name": "python",
   "nbconvert_exporter": "python",
   "pygments_lexer": "ipython3",
   "version": "3.10.4"
  }
 },
 "nbformat": 4,
 "nbformat_minor": 5
}
