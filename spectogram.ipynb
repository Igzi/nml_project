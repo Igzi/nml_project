{
 "cells": [
  {
   "cell_type": "code",
   "execution_count": 1,
   "metadata": {},
   "outputs": [],
   "source": [
    "\n",
    "from pathlib import Path\n",
    "\n",
    "import numpy as np\n",
    "import pandas as pd\n",
    "import matplotlib.pyplot as plt\n",
    "\n",
    "\n",
    "\n",
    "from scipy import signal\n",
    "from seiz_eeg.dataset import EEGDataset\n",
    "from sklearn.model_selection import train_test_split\n",
    "\n",
    "# Ensure seiz_eeg is installed before importing\n",
    "\n",
    "\n",
    "import os"
   ]
  },
  {
   "cell_type": "markdown",
   "metadata": {},
   "source": [
    "# The data\n",
    "\n",
    "We model *segments* of brain activity, which correspond to windows of a longer *session* of EEG recording.\n",
    "\n",
    "These segments, and their labels, are described in the `segments.parquet` files, which can be directly loaded with `pandas`."
   ]
  },
  {
   "cell_type": "code",
   "execution_count": 2,
   "metadata": {},
   "outputs": [],
   "source": [
    "# You might need to change this according to where you store the data folder\n",
    "# Inside your data folder, you should have the following structure:\n",
    "# data\n",
    "# ├── train\n",
    "# │   ├── signals/\n",
    "# │   ├── segments.parquet\n",
    "# │-- test\n",
    "#     ├── signals/\n",
    "#     ├── segments.parquet\n",
    "\n",
    "data_path = \"/home/mvukasin/nml_project/data/\"\n",
    "\n",
    "DATA_ROOT = Path(data_path)\n",
    "clips_tr = pd.read_parquet(DATA_ROOT / \"train/segments.parquet\")\n",
    "\n",
    "# Split the dataset by the 'patient' column\n",
    "patients = clips_tr['signals_path'].unique()\n",
    "train_patients, val_patients = train_test_split(patients, test_size=0.2, random_state=42)\n",
    "\n",
    "# Create training and validation datasets\n",
    "train_clips = clips_tr[clips_tr['signals_path'].isin(train_patients)]\n",
    "val_clips = clips_tr[clips_tr['signals_path'].isin(val_patients)]"
   ]
  },
  {
   "cell_type": "code",
   "execution_count": 3,
   "metadata": {},
   "outputs": [
    {
     "data": {
      "text/plain": [
       "((10167, 6), (2826, 6))"
      ]
     },
     "execution_count": 3,
     "metadata": {},
     "output_type": "execute_result"
    }
   ],
   "source": [
    "train_clips.shape, val_clips.shape\n"
   ]
  },
  {
   "cell_type": "markdown",
   "metadata": {},
   "source": [
    "## Loading the signals\n",
    "\n",
    "For convenience, the `EEGDataset class` provides functionality for loading each segment and its label as `numpy` arrays.\n",
    "\n",
    "You can provide an optional `signal_transform` function to preprocess the signals. In the example below, we have two bandpass filtering functions, which extract frequencies between 0.5Hz and 30Hz which are used in seizure analysis literature:\n",
    "\n",
    "The `EEGDataset` class also allows to load all data in memory, instead of reading it from disk at every iteration. If your compute allows it, you can use `prefetch=True`."
   ]
  },
  {
   "cell_type": "code",
   "execution_count": 4,
   "metadata": {},
   "outputs": [],
   "source": [
    "bp_filter = signal.butter(4, (0.5, 30), btype=\"bandpass\", output=\"sos\", fs=250)\n",
    "\n",
    "\n",
    "def time_filtering(x: np.ndarray) -> np.ndarray:\n",
    "    \"\"\"Filter signal in the time domain\"\"\"\n",
    "    return signal.sosfiltfilt(bp_filter, x, axis=0).copy()\n",
    "\n",
    "\n",
    "def fft_filtering(x: np.ndarray) -> np.ndarray:\n",
    "    \"\"\"Compute FFT and only keep\"\"\"\n",
    "    x = np.abs(np.fft.fft(x, axis=0))\n",
    "    x = np.log(np.where(x > 1e-8, x, 1e-8))\n",
    "\n",
    "    win_len = x.shape[0]\n",
    "    # Only frequencies b/w 0.5 and 30Hz\n",
    "    return x[int(0.5 * win_len // 250) : 30 * win_len // 250]"
   ]
  },
  {
   "cell_type": "markdown",
   "metadata": {},
   "source": [
    "## Compatibility with PyTorch\n",
    "\n",
    "The `EEGDataset` class is compatible with [pytorch datasets and dataloaders](https://pytorch.org/tutorials/beginner/basics/data_tutorial.html), which allow you to load batched data."
   ]
  },
  {
   "cell_type": "code",
   "execution_count": 5,
   "metadata": {},
   "outputs": [],
   "source": [
    "# Dependences\n",
    "import os\n",
    "import random\n",
    "\n",
    "import numpy as np\n",
    "import torch\n",
    "import torch.nn as nn\n",
    "import torch.optim as optim\n",
    "from torch.utils.data import DataLoader\n",
    "\n",
    "from tqdm import tqdm"
   ]
  },
  {
   "cell_type": "code",
   "execution_count": 6,
   "metadata": {},
   "outputs": [],
   "source": [
    "def seed_everything(seed: int):\n",
    "    # Python random module\n",
    "    random.seed(seed)\n",
    "    # Numpy random module\n",
    "    np.random.seed(seed)\n",
    "    # Torch random seeds\n",
    "    torch.manual_seed(seed)\n",
    "    torch.cuda.manual_seed(seed)\n",
    "    torch.cuda.manual_seed_all(seed)  # if you are using multi-GPU.\n",
    "\n",
    "    # Set PYTHONHASHSEED environment variable for hash-based operations\n",
    "    os.environ[\"PYTHONHASHSEED\"] = str(seed)\n",
    "\n",
    "    # Ensure deterministic behavior in cudnn (may slow down your training)\n",
    "    torch.backends.cudnn.deterministic = True\n",
    "    torch.backends.cudnn.benchmark = False\n",
    "\n",
    "\n",
    "seed_everything(1)"
   ]
  },
  {
   "cell_type": "code",
   "execution_count": 7,
   "metadata": {},
   "outputs": [],
   "source": [
    "def spectrogram_transform_2d(x: np.ndarray, fs: int = 250, nperseg: int = 64, noverlap: int = 32) -> np.ndarray:\n",
    "    \"\"\"\n",
    "    Compute the log-spectrogram for each channel, output shape: (channels, freq_bins, time_bins)\n",
    "    \"\"\"\n",
    "    x_filt = signal.sosfiltfilt(bp_filter, x, axis=0)\n",
    "    specs = []\n",
    "    for ch in range(x_filt.shape[1]):\n",
    "        f, t, Sxx = signal.spectrogram(x_filt[:, ch], fs=fs, nperseg=nperseg, noverlap=noverlap)\n",
    "        Sxx_log = np.log(Sxx + 1e-8)\n",
    "        specs.append(Sxx_log)\n",
    "    specs = np.stack(specs, axis=0)  # shape: [channels, freq_bins, time_bins]\n",
    "    return specs.astype(np.float32)\n"
   ]
  },
  {
   "cell_type": "code",
   "execution_count": 8,
   "metadata": {},
   "outputs": [],
   "source": [
    "train_dataset = EEGDataset(\n",
    "        train_clips,\n",
    "        signals_root=DATA_ROOT / \"train\",\n",
    "        signal_transform=spectrogram_transform_2d,\n",
    "        prefetch=True,  # If your compute does not allow it, you can use `prefetch=False`\n",
    "    )\n",
    "\n",
    "val_dataset = EEGDataset(\n",
    "        val_clips,\n",
    "        signals_root=DATA_ROOT / \"train\",\n",
    "        signal_transform=spectrogram_transform_2d,\n",
    "        prefetch=True,  # If your compute does not allow it, you can use `prefetch=False`\n",
    "    )\n",
    "\n",
    "loader_tr = DataLoader(train_dataset, batch_size=64, shuffle=True, num_workers=2)\n",
    "loader_val = DataLoader(val_dataset, batch_size=64, shuffle=False, num_workers=2)"
   ]
  },
  {
   "cell_type": "markdown",
   "metadata": {},
   "source": [
    "## Baseline: Spectogram features + CNN\n",
    "The first baseline is a simple CNN model that uses spectrogram features as input. The model is trained on the training set and evaluated on the validation set.\n"
   ]
  },
  {
   "cell_type": "code",
   "execution_count": 9,
   "metadata": {},
   "outputs": [],
   "source": [
    "import torch.nn as nn\n",
    "import torch.nn.functional as F\n",
    "\n",
    "class SimpleEEGCNN(nn.Module):\n",
    "    def __init__(self, num_channels, freq_bins, time_bins):\n",
    "        super(SimpleEEGCNN, self).__init__()\n",
    "        \n",
    "        self.conv_layers = nn.Sequential(\n",
    "            nn.Conv2d(num_channels, 32, kernel_size=3, padding=1),  # [B,32,F,T]\n",
    "            nn.ReLU(),\n",
    "            nn.MaxPool2d(2),  # halve freq/time dims\n",
    "            nn.Conv2d(32, 64, kernel_size=3, padding=1),  # [B,64,F/2,T/2]\n",
    "            nn.ReLU(),\n",
    "            nn.MaxPool2d(2),  # [B,64,F/4,T/4]\n",
    "        )\n",
    "        \n",
    "        # Calculate flattened feature size after conv/pool\n",
    "        fc_input_dim = (freq_bins // 4) * (time_bins // 4) * 64\n",
    "        \n",
    "        self.fc = nn.Sequential(\n",
    "            nn.Flatten(),\n",
    "            nn.Linear(fc_input_dim, 128),\n",
    "            nn.ReLU(),\n",
    "            nn.Dropout(0.3),\n",
    "            nn.Linear(128, 1)  # binary output\n",
    "        )\n",
    "        \n",
    "    def forward(self, x):\n",
    "        x = self.conv_layers(x)\n",
    "        x = self.fc(x)\n",
    "        return x\n"
   ]
  },
  {
   "cell_type": "code",
   "execution_count": 10,
   "metadata": {},
   "outputs": [
    {
     "name": "stdout",
     "output_type": "stream",
     "text": [
      "Using device: cuda\n"
     ]
    }
   ],
   "source": [
    "# Set up device\n",
    "device = torch.device(\"cuda\" if torch.cuda.is_available() else \"cpu\")\n",
    "print(\"Using device:\", device)"
   ]
  },
  {
   "cell_type": "code",
   "execution_count": 11,
   "metadata": {},
   "outputs": [
    {
     "name": "stdout",
     "output_type": "stream",
     "text": [
      "(19, 33, 92)\n"
     ]
    },
    {
     "data": {
      "image/png": "[encoded data removed]",
      "text/plain": [
       "<Figure size 800x400 with 2 Axes>"
      ]
     },
     "metadata": {},
     "output_type": "display_data"
    }
   ],
   "source": [
    "sample = train_dataset[0][0]  # shape: [channels, freq_bins, time_bins]\n",
    "print(sample.shape)  # e.g., torch.Size([19, 33, 15]) or numpy shape (19, 33, 15)\n",
    "\n",
    "num_channels = sample.shape[0]\n",
    "freq_bins = sample.shape[1]\n",
    "time_bins = sample.shape[2]\n",
    "\n",
    "# Plot the spectrogram of the first channel of the first sample\n",
    "\n",
    "sample_x, sample_y = train_dataset[0]  # sample_x shape: [channels, freq_bins, time_bins]\n",
    "plt.figure(figsize=(8, 4))\n",
    "plt.imshow(sample_x[0], aspect='auto', origin='lower', cmap='viridis')\n",
    "plt.colorbar(label='Log Power')\n",
    "plt.title(f\"Spectrogram (Channel 0), Label: {sample_y}\")\n",
    "plt.xlabel(\"Time bins\")\n",
    "plt.ylabel(\"Frequency bins\")\n",
    "plt.show()\n",
    "\n",
    "\n",
    "\n"
   ]
  },
  {
   "cell_type": "code",
   "execution_count": 12,
   "metadata": {},
   "outputs": [],
   "source": [
    "class_weight = 4.0  # Adjust this based on your dataset\n",
    "\n",
    "model = SimpleEEGCNN(num_channels, freq_bins, time_bins).to(device)\n",
    "criterion = nn.BCEWithLogitsLoss(pos_weight=torch.FloatTensor([class_weight]).to(device))\n",
    "optimizer = optim.Adam(model.parameters(), lr=1e-3)"
   ]
  },
  {
   "cell_type": "code",
   "execution_count": 13,
   "metadata": {},
   "outputs": [
    {
     "name": "stderr",
     "output_type": "stream",
     "text": [
      "Training:   1%|█                                                                                                               | 1/100 [00:07<11:56,  7.24s/it]"
     ]
    },
    {
     "name": "stdout",
     "output_type": "stream",
     "text": [
      "Epoch 1/100 — Train Loss: 1.0012 — Val Loss: 0.8676 — Val F1: 0.7125\n"
     ]
    },
    {
     "name": "stderr",
     "output_type": "stream",
     "text": [
      "Training:   2%|██▏                                                                                                             | 2/100 [00:09<07:12,  4.41s/it]"
     ]
    },
    {
     "name": "stdout",
     "output_type": "stream",
     "text": [
      "Epoch 2/100 — Train Loss: 0.7396 — Val Loss: 0.8246 — Val F1: 0.6812\n"
     ]
    },
    {
     "name": "stderr",
     "output_type": "stream",
     "text": [
      "Training:   3%|███▎                                                                                                            | 3/100 [00:12<05:40,  3.51s/it]"
     ]
    },
    {
     "name": "stdout",
     "output_type": "stream",
     "text": [
      "Epoch 3/100 — Train Loss: 0.6601 — Val Loss: 0.8163 — Val F1: 0.6906\n"
     ]
    },
    {
     "name": "stderr",
     "output_type": "stream",
     "text": [
      "Training:   4%|████▍                                                                                                           | 4/100 [00:14<04:55,  3.08s/it]"
     ]
    },
    {
     "name": "stdout",
     "output_type": "stream",
     "text": [
      "Epoch 4/100 — Train Loss: 0.6110 — Val Loss: 0.8303 — Val F1: 0.6956\n"
     ]
    },
    {
     "name": "stderr",
     "output_type": "stream",
     "text": [
      "Training:   5%|█████▌                                                                                                          | 5/100 [00:16<04:30,  2.85s/it]"
     ]
    },
    {
     "name": "stdout",
     "output_type": "stream",
     "text": [
      "Epoch 5/100 — Train Loss: 0.5562 — Val Loss: 0.9020 — Val F1: 0.7172\n"
     ]
    },
    {
     "name": "stderr",
     "output_type": "stream",
     "text": [
      "Training:   6%|██████▋                                                                                                         | 6/100 [00:19<04:14,  2.71s/it]"
     ]
    },
    {
     "name": "stdout",
     "output_type": "stream",
     "text": [
      "Epoch 6/100 — Train Loss: 0.5157 — Val Loss: 0.8449 — Val F1: 0.7402\n"
     ]
    },
    {
     "name": "stderr",
     "output_type": "stream",
     "text": [
      "Training:   7%|███████▊                                                                                                        | 7/100 [00:21<04:04,  2.63s/it]"
     ]
    },
    {
     "name": "stdout",
     "output_type": "stream",
     "text": [
      "Epoch 7/100 — Train Loss: 0.4802 — Val Loss: 0.8741 — Val F1: 0.7359\n"
     ]
    },
    {
     "name": "stderr",
     "output_type": "stream",
     "text": [
      "Training:   8%|████████▉                                                                                                       | 8/100 [00:24<03:56,  2.57s/it]"
     ]
    },
    {
     "name": "stdout",
     "output_type": "stream",
     "text": [
      "Epoch 8/100 — Train Loss: 0.4430 — Val Loss: 0.9940 — Val F1: 0.7354\n"
     ]
    },
    {
     "name": "stderr",
     "output_type": "stream",
     "text": [
      "Training:   9%|██████████                                                                                                      | 9/100 [00:26<03:50,  2.53s/it]"
     ]
    },
    {
     "name": "stdout",
     "output_type": "stream",
     "text": [
      "Epoch 9/100 — Train Loss: 0.4228 — Val Loss: 0.8253 — Val F1: 0.7105\n"
     ]
    },
    {
     "name": "stderr",
     "output_type": "stream",
     "text": [
      "Training:  10%|███████████                                                                                                    | 10/100 [00:29<03:45,  2.50s/it]"
     ]
    },
    {
     "name": "stdout",
     "output_type": "stream",
     "text": [
      "Epoch 10/100 — Train Loss: 0.3873 — Val Loss: 1.0329 — Val F1: 0.7218\n"
     ]
    },
    {
     "name": "stderr",
     "output_type": "stream",
     "text": [
      "Training:  11%|████████████▏                                                                                                  | 11/100 [00:31<03:40,  2.48s/it]"
     ]
    },
    {
     "name": "stdout",
     "output_type": "stream",
     "text": [
      "Epoch 11/100 — Train Loss: 0.3580 — Val Loss: 0.9486 — Val F1: 0.7320\n"
     ]
    },
    {
     "name": "stderr",
     "output_type": "stream",
     "text": [
      "Training:  12%|█████████████▎                                                                                                 | 12/100 [00:34<03:37,  2.47s/it]"
     ]
    },
    {
     "name": "stdout",
     "output_type": "stream",
     "text": [
      "Epoch 12/100 — Train Loss: 0.3316 — Val Loss: 0.8735 — Val F1: 0.7261\n"
     ]
    },
    {
     "name": "stderr",
     "output_type": "stream",
     "text": [
      "Training:  13%|██████████████▍                                                                                                | 13/100 [00:36<03:34,  2.46s/it]"
     ]
    },
    {
     "name": "stdout",
     "output_type": "stream",
     "text": [
      "Epoch 13/100 — Train Loss: 0.2939 — Val Loss: 1.1752 — Val F1: 0.6288\n"
     ]
    },
    {
     "name": "stderr",
     "output_type": "stream",
     "text": [
      "Training:  14%|███████████████▌                                                                                               | 14/100 [00:38<03:31,  2.46s/it]"
     ]
    },
    {
     "name": "stdout",
     "output_type": "stream",
     "text": [
      "Epoch 14/100 — Train Loss: 0.2844 — Val Loss: 1.2187 — Val F1: 0.7144\n"
     ]
    },
    {
     "name": "stderr",
     "output_type": "stream",
     "text": [
      "Training:  15%|████████████████▋                                                                                              | 15/100 [00:41<03:29,  2.46s/it]"
     ]
    },
    {
     "name": "stdout",
     "output_type": "stream",
     "text": [
      "Epoch 15/100 — Train Loss: 0.2536 — Val Loss: 1.3398 — Val F1: 0.7336\n"
     ]
    },
    {
     "name": "stderr",
     "output_type": "stream",
     "text": [
      "Training:  16%|█████████████████▊                                                                                             | 16/100 [00:43<03:26,  2.45s/it]"
     ]
    },
    {
     "name": "stdout",
     "output_type": "stream",
     "text": [
      "Epoch 16/100 — Train Loss: 0.2383 — Val Loss: 1.2978 — Val F1: 0.7194\n"
     ]
    },
    {
     "name": "stderr",
     "output_type": "stream",
     "text": [
      "Training:  17%|██████████████████▊                                                                                            | 17/100 [00:46<03:22,  2.44s/it]"
     ]
    },
    {
     "name": "stdout",
     "output_type": "stream",
     "text": [
      "Epoch 17/100 — Train Loss: 0.2112 — Val Loss: 1.3197 — Val F1: 0.6996\n"
     ]
    },
    {
     "name": "stderr",
     "output_type": "stream",
     "text": [
      "Training:  18%|███████████████████▉                                                                                           | 18/100 [00:48<03:19,  2.44s/it]"
     ]
    },
    {
     "name": "stdout",
     "output_type": "stream",
     "text": [
      "Epoch 18/100 — Train Loss: 0.2050 — Val Loss: 1.4357 — Val F1: 0.7301\n"
     ]
    },
    {
     "name": "stderr",
     "output_type": "stream",
     "text": [
      "Training:  19%|█████████████████████                                                                                          | 19/100 [00:51<03:17,  2.44s/it]"
     ]
    },
    {
     "name": "stdout",
     "output_type": "stream",
     "text": [
      "Epoch 19/100 — Train Loss: 0.1500 — Val Loss: 1.5429 — Val F1: 0.7283\n"
     ]
    },
    {
     "name": "stderr",
     "output_type": "stream",
     "text": [
      "Training:  20%|██████████████████████▏                                                                                        | 20/100 [00:53<03:14,  2.43s/it]"
     ]
    },
    {
     "name": "stdout",
     "output_type": "stream",
     "text": [
      "Epoch 20/100 — Train Loss: 0.1743 — Val Loss: 1.9159 — Val F1: 0.7027\n"
     ]
    },
    {
     "name": "stderr",
     "output_type": "stream",
     "text": [
      "Training:  21%|███████████████████████▎                                                                                       | 21/100 [00:55<03:11,  2.43s/it]"
     ]
    },
    {
     "name": "stdout",
     "output_type": "stream",
     "text": [
      "Epoch 21/100 — Train Loss: 0.1417 — Val Loss: 2.3041 — Val F1: 0.7135\n"
     ]
    },
    {
     "name": "stderr",
     "output_type": "stream",
     "text": [
      "Training:  22%|████████████████████████▍                                                                                      | 22/100 [00:58<03:09,  2.42s/it]"
     ]
    },
    {
     "name": "stdout",
     "output_type": "stream",
     "text": [
      "Epoch 22/100 — Train Loss: 0.1191 — Val Loss: 1.7667 — Val F1: 0.7124\n"
     ]
    },
    {
     "name": "stderr",
     "output_type": "stream",
     "text": [
      "Training:  23%|█████████████████████████▌                                                                                     | 23/100 [01:00<03:06,  2.42s/it]"
     ]
    },
    {
     "name": "stdout",
     "output_type": "stream",
     "text": [
      "Epoch 23/100 — Train Loss: 0.1083 — Val Loss: 3.4888 — Val F1: 0.6895\n"
     ]
    },
    {
     "name": "stderr",
     "output_type": "stream",
     "text": [
      "Training:  24%|██████████████████████████▋                                                                                    | 24/100 [01:03<03:03,  2.42s/it]"
     ]
    },
    {
     "name": "stdout",
     "output_type": "stream",
     "text": [
      "Epoch 24/100 — Train Loss: 0.1020 — Val Loss: 2.4325 — Val F1: 0.7357\n"
     ]
    },
    {
     "name": "stderr",
     "output_type": "stream",
     "text": [
      "Training:  25%|███████████████████████████▊                                                                                   | 25/100 [01:05<03:01,  2.42s/it]"
     ]
    },
    {
     "name": "stdout",
     "output_type": "stream",
     "text": [
      "Epoch 25/100 — Train Loss: 0.0918 — Val Loss: 2.3596 — Val F1: 0.7248\n"
     ]
    },
    {
     "name": "stderr",
     "output_type": "stream",
     "text": [
      "Training:  26%|████████████████████████████▊                                                                                  | 26/100 [01:08<02:58,  2.41s/it]"
     ]
    },
    {
     "name": "stdout",
     "output_type": "stream",
     "text": [
      "Epoch 26/100 — Train Loss: 0.1213 — Val Loss: 2.8463 — Val F1: 0.6925\n"
     ]
    },
    {
     "name": "stderr",
     "output_type": "stream",
     "text": [
      "Training:  27%|█████████████████████████████▉                                                                                 | 27/100 [01:10<02:55,  2.41s/it]"
     ]
    },
    {
     "name": "stdout",
     "output_type": "stream",
     "text": [
      "Epoch 27/100 — Train Loss: 0.0946 — Val Loss: 2.2792 — Val F1: 0.7383\n"
     ]
    },
    {
     "name": "stderr",
     "output_type": "stream",
     "text": [
      "Training:  28%|███████████████████████████████                                                                                | 28/100 [01:12<02:53,  2.41s/it]"
     ]
    },
    {
     "name": "stdout",
     "output_type": "stream",
     "text": [
      "Epoch 28/100 — Train Loss: 0.0878 — Val Loss: 2.9702 — Val F1: 0.7446\n"
     ]
    },
    {
     "name": "stderr",
     "output_type": "stream",
     "text": [
      "Training:  29%|████████████████████████████████▏                                                                              | 29/100 [01:15<02:51,  2.41s/it]"
     ]
    },
    {
     "name": "stdout",
     "output_type": "stream",
     "text": [
      "Epoch 29/100 — Train Loss: 0.0800 — Val Loss: 2.1608 — Val F1: 0.7307\n"
     ]
    },
    {
     "name": "stderr",
     "output_type": "stream",
     "text": [
      "Training:  30%|█████████████████████████████████▎                                                                             | 30/100 [01:17<02:48,  2.41s/it]"
     ]
    },
    {
     "name": "stdout",
     "output_type": "stream",
     "text": [
      "Epoch 30/100 — Train Loss: 0.0904 — Val Loss: 3.1068 — Val F1: 0.7300\n"
     ]
    },
    {
     "name": "stderr",
     "output_type": "stream",
     "text": [
      "Training:  31%|██████████████████████████████████▍                                                                            | 31/100 [01:20<02:46,  2.42s/it]"
     ]
    },
    {
     "name": "stdout",
     "output_type": "stream",
     "text": [
      "Epoch 31/100 — Train Loss: 0.0832 — Val Loss: 2.6328 — Val F1: 0.7271\n"
     ]
    },
    {
     "name": "stderr",
     "output_type": "stream",
     "text": [
      "Training:  32%|███████████████████████████████████▌                                                                           | 32/100 [01:22<02:44,  2.42s/it]"
     ]
    },
    {
     "name": "stdout",
     "output_type": "stream",
     "text": [
      "Epoch 32/100 — Train Loss: 0.0842 — Val Loss: 2.7113 — Val F1: 0.7234\n"
     ]
    },
    {
     "name": "stderr",
     "output_type": "stream",
     "text": [
      "Training:  33%|████████████████████████████████████▋                                                                          | 33/100 [01:24<02:42,  2.42s/it]"
     ]
    },
    {
     "name": "stdout",
     "output_type": "stream",
     "text": [
      "Epoch 33/100 — Train Loss: 0.0802 — Val Loss: 3.5182 — Val F1: 0.7155\n"
     ]
    },
    {
     "name": "stderr",
     "output_type": "stream",
     "text": [
      "Training:  34%|█████████████████████████████████████▋                                                                         | 34/100 [01:27<02:39,  2.42s/it]"
     ]
    },
    {
     "name": "stdout",
     "output_type": "stream",
     "text": [
      "Epoch 34/100 — Train Loss: 0.0516 — Val Loss: 3.0426 — Val F1: 0.7256\n"
     ]
    },
    {
     "name": "stderr",
     "output_type": "stream",
     "text": [
      "Training:  35%|██████████████████████████████████████▊                                                                        | 35/100 [01:29<02:38,  2.43s/it]"
     ]
    },
    {
     "name": "stdout",
     "output_type": "stream",
     "text": [
      "Epoch 35/100 — Train Loss: 0.0493 — Val Loss: 2.7140 — Val F1: 0.7252\n"
     ]
    },
    {
     "name": "stderr",
     "output_type": "stream",
     "text": [
      "Training:  36%|███████████████████████████████████████▉                                                                       | 36/100 [01:32<02:36,  2.44s/it]"
     ]
    },
    {
     "name": "stdout",
     "output_type": "stream",
     "text": [
      "Epoch 36/100 — Train Loss: 0.0321 — Val Loss: 3.0534 — Val F1: 0.7343\n"
     ]
    },
    {
     "name": "stderr",
     "output_type": "stream",
     "text": [
      "Training:  37%|█████████████████████████████████████████                                                                      | 37/100 [01:34<02:33,  2.44s/it]"
     ]
    },
    {
     "name": "stdout",
     "output_type": "stream",
     "text": [
      "Epoch 37/100 — Train Loss: 0.0351 — Val Loss: 3.8072 — Val F1: 0.7171\n"
     ]
    },
    {
     "name": "stderr",
     "output_type": "stream",
     "text": [
      "Training:  38%|██████████████████████████████████████████▏                                                                    | 38/100 [01:37<02:31,  2.44s/it]"
     ]
    },
    {
     "name": "stdout",
     "output_type": "stream",
     "text": [
      "Epoch 38/100 — Train Loss: 0.0462 — Val Loss: 4.2144 — Val F1: 0.7084\n"
     ]
    },
    {
     "name": "stderr",
     "output_type": "stream",
     "text": [
      "Training:  39%|███████████████████████████████████████████▎                                                                   | 39/100 [01:39<02:28,  2.43s/it]"
     ]
    },
    {
     "name": "stdout",
     "output_type": "stream",
     "text": [
      "Epoch 39/100 — Train Loss: 0.0309 — Val Loss: 3.8152 — Val F1: 0.7275\n"
     ]
    },
    {
     "name": "stderr",
     "output_type": "stream",
     "text": [
      "Training:  40%|████████████████████████████████████████████▍                                                                  | 40/100 [01:42<02:25,  2.43s/it]"
     ]
    },
    {
     "name": "stdout",
     "output_type": "stream",
     "text": [
      "Epoch 40/100 — Train Loss: 0.1090 — Val Loss: 2.3811 — Val F1: 0.6828\n"
     ]
    },
    {
     "name": "stderr",
     "output_type": "stream",
     "text": [
      "Training:  41%|█████████████████████████████████████████████▌                                                                 | 41/100 [01:44<02:22,  2.42s/it]"
     ]
    },
    {
     "name": "stdout",
     "output_type": "stream",
     "text": [
      "Epoch 41/100 — Train Loss: 0.0722 — Val Loss: 3.6558 — Val F1: 0.7208\n"
     ]
    },
    {
     "name": "stderr",
     "output_type": "stream",
     "text": [
      "Training:  42%|██████████████████████████████████████████████▌                                                                | 42/100 [01:46<02:19,  2.41s/it]"
     ]
    },
    {
     "name": "stdout",
     "output_type": "stream",
     "text": [
      "Epoch 42/100 — Train Loss: 0.0218 — Val Loss: 3.4991 — Val F1: 0.7246\n"
     ]
    },
    {
     "name": "stderr",
     "output_type": "stream",
     "text": [
      "Training:  43%|███████████████████████████████████████████████▋                                                               | 43/100 [01:49<02:17,  2.41s/it]"
     ]
    },
    {
     "name": "stdout",
     "output_type": "stream",
     "text": [
      "Epoch 43/100 — Train Loss: 0.0544 — Val Loss: 4.4064 — Val F1: 0.7228\n"
     ]
    },
    {
     "name": "stderr",
     "output_type": "stream",
     "text": [
      "Training:  44%|████████████████████████████████████████████████▊                                                              | 44/100 [01:51<02:15,  2.41s/it]"
     ]
    },
    {
     "name": "stdout",
     "output_type": "stream",
     "text": [
      "Epoch 44/100 — Train Loss: 0.0364 — Val Loss: 3.8654 — Val F1: 0.7364\n"
     ]
    },
    {
     "name": "stderr",
     "output_type": "stream",
     "text": [
      "Training:  45%|█████████████████████████████████████████████████▉                                                             | 45/100 [01:54<02:13,  2.42s/it]"
     ]
    },
    {
     "name": "stdout",
     "output_type": "stream",
     "text": [
      "Epoch 45/100 — Train Loss: 0.0542 — Val Loss: 3.2610 — Val F1: 0.7394\n"
     ]
    },
    {
     "name": "stderr",
     "output_type": "stream",
     "text": [
      "Training:  46%|███████████████████████████████████████████████████                                                            | 46/100 [01:56<02:11,  2.43s/it]"
     ]
    },
    {
     "name": "stdout",
     "output_type": "stream",
     "text": [
      "Epoch 46/100 — Train Loss: 0.0385 — Val Loss: 4.3260 — Val F1: 0.7223\n"
     ]
    },
    {
     "name": "stderr",
     "output_type": "stream",
     "text": [
      "Training:  47%|████████████████████████████████████████████████████▏                                                          | 47/100 [01:58<02:09,  2.43s/it]"
     ]
    },
    {
     "name": "stdout",
     "output_type": "stream",
     "text": [
      "Epoch 47/100 — Train Loss: 0.0321 — Val Loss: 4.1367 — Val F1: 0.7164\n"
     ]
    },
    {
     "name": "stderr",
     "output_type": "stream",
     "text": [
      "Training:  48%|█████████████████████████████████████████████████████▎                                                         | 48/100 [02:01<02:06,  2.43s/it]"
     ]
    },
    {
     "name": "stdout",
     "output_type": "stream",
     "text": [
      "Epoch 48/100 — Train Loss: 0.0168 — Val Loss: 4.3273 — Val F1: 0.7328\n"
     ]
    },
    {
     "name": "stderr",
     "output_type": "stream",
     "text": [
      "Training:  49%|██████████████████████████████████████████████████████▍                                                        | 49/100 [02:03<02:03,  2.43s/it]"
     ]
    },
    {
     "name": "stdout",
     "output_type": "stream",
     "text": [
      "Epoch 49/100 — Train Loss: 0.0131 — Val Loss: 4.4327 — Val F1: 0.7310\n"
     ]
    },
    {
     "name": "stderr",
     "output_type": "stream",
     "text": [
      "Training:  50%|███████████████████████████████████████████████████████▌                                                       | 50/100 [02:06<02:01,  2.43s/it]"
     ]
    },
    {
     "name": "stdout",
     "output_type": "stream",
     "text": [
      "Epoch 50/100 — Train Loss: 0.0177 — Val Loss: 4.3181 — Val F1: 0.7242\n"
     ]
    },
    {
     "name": "stderr",
     "output_type": "stream",
     "text": [
      "Training:  51%|████████████████████████████████████████████████████████▌                                                      | 51/100 [02:08<01:58,  2.43s/it]"
     ]
    },
    {
     "name": "stdout",
     "output_type": "stream",
     "text": [
      "Epoch 51/100 — Train Loss: 0.0933 — Val Loss: 3.9676 — Val F1: 0.7248\n"
     ]
    },
    {
     "name": "stderr",
     "output_type": "stream",
     "text": [
      "Training:  52%|█████████████████████████████████████████████████████████▋                                                     | 52/100 [02:11<01:56,  2.42s/it]"
     ]
    },
    {
     "name": "stdout",
     "output_type": "stream",
     "text": [
      "Epoch 52/100 — Train Loss: 0.0623 — Val Loss: 4.1862 — Val F1: 0.7376\n"
     ]
    },
    {
     "name": "stderr",
     "output_type": "stream",
     "text": [
      "Training:  53%|██████████████████████████████████████████████████████████▊                                                    | 53/100 [02:13<01:53,  2.42s/it]"
     ]
    },
    {
     "name": "stdout",
     "output_type": "stream",
     "text": [
      "Epoch 53/100 — Train Loss: 0.0202 — Val Loss: 4.2167 — Val F1: 0.7216\n"
     ]
    },
    {
     "name": "stderr",
     "output_type": "stream",
     "text": [
      "Training:  54%|███████████████████████████████████████████████████████████▉                                                   | 54/100 [02:15<01:51,  2.42s/it]"
     ]
    },
    {
     "name": "stdout",
     "output_type": "stream",
     "text": [
      "Epoch 54/100 — Train Loss: 0.0509 — Val Loss: 4.6926 — Val F1: 0.7052\n"
     ]
    },
    {
     "name": "stderr",
     "output_type": "stream",
     "text": [
      "Training:  55%|█████████████████████████████████████████████████████████████                                                  | 55/100 [02:18<01:48,  2.41s/it]"
     ]
    },
    {
     "name": "stdout",
     "output_type": "stream",
     "text": [
      "Epoch 55/100 — Train Loss: 0.1532 — Val Loss: 3.3616 — Val F1: 0.6955\n"
     ]
    },
    {
     "name": "stderr",
     "output_type": "stream",
     "text": [
      "Training:  56%|██████████████████████████████████████████████████████████████▏                                                | 56/100 [02:20<01:46,  2.42s/it]"
     ]
    },
    {
     "name": "stdout",
     "output_type": "stream",
     "text": [
      "Epoch 56/100 — Train Loss: 0.0679 — Val Loss: 3.1012 — Val F1: 0.7031\n"
     ]
    },
    {
     "name": "stderr",
     "output_type": "stream",
     "text": [
      "Training:  57%|███████████████████████████████████████████████████████████████▎                                               | 57/100 [02:23<01:43,  2.42s/it]"
     ]
    },
    {
     "name": "stdout",
     "output_type": "stream",
     "text": [
      "Epoch 57/100 — Train Loss: 0.0500 — Val Loss: 3.9738 — Val F1: 0.7184\n"
     ]
    },
    {
     "name": "stderr",
     "output_type": "stream",
     "text": [
      "Training:  58%|████████████████████████████████████████████████████████████████▍                                              | 58/100 [02:25<01:41,  2.42s/it]"
     ]
    },
    {
     "name": "stdout",
     "output_type": "stream",
     "text": [
      "Epoch 58/100 — Train Loss: 0.0205 — Val Loss: 4.1131 — Val F1: 0.7259\n"
     ]
    },
    {
     "name": "stderr",
     "output_type": "stream",
     "text": [
      "Training:  59%|█████████████████████████████████████████████████████████████████▍                                             | 59/100 [02:27<01:39,  2.42s/it]"
     ]
    },
    {
     "name": "stdout",
     "output_type": "stream",
     "text": [
      "Epoch 59/100 — Train Loss: 0.0239 — Val Loss: 4.4991 — Val F1: 0.7312\n"
     ]
    },
    {
     "name": "stderr",
     "output_type": "stream",
     "text": [
      "Training:  60%|██████████████████████████████████████████████████████████████████▌                                            | 60/100 [02:30<01:37,  2.43s/it]"
     ]
    },
    {
     "name": "stdout",
     "output_type": "stream",
     "text": [
      "Epoch 60/100 — Train Loss: 0.0145 — Val Loss: 4.2664 — Val F1: 0.7460\n"
     ]
    },
    {
     "name": "stderr",
     "output_type": "stream",
     "text": [
      "Training:  61%|███████████████████████████████████████████████████████████████████▋                                           | 61/100 [02:32<01:34,  2.42s/it]"
     ]
    },
    {
     "name": "stdout",
     "output_type": "stream",
     "text": [
      "Epoch 61/100 — Train Loss: 0.0076 — Val Loss: 5.0275 — Val F1: 0.7311\n"
     ]
    },
    {
     "name": "stderr",
     "output_type": "stream",
     "text": [
      "Training:  62%|████████████████████████████████████████████████████████████████████▊                                          | 62/100 [02:35<01:31,  2.42s/it]"
     ]
    },
    {
     "name": "stdout",
     "output_type": "stream",
     "text": [
      "Epoch 62/100 — Train Loss: 0.0047 — Val Loss: 5.9209 — Val F1: 0.7149\n"
     ]
    },
    {
     "name": "stderr",
     "output_type": "stream",
     "text": [
      "Training:  63%|█████████████████████████████████████████████████████████████████████▉                                         | 63/100 [02:37<01:29,  2.42s/it]"
     ]
    },
    {
     "name": "stdout",
     "output_type": "stream",
     "text": [
      "Epoch 63/100 — Train Loss: 0.0388 — Val Loss: 4.0662 — Val F1: 0.6721\n"
     ]
    },
    {
     "name": "stderr",
     "output_type": "stream",
     "text": [
      "Training:  64%|███████████████████████████████████████████████████████████████████████                                        | 64/100 [02:40<01:26,  2.41s/it]"
     ]
    },
    {
     "name": "stdout",
     "output_type": "stream",
     "text": [
      "Epoch 64/100 — Train Loss: 0.1730 — Val Loss: 3.7367 — Val F1: 0.7226\n"
     ]
    },
    {
     "name": "stderr",
     "output_type": "stream",
     "text": [
      "Training:  65%|████████████████████████████████████████████████████████████████████████▏                                      | 65/100 [02:42<01:24,  2.41s/it]"
     ]
    },
    {
     "name": "stdout",
     "output_type": "stream",
     "text": [
      "Epoch 65/100 — Train Loss: 0.0249 — Val Loss: 4.2178 — Val F1: 0.7266\n"
     ]
    },
    {
     "name": "stderr",
     "output_type": "stream",
     "text": [
      "Training:  66%|█████████████████████████████████████████████████████████████████████████▎                                     | 66/100 [02:44<01:22,  2.41s/it]"
     ]
    },
    {
     "name": "stdout",
     "output_type": "stream",
     "text": [
      "Epoch 66/100 — Train Loss: 0.0170 — Val Loss: 4.8602 — Val F1: 0.7237\n"
     ]
    },
    {
     "name": "stderr",
     "output_type": "stream",
     "text": [
      "Training:  67%|██████████████████████████████████████████████████████████████████████████▎                                    | 67/100 [02:47<01:19,  2.42s/it]"
     ]
    },
    {
     "name": "stdout",
     "output_type": "stream",
     "text": [
      "Epoch 67/100 — Train Loss: 0.0146 — Val Loss: 4.1529 — Val F1: 0.7332\n"
     ]
    },
    {
     "name": "stderr",
     "output_type": "stream",
     "text": [
      "Training:  68%|███████████████████████████████████████████████████████████████████████████▍                                   | 68/100 [02:49<01:17,  2.42s/it]"
     ]
    },
    {
     "name": "stdout",
     "output_type": "stream",
     "text": [
      "Epoch 68/100 — Train Loss: 0.0188 — Val Loss: 4.9270 — Val F1: 0.7154\n"
     ]
    },
    {
     "name": "stderr",
     "output_type": "stream",
     "text": [
      "Training:  69%|████████████████████████████████████████████████████████████████████████████▌                                  | 69/100 [02:52<01:15,  2.42s/it]"
     ]
    },
    {
     "name": "stdout",
     "output_type": "stream",
     "text": [
      "Epoch 69/100 — Train Loss: 0.0478 — Val Loss: 5.0945 — Val F1: 0.7095\n"
     ]
    },
    {
     "name": "stderr",
     "output_type": "stream",
     "text": [
      "Training:  70%|█████████████████████████████████████████████████████████████████████████████▋                                 | 70/100 [02:54<01:12,  2.41s/it]"
     ]
    },
    {
     "name": "stdout",
     "output_type": "stream",
     "text": [
      "Epoch 70/100 — Train Loss: 0.0365 — Val Loss: 3.6152 — Val F1: 0.7057\n"
     ]
    },
    {
     "name": "stderr",
     "output_type": "stream",
     "text": [
      "Training:  71%|██████████████████████████████████████████████████████████████████████████████▊                                | 71/100 [02:56<01:10,  2.41s/it]"
     ]
    },
    {
     "name": "stdout",
     "output_type": "stream",
     "text": [
      "Epoch 71/100 — Train Loss: 0.0185 — Val Loss: 3.8469 — Val F1: 0.7317\n"
     ]
    },
    {
     "name": "stderr",
     "output_type": "stream",
     "text": [
      "Training:  72%|███████████████████████████████████████████████████████████████████████████████▉                               | 72/100 [02:59<01:07,  2.43s/it]"
     ]
    },
    {
     "name": "stdout",
     "output_type": "stream",
     "text": [
      "Epoch 72/100 — Train Loss: 0.1066 — Val Loss: 2.8669 — Val F1: 0.6933\n"
     ]
    },
    {
     "name": "stderr",
     "output_type": "stream",
     "text": [
      "Training:  73%|█████████████████████████████████████████████████████████████████████████████████                              | 73/100 [03:01<01:05,  2.43s/it]"
     ]
    },
    {
     "name": "stdout",
     "output_type": "stream",
     "text": [
      "Epoch 73/100 — Train Loss: 0.0528 — Val Loss: 2.7586 — Val F1: 0.7227\n"
     ]
    },
    {
     "name": "stderr",
     "output_type": "stream",
     "text": [
      "Training:  74%|██████████████████████████████████████████████████████████████████████████████████▏                            | 74/100 [03:04<01:03,  2.44s/it]"
     ]
    },
    {
     "name": "stdout",
     "output_type": "stream",
     "text": [
      "Epoch 74/100 — Train Loss: 0.0345 — Val Loss: 3.7497 — Val F1: 0.7263\n"
     ]
    },
    {
     "name": "stderr",
     "output_type": "stream",
     "text": [
      "Training:  75%|███████████████████████████████████████████████████████████████████████████████████▎                           | 75/100 [03:06<01:00,  2.44s/it]"
     ]
    },
    {
     "name": "stdout",
     "output_type": "stream",
     "text": [
      "Epoch 75/100 — Train Loss: 0.0174 — Val Loss: 4.9218 — Val F1: 0.7207\n"
     ]
    },
    {
     "name": "stderr",
     "output_type": "stream",
     "text": [
      "Training:  76%|████████████████████████████████████████████████████████████████████████████████████▎                          | 76/100 [03:09<00:58,  2.43s/it]"
     ]
    },
    {
     "name": "stdout",
     "output_type": "stream",
     "text": [
      "Epoch 76/100 — Train Loss: 0.0089 — Val Loss: 5.3925 — Val F1: 0.7246\n"
     ]
    },
    {
     "name": "stderr",
     "output_type": "stream",
     "text": [
      "Training:  77%|█████████████████████████████████████████████████████████████████████████████████████▍                         | 77/100 [03:11<00:55,  2.43s/it]"
     ]
    },
    {
     "name": "stdout",
     "output_type": "stream",
     "text": [
      "Epoch 77/100 — Train Loss: 0.0197 — Val Loss: 4.8857 — Val F1: 0.7320\n"
     ]
    },
    {
     "name": "stderr",
     "output_type": "stream",
     "text": [
      "Training:  78%|██████████████████████████████████████████████████████████████████████████████████████▌                        | 78/100 [03:14<00:53,  2.43s/it]"
     ]
    },
    {
     "name": "stdout",
     "output_type": "stream",
     "text": [
      "Epoch 78/100 — Train Loss: 0.0121 — Val Loss: 6.0093 — Val F1: 0.7180\n"
     ]
    },
    {
     "name": "stderr",
     "output_type": "stream",
     "text": [
      "Training:  79%|███████████████████████████████████████████████████████████████████████████████████████▋                       | 79/100 [03:16<00:51,  2.43s/it]"
     ]
    },
    {
     "name": "stdout",
     "output_type": "stream",
     "text": [
      "Epoch 79/100 — Train Loss: 0.0087 — Val Loss: 5.6378 — Val F1: 0.7355\n"
     ]
    },
    {
     "name": "stderr",
     "output_type": "stream",
     "text": [
      "Training:  80%|████████████████████████████████████████████████████████████████████████████████████████▊                      | 80/100 [03:18<00:48,  2.42s/it]"
     ]
    },
    {
     "name": "stdout",
     "output_type": "stream",
     "text": [
      "Epoch 80/100 — Train Loss: 0.0131 — Val Loss: 5.8458 — Val F1: 0.7194\n"
     ]
    },
    {
     "name": "stderr",
     "output_type": "stream",
     "text": [
      "Training:  81%|█████████████████████████████████████████████████████████████████████████████████████████▉                     | 81/100 [03:21<00:46,  2.42s/it]"
     ]
    },
    {
     "name": "stdout",
     "output_type": "stream",
     "text": [
      "Epoch 81/100 — Train Loss: 0.0133 — Val Loss: 5.3781 — Val F1: 0.7160\n"
     ]
    },
    {
     "name": "stderr",
     "output_type": "stream",
     "text": [
      "Training:  82%|███████████████████████████████████████████████████████████████████████████████████████████                    | 82/100 [03:23<00:43,  2.42s/it]"
     ]
    },
    {
     "name": "stdout",
     "output_type": "stream",
     "text": [
      "Epoch 82/100 — Train Loss: 0.0329 — Val Loss: 5.0275 — Val F1: 0.7205\n"
     ]
    },
    {
     "name": "stderr",
     "output_type": "stream",
     "text": [
      "Training:  83%|████████████████████████████████████████████████████████████████████████████████████████████▏                  | 83/100 [03:26<00:41,  2.42s/it]"
     ]
    },
    {
     "name": "stdout",
     "output_type": "stream",
     "text": [
      "Epoch 83/100 — Train Loss: 0.0751 — Val Loss: 3.9279 — Val F1: 0.7073\n"
     ]
    },
    {
     "name": "stderr",
     "output_type": "stream",
     "text": [
      "Training:  84%|█████████████████████████████████████████████████████████████████████████████████████████████▏                 | 84/100 [03:28<00:38,  2.43s/it]"
     ]
    },
    {
     "name": "stdout",
     "output_type": "stream",
     "text": [
      "Epoch 84/100 — Train Loss: 0.0190 — Val Loss: 4.3980 — Val F1: 0.7337\n"
     ]
    },
    {
     "name": "stderr",
     "output_type": "stream",
     "text": [
      "Training:  85%|██████████████████████████████████████████████████████████████████████████████████████████████▎                | 85/100 [03:31<00:36,  2.42s/it]"
     ]
    },
    {
     "name": "stdout",
     "output_type": "stream",
     "text": [
      "Epoch 85/100 — Train Loss: 0.0112 — Val Loss: 4.6084 — Val F1: 0.7227\n"
     ]
    },
    {
     "name": "stderr",
     "output_type": "stream",
     "text": [
      "Training:  86%|███████████████████████████████████████████████████████████████████████████████████████████████▍               | 86/100 [03:33<00:34,  2.43s/it]"
     ]
    },
    {
     "name": "stdout",
     "output_type": "stream",
     "text": [
      "Epoch 86/100 — Train Loss: 0.0082 — Val Loss: 5.1824 — Val F1: 0.7501\n"
     ]
    },
    {
     "name": "stderr",
     "output_type": "stream",
     "text": [
      "Training:  87%|████████████████████████████████████████████████████████████████████████████████████████████████▌              | 87/100 [03:35<00:31,  2.42s/it]"
     ]
    },
    {
     "name": "stdout",
     "output_type": "stream",
     "text": [
      "Epoch 87/100 — Train Loss: 0.0048 — Val Loss: 4.7337 — Val F1: 0.7321\n"
     ]
    },
    {
     "name": "stderr",
     "output_type": "stream",
     "text": [
      "Training:  88%|█████████████████████████████████████████████████████████████████████████████████████████████████▋             | 88/100 [03:38<00:29,  2.43s/it]"
     ]
    },
    {
     "name": "stdout",
     "output_type": "stream",
     "text": [
      "Epoch 88/100 — Train Loss: 0.0219 — Val Loss: 4.7770 — Val F1: 0.7428\n"
     ]
    },
    {
     "name": "stderr",
     "output_type": "stream",
     "text": [
      "Training:  89%|██████████████████████████████████████████████████████████████████████████████████████████████████▊            | 89/100 [03:40<00:26,  2.43s/it]"
     ]
    },
    {
     "name": "stdout",
     "output_type": "stream",
     "text": [
      "Epoch 89/100 — Train Loss: 0.0556 — Val Loss: 3.9108 — Val F1: 0.7131\n"
     ]
    },
    {
     "name": "stderr",
     "output_type": "stream",
     "text": [
      "Training:  90%|███████████████████████████████████████████████████████████████████████████████████████████████████▉           | 90/100 [03:43<00:24,  2.43s/it]"
     ]
    },
    {
     "name": "stdout",
     "output_type": "stream",
     "text": [
      "Epoch 90/100 — Train Loss: 0.0236 — Val Loss: 5.1948 — Val F1: 0.7302\n"
     ]
    },
    {
     "name": "stderr",
     "output_type": "stream",
     "text": [
      "Training:  91%|█████████████████████████████████████████████████████████████████████████████████████████████████████          | 91/100 [03:45<00:21,  2.43s/it]"
     ]
    },
    {
     "name": "stdout",
     "output_type": "stream",
     "text": [
      "Epoch 91/100 — Train Loss: 0.0094 — Val Loss: 5.0607 — Val F1: 0.7400\n"
     ]
    },
    {
     "name": "stderr",
     "output_type": "stream",
     "text": [
      "Training:  92%|██████████████████████████████████████████████████████████████████████████████████████████████████████         | 92/100 [03:47<00:19,  2.42s/it]"
     ]
    },
    {
     "name": "stdout",
     "output_type": "stream",
     "text": [
      "Epoch 92/100 — Train Loss: 0.0059 — Val Loss: 5.3768 — Val F1: 0.7329\n"
     ]
    },
    {
     "name": "stderr",
     "output_type": "stream",
     "text": [
      "Training:  93%|███████████████████████████████████████████████████████████████████████████████████████████████████████▏       | 93/100 [03:50<00:16,  2.43s/it]"
     ]
    },
    {
     "name": "stdout",
     "output_type": "stream",
     "text": [
      "Epoch 93/100 — Train Loss: 0.0040 — Val Loss: 4.5941 — Val F1: 0.7108\n"
     ]
    },
    {
     "name": "stderr",
     "output_type": "stream",
     "text": [
      "Training:  94%|████████████████████████████████████████████████████████████████████████████████████████████████████████▎      | 94/100 [03:52<00:14,  2.44s/it]"
     ]
    },
    {
     "name": "stdout",
     "output_type": "stream",
     "text": [
      "Epoch 94/100 — Train Loss: 0.0934 — Val Loss: 2.7169 — Val F1: 0.6886\n"
     ]
    },
    {
     "name": "stderr",
     "output_type": "stream",
     "text": [
      "Training:  95%|█████████████████████████████████████████████████████████████████████████████████████████████████████████▍     | 95/100 [03:55<00:12,  2.43s/it]"
     ]
    },
    {
     "name": "stdout",
     "output_type": "stream",
     "text": [
      "Epoch 95/100 — Train Loss: 0.0744 — Val Loss: 2.9593 — Val F1: 0.7418\n"
     ]
    },
    {
     "name": "stderr",
     "output_type": "stream",
     "text": [
      "Training:  96%|██████████████████████████████████████████████████████████████████████████████████████████████████████████▌    | 96/100 [03:57<00:09,  2.44s/it]"
     ]
    },
    {
     "name": "stdout",
     "output_type": "stream",
     "text": [
      "Epoch 96/100 — Train Loss: 0.0226 — Val Loss: 3.8211 — Val F1: 0.7133\n"
     ]
    },
    {
     "name": "stderr",
     "output_type": "stream",
     "text": [
      "Training:  97%|███████████████████████████████████████████████████████████████████████████████████████████████████████████▋   | 97/100 [04:00<00:07,  2.43s/it]"
     ]
    },
    {
     "name": "stdout",
     "output_type": "stream",
     "text": [
      "Epoch 97/100 — Train Loss: 0.0096 — Val Loss: 5.3439 — Val F1: 0.7467\n"
     ]
    },
    {
     "name": "stderr",
     "output_type": "stream",
     "text": [
      "Training:  98%|████████████████████████████████████████████████████████████████████████████████████████████████████████████▊  | 98/100 [04:02<00:04,  2.43s/it]"
     ]
    },
    {
     "name": "stdout",
     "output_type": "stream",
     "text": [
      "Epoch 98/100 — Train Loss: 0.0246 — Val Loss: 4.6937 — Val F1: 0.7298\n"
     ]
    },
    {
     "name": "stderr",
     "output_type": "stream",
     "text": [
      "Training:  99%|█████████████████████████████████████████████████████████████████████████████████████████████████████████████▉ | 99/100 [04:05<00:02,  2.42s/it]"
     ]
    },
    {
     "name": "stdout",
     "output_type": "stream",
     "text": [
      "Epoch 99/100 — Train Loss: 0.0635 — Val Loss: 4.1912 — Val F1: 0.7171\n"
     ]
    },
    {
     "name": "stderr",
     "output_type": "stream",
     "text": [
      "Training: 100%|██████████████████████████████████████████████████████████████████████████████████████████████████████████████| 100/100 [04:07<00:00,  2.47s/it]"
     ]
    },
    {
     "name": "stdout",
     "output_type": "stream",
     "text": [
      "Epoch 100/100 — Train Loss: 0.0207 — Val Loss: 3.9366 — Val F1: 0.7177\n"
     ]
    },
    {
     "name": "stderr",
     "output_type": "stream",
     "text": [
      "\n"
     ]
    }
   ],
   "source": [
    "from sklearn.metrics import f1_score\n",
    "from tqdm import tqdm  # For progress bar\n",
    "\n",
    "num_epochs = 100\n",
    "train_losses = []\n",
    "val_losses = []\n",
    "val_f1_scores = []\n",
    "\n",
    "for epoch in tqdm(range(num_epochs), desc=\"Training\"):\n",
    "    model.train()\n",
    "    running_loss = 0.0\n",
    "\n",
    "    for x_batch, y_batch in loader_tr:\n",
    "        x_batch = x_batch.float().to(device)  # [B, C, F, T]\n",
    "        y_batch = y_batch.float().unsqueeze(1).to(device)  # [B, 1]\n",
    "\n",
    "        optimizer.zero_grad()\n",
    "        logits = model(x_batch)\n",
    "        loss = criterion(logits, y_batch)\n",
    "        loss.backward()\n",
    "        optimizer.step()\n",
    "\n",
    "        running_loss += loss.item() * x_batch.size(0)\n",
    "\n",
    "    avg_loss = running_loss / len(loader_tr.dataset)\n",
    "    train_losses.append(avg_loss)\n",
    "\n",
    "    model.eval()\n",
    "    val_running_loss = 0.0\n",
    "    all_labels = []\n",
    "    all_preds = []\n",
    "\n",
    "    with torch.no_grad():\n",
    "        for x_val, y_val in loader_val:\n",
    "            x_val = x_val.float().to(device)  # [B, C, F, T]\n",
    "            y_val = y_val.float().unsqueeze(1).to(device)  # [B, 1]\n",
    "\n",
    "            val_logits = model(x_val)\n",
    "            val_loss = criterion(val_logits, y_val)\n",
    "            val_running_loss += val_loss.item() * x_val.size(0)\n",
    "\n",
    "            val_probs = torch.sigmoid(val_logits)\n",
    "            val_preds = (val_probs > 0.5).int()\n",
    "\n",
    "            all_labels.extend(y_val.cpu().numpy())\n",
    "            all_preds.extend(val_preds.cpu().numpy())\n",
    "\n",
    "    avg_val_loss = val_running_loss / len(loader_val.dataset)\n",
    "    val_losses.append(avg_val_loss)\n",
    "\n",
    "    val_f1 = f1_score(all_labels, all_preds, average=\"macro\")\n",
    "    val_f1_scores.append(val_f1)\n",
    "\n",
    "    print(f\"Epoch {epoch+1}/{num_epochs} — Train Loss: {avg_loss:.4f} — Val Loss: {avg_val_loss:.4f} — Val F1: {val_f1:.4f}\")\n"
   ]
  },
  {
   "cell_type": "code",
   "execution_count": null,
   "metadata": {},
   "outputs": [
    {
     "data": {
      "image/png": "[encoded data removed]",
      "text/plain": [
       "<Figure size 600x400 with 1 Axes>"
      ]
     },
     "metadata": {},
     "output_type": "display_data"
    }
   ],
   "source": [
    "# Plot the training loss\n",
    "import matplotlib.pyplot as plt\n",
    "\n",
    "plt.figure(figsize=(6, 4))\n",
    "plt.plot(range(1, num_epochs + 1), train_losses, marker=\"o\")\n",
    "plt.plot(range(1, num_epochs + 1), val_losses, marker=\"o\")\n",
    "plt.plot(range(1, num_epochs + 1), val_f1_scores, marker=\"o\")\n",
    "plt.title(\"Loss Over Epochs\")\n",
    "plt.legend([\"Train\", \"Validation\", \"Validation F1 Score\"])\n",
    "plt.xlabel(\"Epoch\")\n",
    "plt.ylabel(\"Loss\")\n",
    "plt.grid(True)\n",
    "plt.show()"
   ]
  },
  {
   "cell_type": "code",
   "execution_count": null,
   "metadata": {},
   "outputs": [
    {
     "name": "stdout",
     "output_type": "stream",
     "text": [
      "              precision    recall  f1-score   support\n",
      "\n",
      "  No Seizure       0.93      0.88      0.90      2321\n",
      "     Seizure       0.55      0.69      0.61       505\n",
      "\n",
      "    accuracy                           0.84      2826\n",
      "   macro avg       0.74      0.78      0.76      2826\n",
      "weighted avg       0.86      0.84      0.85      2826\n",
      "\n"
     ]
    }
   ],
   "source": [
    "# classification report on the validation set\n",
    "\n",
    "from sklearn.metrics import classification_report\n",
    "from sklearn.metrics import confusion_matrix\n",
    "import seaborn as sns\n",
    "import matplotlib.pyplot as plt\n",
    "\n",
    "# Get the predictions and labels\n",
    "y_true = np.array(all_labels)\n",
    "y_pred = np.array(all_preds)\n",
    "# Print the classification report\n",
    "print(classification_report(y_true, y_pred, target_names=[\"No Seizure\", \"Seizure\"]))\n",
    "\n"
   ]
  },
  {
   "cell_type": "markdown",
   "metadata": {},
   "source": [
    "# Submission"
   ]
  },
  {
   "cell_type": "code",
   "execution_count": null,
   "metadata": {},
   "outputs": [],
   "source": [
    "test_clips = pd.read_parquet(DATA_ROOT / \"test/segments.parquet\")"
   ]
  },
  {
   "cell_type": "code",
   "execution_count": null,
   "metadata": {},
   "outputs": [],
   "source": [
    "# Create test dataset\n",
    "dataset_te = EEGDataset(\n",
    "    test_clips,\n",
    "    signals_root=DATA_ROOT / \"test\",\n",
    "    signal_transform=spectrogram_transform_2d,  # Use the same transform\n",
    "    prefetch=True,\n",
    "    return_id=True,\n",
    ")\n",
    "\n",
    "# Create DataLoader for the test dataset\n",
    "loader_te = DataLoader(dataset_te, batch_size=512, shuffle=False)"
   ]
  },
  {
   "cell_type": "code",
   "execution_count": null,
   "metadata": {},
   "outputs": [
    {
     "name": "stdout",
     "output_type": "stream",
     "text": [
      "Kaggle submission file generated: submission.csv\n"
     ]
    }
   ],
   "source": [
    "# Generate the submission file for Kaggle\n",
    "\n",
    "# Set the model to evaluation mode\n",
    "model.eval()\n",
    "\n",
    "# Lists to store sample IDs and predictions\n",
    "all_predictions = []\n",
    "all_ids = []\n",
    "\n",
    "# Disable gradient computation for inference\n",
    "with torch.no_grad():\n",
    "    for batch in loader_te:\n",
    "        # Assume each batch returns a tuple (x_batch, sample_id)\n",
    "        # If your dataset does not provide IDs, you can generate them based on the batch index.\n",
    "        x_batch, x_ids = batch\n",
    "\n",
    "        # Move the input data to the device (GPU or CPU)\n",
    "        x_batch = x_batch.float().to(device)\n",
    "\n",
    "        # Perform the forward pass to get the model's output logits\n",
    "        logits = model(x_batch)\n",
    "\n",
    "        # Convert logits to predictions.\n",
    "        # For binary classification, threshold logits at 0 (adjust this if you use softmax or multi-class).\n",
    "        predictions = (logits > 0).int().cpu().numpy()\n",
    "\n",
    "        # Append predictions and corresponding IDs to the lists\n",
    "        all_predictions.extend(predictions.flatten().tolist())\n",
    "        all_ids.extend(list(x_ids))\n",
    "\n",
    "# Create a DataFrame for Kaggle submission with the required format: \"id,label\"\n",
    "submission_df = pd.DataFrame({\"id\": all_ids, \"label\": all_predictions})\n",
    "\n",
    "# Save the DataFrame to a CSV file without an index\n",
    "submission_df.to_csv(\"submission_seed2.csv\", index=False)\n",
    "print(\"Kaggle submission file generated: submission.csv\")"
   ]
  },
  {
   "cell_type": "code",
   "execution_count": null,
   "metadata": {},
   "outputs": [],
   "source": []
  }
 ],
 "metadata": {
  "kernelspec": {
   "display_name": "Python (venv-for-demo)",
   "language": "python",
   "name": "venv-for-demo"
  },
  "language_info": {
   "codemirror_mode": {
    "name": "ipython",
    "version": 3
   },
   "file_extension": ".py",
   "mimetype": "text/x-python",
   "name": "python",
   "nbconvert_exporter": "python",
   "pygments_lexer": "ipython3",
   "version": "3.10.4"
  }
 },
 "nbformat": 4,
 "nbformat_minor": 2
}
