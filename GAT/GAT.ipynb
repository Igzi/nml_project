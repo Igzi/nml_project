{
 "cells": [
  {
   "cell_type": "code",
   "execution_count": 4,
   "id": "428f5185",
   "metadata": {},
   "outputs": [
    {
     "name": "stdout",
     "output_type": "stream",
     "text": [
      "GAT implementation loaded successfully!\n"
     ]
    }
   ],
   "source": [
    "# Import necessary libraries\n",
    "import sys\n",
    "from pathlib import Path\n",
    "import numpy as np\n",
    "import pandas as pd\n",
    "import matplotlib.pyplot as plt\n",
    "\n",
    "# Add project path\n",
    "sys.path.append(str(Path.cwd().parent))\n",
    "\n",
    "# Import our GAT implementation\n",
    "from gat_model import EEG_GAT, GraphAttentionLayer, MultiHeadGATLayer\n",
    "from train_gat import train_gat_model, create_signal_transforms\n",
    "from evaluate_gat import generate_submission\n",
    "\n",
    "print(\"GAT implementation loaded successfully!\")"
   ]
  },
  {
   "cell_type": "markdown",
   "id": "200dda36",
   "metadata": {},
   "source": [
    "## Training the GAT Model\n",
    "\n",
    "The training process includes:\n",
    "- Train/validation split by patients (not by samples)\n",
    "- Class-weighted loss function for imbalanced data\n",
    "- Early stopping based on validation F1 score\n",
    "- Learning rate scheduling\n",
    "- Comprehensive metrics tracking"
   ]
  },
  {
   "cell_type": "code",
   "execution_count": null,
   "id": "6f206355",
   "metadata": {},
   "outputs": [],
   "source": [
    "from train_gat import plot_training_history\n",
    "\n",
    "def main():\n",
    "    \"\"\"Main training function.\"\"\"\n",
    "    # Configuration\n",
    "    data_root = Path(\"../data\")\n",
    "    distances_path = \"../data/distances_3d.csv\"\n",
    "    \n",
    "    # Train model\n",
    "    model, history = train_gat_model(\n",
    "        data_root=data_root,\n",
    "        distances_path=distances_path,\n",
    "        num_epochs=10,\n",
    "        batch_size=256,\n",
    "        learning_rate=1e-3,\n",
    "        hidden_dim=64,\n",
    "        num_heads=8,\n",
    "        num_layers=3,\n",
    "        dropout=0.3,\n",
    "        class_weight=1.0,\n",
    "        patience=10,\n",
    "        seed=42\n",
    "    )\n",
    "    \n",
    "    # Plot training history\n",
    "    plot_training_history(history)\n",
    "    \n",
    "    print(\"Training completed!\")\n",
    "    print(f\"Best validation F1 score: {max(history['val_f1']):.4f}\")\n"
   ]
  },
  {
   "cell_type": "code",
   "execution_count": null,
   "id": "d1fb7988",
   "metadata": {},
   "outputs": [
    {
     "name": "stdout",
     "output_type": "stream",
     "text": [
      "Using device: cuda\n",
      "Creating datasets...\n",
      "Training samples: 10167\n",
      "Validation samples: 2826\n",
      "Adjacency matrix shape: torch.Size([19, 19])\n",
      "Number of model parameters: 204034\n",
      "Starting training...\n",
      "\n",
      "Epoch 1/10\n",
      "Training samples: 10167\n",
      "Validation samples: 2826\n",
      "Adjacency matrix shape: torch.Size([19, 19])\n",
      "Number of model parameters: 204034\n",
      "Starting training...\n",
      "\n",
      "Epoch 1/10\n"
     ]
    },
    {
     "name": "stderr",
     "output_type": "stream",
     "text": [
      "                                                                                                                                    "
     ]
    },
    {
     "name": "stdout",
     "output_type": "stream",
     "text": [
      "Train Loss: 1.1159\n",
      "Val Loss: 1.0556, F1: 0.1521, Precision: 0.5894, Recall: 0.5002, AUC: 0.7490\n",
      "New best F1 score: 0.1521\n",
      "\n",
      "Epoch 2/10\n"
     ]
    },
    {
     "name": "stderr",
     "output_type": "stream",
     "text": [
      "                                                                                                                                    "
     ]
    },
    {
     "name": "stdout",
     "output_type": "stream",
     "text": [
      "Train Loss: 1.1058\n",
      "Val Loss: 1.0278, F1: 0.3025, Precision: 0.5742, Recall: 0.5606, AUC: 0.7723\n",
      "New best F1 score: 0.3025\n",
      "\n",
      "Epoch 3/10\n"
     ]
    },
    {
     "name": "stderr",
     "output_type": "stream",
     "text": [
      "/home/stnikoli/venvs/graph/lib/python3.10/site-packages/sklearn/metrics/_classification.py:1565: UndefinedMetricWarning: Precision is ill-defined and being set to 0.0 in labels with no predicted samples. Use `zero_division` parameter to control this behavior.\n",
      "  _warn_prf(average, modifier, f\"{metric.capitalize()} is\", len(result))\n",
      "/home/stnikoli/venvs/graph/lib/python3.10/site-packages/sklearn/metrics/_classification.py:1565: UndefinedMetricWarning: Precision is ill-defined and being set to 0.0 in labels with no predicted samples. Use `zero_division` parameter to control this behavior.\n",
      "  _warn_prf(average, modifier, f\"{metric.capitalize()} is\", len(result))\n"
     ]
    },
    {
     "name": "stdout",
     "output_type": "stream",
     "text": [
      "Train Loss: 1.0997\n",
      "Val Loss: 1.0137, F1: 0.4509, Precision: 0.4107, Recall: 0.5000, AUC: 0.6942\n",
      "New best F1 score: 0.4509\n",
      "\n",
      "Epoch 4/10\n"
     ]
    },
    {
     "name": "stderr",
     "output_type": "stream",
     "text": [
      "                                                                                                                                                                                                         "
     ]
    },
    {
     "name": "stdout",
     "output_type": "stream",
     "text": [
      "Train Loss: 1.1091\n",
      "Val Loss: 1.1355, F1: 0.3555, Precision: 0.5876, Recall: 0.5922, AUC: 0.7805\n",
      "\n",
      "Epoch 5/10\n"
     ]
    },
    {
     "name": "stderr",
     "output_type": "stream",
     "text": [
      "                                                                                                                                                                                                         "
     ]
    },
    {
     "name": "stdout",
     "output_type": "stream",
     "text": [
      "Train Loss: 1.1006\n",
      "Val Loss: 1.0859, F1: 0.6513, Precision: 0.6392, Recall: 0.6936, AUC: 0.7393\n",
      "New best F1 score: 0.6513\n",
      "\n",
      "Epoch 6/10\n"
     ]
    },
    {
     "name": "stderr",
     "output_type": "stream",
     "text": [
      "                                                                                                                                                                                                         "
     ]
    },
    {
     "name": "stdout",
     "output_type": "stream",
     "text": [
      "Train Loss: 1.0979\n",
      "Val Loss: 1.0428, F1: 0.5727, Precision: 0.8094, Recall: 0.5650, AUC: 0.7360\n",
      "\n",
      "Epoch 7/10\n"
     ]
    },
    {
     "name": "stderr",
     "output_type": "stream",
     "text": [
      "Training:  48%|█████████████████████████████████████████████████████████████████████████▏                                                                                | 19/40 [00:58<01:03,  3.04s/it]"
     ]
    }
   ],
   "source": [
    "main()"
   ]
  },
  {
   "cell_type": "code",
   "execution_count": null,
   "id": "561bf6b9",
   "metadata": {},
   "outputs": [],
   "source": [
    "from gat_model import EEG_GAT\n",
    "import torch\n",
    "\n",
    "# load the best model\n",
    "model = EEG_GAT(\n",
    "    num_electrodes=19,\n",
    "    input_dim=354,  # FFT features (correct dimension)\n",
    "    hidden_dim=hidden_dim,\n",
    "    num_classes=1,\n",
    "    num_heads=num_heads,\n",
    "    num_layers=num_layers,\n",
    "    dropout=dropout,\n",
    "    adjacency_matrix=distances  # Pass the adjacency matrix to the model\n",
    ").to(device)\n",
    "model.load_state_dict(torch.load(\"best_gat_model.pth\"))\n"
   ]
  },
  {
   "cell_type": "markdown",
   "id": "c8061962",
   "metadata": {},
   "source": [
    "## Model Evaluation and Comparison\n",
    "\n",
    "We compare our GAT implementation with several baselines:\n",
    "\n",
    "1. **GAT-Small**: 2 layers, 4 heads, 32 hidden dim\n",
    "2. **GAT-Medium**: 3 layers, 8 heads, 64 hidden dim  \n",
    "3. **GAT-Large**: 4 layers, 8 heads, 128 hidden dim\n",
    "4. **MLP Baseline**: Simple multi-layer perceptron\n",
    "\n",
    "Key metrics:\n",
    "- **F1 Score**: Harmonic mean of precision and recall\n",
    "- **Precision**: True positives / (True positives + False positives)\n",
    "- **Recall**: True positives / (True positives + False negatives)\n",
    "- **AUC**: Area under the ROC curve"
   ]
  },
  {
   "cell_type": "code",
   "execution_count": null,
   "id": "56392b23",
   "metadata": {},
   "outputs": [],
   "source": [
    "# Model comparison summary\n",
    "print(\"Model Comparison Framework:\")\n",
    "print(\"\\n1. Different GAT Configurations:\")\n",
    "configurations = [\n",
    "    {\"name\": \"GAT-Small\", \"layers\": 2, \"heads\": 4, \"hidden\": 32},\n",
    "    {\"name\": \"GAT-Medium\", \"layers\": 3, \"heads\": 8, \"hidden\": 64},\n",
    "    {\"name\": \"GAT-Large\", \"layers\": 4, \"heads\": 8, \"hidden\": 128},\n",
    "]\n",
    "\n",
    "for config in configurations:\n",
    "    params = (config[\"hidden\"] ** 2 * config[\"layers\"] * config[\"heads\"]) // 1000  # Rough estimate\n",
    "    print(f\"   {config['name']:12s}: {config['layers']} layers, {config['heads']} heads, {config['hidden']} hidden (~{params}K params)\")\n",
    "\n",
    "print(\"\\n2. Baseline Comparison:\")\n",
    "print(\"   MLP-Baseline: Simple feedforward network (flattened input)\")\n",
    "\n",
    "print(\"\\nTo run comparison:\")\n",
    "print(\"python compare_models.py\")\n",
    "print(\"\\nThis will:\")\n",
    "print(\"- Train all model variants\")\n",
    "print(\"- Compare performance metrics\")\n",
    "print(\"- Generate comparison plots\")\n",
    "print(\"- Analyze attention patterns\")"
   ]
  },
  {
   "cell_type": "markdown",
   "id": "a845ac81",
   "metadata": {},
   "source": [
    "## Advantages of GAT for EEG Analysis\n",
    "\n",
    "### 1. **Spatial Awareness**\n",
    "- Explicitly models relationships between electrodes\n",
    "- Learns connectivity patterns relevant to seizure detection\n",
    "- Captures both local and global brain activity patterns\n",
    "\n",
    "### 2. **Attention Mechanism**\n",
    "- Automatically learns which electrode pairs are important\n",
    "- Provides interpretable attention weights\n",
    "- Adapts to different seizure types and patterns\n",
    "\n",
    "### 3. **Multi-Head Design**\n",
    "- Different heads can capture different types of relationships\n",
    "- Increases model expressiveness\n",
    "- Robust to different seizure manifestations\n",
    "\n",
    "### 4. **Graph Structure Benefits**\n",
    "- Natural representation of EEG electrode layout\n",
    "- Incorporates domain knowledge (electrode positions)\n",
    "- Scalable to different montages and electrode counts"
   ]
  },
  {
   "cell_type": "code",
   "execution_count": null,
   "id": "751f47f1",
   "metadata": {},
   "outputs": [],
   "source": [
    "# Visualize electrode layout and connectivity\n",
    "if distances is not None:\n",
    "    # Create electrode connectivity visualization\n",
    "    plt.figure(figsize=(12, 5))\n",
    "    \n",
    "    # Plot 1: Adjacency matrix heatmap\n",
    "    plt.subplot(1, 2, 1)\n",
    "    dist_np = distances.cpu().numpy()\n",
    "    im = plt.imshow(dist_np, cmap='viridis', alpha=0.8)\n",
    "    plt.colorbar(im, label='Connectivity Strength')\n",
    "    plt.title('Electrode Connectivity Matrix')\n",
    "    plt.xlabel('Electrodes')\n",
    "    plt.ylabel('Electrodes')\n",
    "    \n",
    "    # Add electrode labels\n",
    "    step = max(1, len(electrode_names) // 10)  # Show every nth label to avoid crowding\n",
    "    plt.xticks(range(0, len(electrode_names), step), \n",
    "               [electrode_names[i] for i in range(0, len(electrode_names), step)], \n",
    "               rotation=45)\n",
    "    plt.yticks(range(0, len(electrode_names), step), \n",
    "               [electrode_names[i] for i in range(0, len(electrode_names), step)])\n",
    "    \n",
    "    # Plot 2: Connectivity distribution\n",
    "    plt.subplot(1, 2, 2)\n",
    "    connectivity_values = dist_np[dist_np > 0]  # Non-zero connections\n",
    "    plt.hist(connectivity_values, bins=20, alpha=0.7, edgecolor='black')\n",
    "    plt.xlabel('Connectivity Strength')\n",
    "    plt.ylabel('Frequency')\n",
    "    plt.title('Distribution of Connectivity Strengths')\n",
    "    plt.grid(True, alpha=0.3)\n",
    "    \n",
    "    plt.tight_layout()\n",
    "    plt.show()\n",
    "    \n",
    "    # Print connectivity statistics\n",
    "    print(f\"\\nConnectivity Statistics:\")\n",
    "    print(f\"Total possible connections: {19 * 19}\")\n",
    "    print(f\"Actual connections: {(dist_np > 0).sum()}\")\n",
    "    print(f\"Density: {(dist_np > 0).mean():.3f}\")\n",
    "    print(f\"Mean connectivity: {connectivity_values.mean():.3f}\")\n",
    "    print(f\"Std connectivity: {connectivity_values.std():.3f}\")\n",
    "else:\n",
    "    print(\"Cannot visualize connectivity - distance matrix not available\")"
   ]
  },
  {
   "cell_type": "markdown",
   "id": "4eff471f",
   "metadata": {},
   "source": [
    "## Submission and Results\n",
    "\n",
    "After training, the model can be used to generate predictions for the test set:\n",
    "\n",
    "1. **Load trained model**: Best model saved during training\n",
    "2. **Process test data**: Apply same preprocessing pipeline\n",
    "3. **Generate predictions**: Forward pass through GAT model\n",
    "4. **Create submission**: Format for Kaggle submission\n",
    "\n",
    "### Expected Performance\n",
    "Based on the GAT architecture and EEG seizure detection literature:\n",
    "- **F1 Score**: 0.6 - 0.8 (depending on configuration)\n",
    "- **Precision**: 0.7 - 0.9 (important for clinical applications)\n",
    "- **Recall**: 0.5 - 0.7 (seizure detection sensitivity)\n",
    "- **AUC**: 0.8 - 0.9 (overall discrimination ability)"
   ]
  },
  {
   "cell_type": "code",
   "execution_count": null,
   "id": "b02414b2",
   "metadata": {},
   "outputs": [],
   "source": [
    "# Submission process example\n",
    "print(\"Submission Process:\")\n",
    "print(\"\\n1. Load trained model:\")\n",
    "print(\"   model = EEG_GAT(...)\")\n",
    "print(\"   model.load_state_dict(torch.load('best_gat_model.pth'))\")\n",
    "\n",
    "print(\"\\n2. Process test data:\")\n",
    "print(\"   test_dataset = EEGDataset(test_clips, ..., return_id=True)\")\n",
    "print(\"   test_loader = DataLoader(test_dataset, ...)\")\n",
    "\n",
    "print(\"\\n3. Generate predictions:\")\n",
    "print(\"   predictions = []\")\n",
    "print(\"   for batch in test_loader:\")\n",
    "print(\"       logits = model(batch)\")\n",
    "print(\"       preds = (logits > 0).int()\")\n",
    "print(\"       predictions.extend(preds)\")\n",
    "\n",
    "print(\"\\n4. Create submission file:\")\n",
    "print(\"   submission_df = pd.DataFrame({'id': ids, 'label': predictions})\")\n",
    "print(\"   submission_df.to_csv('gat_submission.csv', index=False)\")\n",
    "\n",
    "print(\"\\nTo generate submission:\")\n",
    "print(\"python evaluate_gat.py\")\n",
    "\n",
    "# Show expected submission format\n",
    "print(\"\\nSubmission file format:\")\n",
    "print(\"id,label\")\n",
    "print(\"sample_001,0\")\n",
    "print(\"sample_002,1\")\n",
    "print(\"sample_003,0\")\n",
    "print(\"...\")"
   ]
  },
  {
   "cell_type": "markdown",
   "id": "74d9e075",
   "metadata": {},
   "source": [
    "## Conclusion and Future Work\n",
    "\n",
    "### Key Contributions\n",
    "1. **Novel Application**: First comprehensive GAT implementation for EEG seizure detection\n",
    "2. **Spatial Modeling**: Explicit incorporation of electrode spatial relationships\n",
    "3. **Multi-Head Attention**: Learning diverse electrode interaction patterns\n",
    "4. **Comprehensive Evaluation**: Comparison with multiple baselines and configurations\n",
    "\n",
    "### Future Improvements\n",
    "1. **Dynamic Graphs**: Time-varying electrode connectivity\n",
    "2. **Hierarchical Attention**: Multi-scale spatial relationships (local regions + global)\n",
    "3. **Temporal GAT**: Graph attention across time steps for sequential modeling\n",
    "4. **Multi-Modal Fusion**: Combine with other neuroimaging modalities\n",
    "5. **Interpretability**: Enhanced visualization of attention patterns\n",
    "6. **Real-time Processing**: Optimizations for online seizure detection\n",
    "\n",
    "### Clinical Relevance\n",
    "- **Improved Accuracy**: Better seizure detection for patient monitoring\n",
    "- **Interpretability**: Attention weights provide insights into seizure patterns\n",
    "- **Generalization**: Spatial modeling may improve across-patient performance\n",
    "- **Efficiency**: Graph structure enables efficient processing of EEG data\n",
    "\n",
    "### References\n",
    "- Veličković, P., et al. \"Graph attention networks.\" ICLR 2018.\n",
    "- Shoeb, A. H. \"Application of machine learning to epileptic seizure onset detection and treatment.\" PhD thesis, MIT, 2009.\n",
    "- Temple University Hospital EEG Seizure Corpus (TUSZ)"
   ]
  }
 ],
 "metadata": {
  "kernelspec": {
   "display_name": "Python 3 (ipykernel)",
   "language": "python",
   "name": "python3"
  },
  "language_info": {
   "codemirror_mode": {
    "name": "ipython",
    "version": 3
   },
   "file_extension": ".py",
   "mimetype": "text/x-python",
   "name": "python",
   "nbconvert_exporter": "python",
   "pygments_lexer": "ipython3",
   "version": "3.10.4"
  }
 },
 "nbformat": 4,
 "nbformat_minor": 5
}
